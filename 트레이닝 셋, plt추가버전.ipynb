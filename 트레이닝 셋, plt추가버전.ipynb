{
  "cells": [
    {
      "cell_type": "markdown",
      "metadata": {
        "id": "view-in-github",
        "colab_type": "text"
      },
      "source": [
        "<a href=\"https://colab.research.google.com/github/sexymetra/Ai-project/blob/LeeSangHyuck/%ED%8A%B8%EB%A0%88%EC%9D%B4%EB%8B%9D%20%EC%85%8B%2C%20plt%EC%B6%94%EA%B0%80%EB%B2%84%EC%A0%84.ipynb\" target=\"_parent\"><img src=\"https://colab.research.google.com/assets/colab-badge.svg\" alt=\"Open In Colab\"/></a>"
      ]
    },
    {
      "cell_type": "markdown",
      "id": "e1f053f9",
      "metadata": {
        "id": "e1f053f9"
      },
      "source": [
        "##### 베이스라인은 참고용 코드 입니다. 여러분 만의 고도화된 모델을 만들어 주세요"
      ]
    },
    {
      "cell_type": "markdown",
      "id": "f7444f30-0883-4a87-8e00-c5e5591a2a26",
      "metadata": {
        "id": "f7444f30-0883-4a87-8e00-c5e5591a2a26"
      },
      "source": [
        "## Import"
      ]
    },
    {
      "cell_type": "code",
      "execution_count": 117,
      "id": "b85832b1-9f31-41e4-b934-cc260e5b3b1d",
      "metadata": {
        "id": "b85832b1-9f31-41e4-b934-cc260e5b3b1d"
      },
      "outputs": [],
      "source": [
        "import pandas as pd\n",
        "import numpy as np\n",
        "from tqdm import tqdm\n",
        "\n",
        "import torch\n",
        "import torch.nn as nn\n",
        "import torch.optim as optim\n",
        "import torch.nn.functional as F\n",
        "from torch.utils.data import Dataset, DataLoader\n",
        "\n",
        "device = torch.device('cuda') if torch.cuda.is_available() else torch.device('cpu')\n",
        "\n",
        "#하이퍼 파라미터\n",
        "CFG = {\n",
        "    'EPOCHS':30,\n",
        "    'LEARNING_RATE':1e-3,\n",
        "    'BATCH_SIZE' : 128\n",
        "}\n"
      ]
    },
    {
      "cell_type": "markdown",
      "id": "7d68c38e",
      "metadata": {
        "id": "7d68c38e"
      },
      "source": [
        "### 데이터 불러오기"
      ]
    },
    {
      "cell_type": "code",
      "execution_count": 37,
      "id": "e3b89389",
      "metadata": {
        "id": "e3b89389",
        "colab": {
          "base_uri": "https://localhost:8080/"
        },
        "outputId": "090309c9-cda2-4ceb-c057-2e081cd820d6"
      },
      "outputs": [
        {
          "output_type": "stream",
          "name": "stdout",
          "text": [
            "Drive already mounted at /content/drive; to attempt to forcibly remount, call drive.mount(\"/content/drive\", force_remount=True).\n"
          ]
        }
      ],
      "source": [
        "from google.colab import drive\n",
        "drive.mount('/content/drive')\n",
        "\n",
        "train_data = pd.read_csv(\"/content/drive/MyDrive/data/data/train_data.csv\")\n",
        "sample_submission = pd.read_csv(\"/content/drive/MyDrive/data/data/sample_submission.csv\")\n"
      ]
    },
    {
      "cell_type": "markdown",
      "source": [
        "### 데이터 검사하기\n",
        "각각의 결측치들을 맞게 바꿈\n",
        "filter1 전력이 0 일때는 풍속이 2.5이상일 수 없다. -> \n",
        "전력이 0이고 풍속이 2.5이상일때, 다 풍속 0 으로 바꿨음\n"
      ],
      "metadata": {
        "id": "TufdhWkdbCzY"
      },
      "id": "TufdhWkdbCzY"
    },
    {
      "cell_type": "code",
      "source": [
        "#각각의 결측치들을 맞게 바꿈\n",
        "#filter1 전력이 0 일때는 풍속이 2.5이상일 수 없다. -> 전력이 0이고 풍속이 2.5이상일때, 다 풍속 0 으로 바꿨음\n",
        "#filter1 = (train_data['Patv']<=0) & (train_data['Wspd']>2.5)\n",
        "#train_data['Wspd'][filter1] = 0\n",
        "\n",
        "#filter2 Pab1,2,3은 각각 89를 초과하면 안된다. -> Pab를 0으로 만들면 안될 것 같아서 NAN으로 만들고 있다가 보간해주기\n",
        "#filter2 = (train_data['Pab1']>89)|(train_data['Pab2']>89)|(train_data['Pab3']>89)\n",
        "#train_data['Pab1'][filter2] = np.NAN\n",
        "#train_data['Pab2'][filter2] = np.NAN\n",
        "#train_data['Pab3'][filter2] = np.NAN\n",
        "\n",
        "#filter3 Ndir은 720을 초과하거나 -720보다 작아지면 안된다. 결측값이 별로 없으니까 720으로 나눈 나머지로 해도 될듯\n",
        "#filter3 = (train_data['Ndir']>720)|(train_data['Ndir']<-720)\n",
        "#train_data['Ndir'][filter3] = train_data['Ndir'][filter3]%720\n",
        "\n",
        "#filter4 Wdir도 마찬가지\n",
        "#filter4 = (train_data['Wdir']>180)|(train_data['Wdir']<-180)\n",
        "#train_data['Wdir'][filter4] = train_data['Wdir'][filter4]%180\n"
      ],
      "metadata": {
        "id": "lOyvz6qYa73V"
      },
      "id": "lOyvz6qYa73V",
      "execution_count": 38,
      "outputs": []
    },
    {
      "cell_type": "markdown",
      "id": "d21e80a6",
      "metadata": {
        "id": "d21e80a6"
      },
      "source": [
        "### 데이터 전처리"
      ]
    },
    {
      "cell_type": "code",
      "execution_count": 39,
      "id": "f71d1927",
      "metadata": {
        "id": "f71d1927"
      },
      "outputs": [],
      "source": [
        "#결측치 0으로 만들기\n",
        "train_data = train_data.fillna(0)\n",
        "\n",
        "#3번째에 결측치를 평균으로 만들어 봄\n",
        "#결측치 평균으로 만들기\n",
        "#train_data = train_data.interpolate(method = 'linear')\n",
        "#train_data = train_data.fillna(0)\n",
        "#Pab1,2,3정리\n",
        "train_data['Pab'] = train_data.loc[:,'Pab1':'Pab3'].median(axis=1) #Pad1,2,3의 중앙값으로 Pad설정\n",
        "train_data.drop(train_data.loc[:,'Pab1':'Pab3'],axis=1,inplace = True) #Pad1,2,3 삭제\n",
        "train_data = train_data.reindex(columns = ['TurbID','Day','Tmstamp','Wspd','Wdir','Etmp','Itmp','Ndir','Pab','Prtv','Patv']) #원래 순서로 행 정렬\n",
        "\n"
      ]
    },
    {
      "cell_type": "code",
      "execution_count": 40,
      "id": "f9b5f8d0",
      "metadata": {
        "id": "f9b5f8d0"
      },
      "outputs": [],
      "source": [
        "def make_train_data(data):\n",
        "    train_x, train_y = [], []\n",
        "    for i in tqdm(sorted(pd.unique(data[\"TurbID\"]))):\n",
        "        tmp_data = data[data[\"TurbID\"] == i]\n",
        "        for j in range(1, 201 - 6):\n",
        "            \n",
        "            # train data ==> 5일 단위\n",
        "            # label data ==> 2일 단위\n",
        "            day_list = [x for x in range(j, j+ 5)]\n",
        "            label_day_list = [y for y in range(j+5, j + 7)]\n",
        "            \n",
        "            train_tmp = tmp_data[tmp_data[\"Day\"].isin(day_list)]\n",
        "            label_tmp = tmp_data[tmp_data[\"Day\"].isin(label_day_list)][\"Patv\"]\n",
        "            \n",
        "            # feature 선택 및 제거\n",
        "            train_tmp = train_tmp.drop([\"TurbID\", \"Day\"], axis = 1)\n",
        "            \n",
        "            train_x.append(np.array(train_tmp))\n",
        "            train_y.append(np.array(label_tmp))\n",
        "            \n",
        "    return train_x, train_y"
      ]
    },
    {
      "cell_type": "code",
      "execution_count": 41,
      "id": "0651c3af",
      "metadata": {
        "colab": {
          "base_uri": "https://localhost:8080/"
        },
        "id": "0651c3af",
        "outputId": "565e5d17-6569-4842-b937-85c9a10cd293"
      },
      "outputs": [
        {
          "output_type": "stream",
          "name": "stderr",
          "text": [
            "100%|██████████| 134/134 [00:49<00:00,  2.71it/s]\n"
          ]
        }
      ],
      "source": [
        "# Feature 중 Tmstamp 정수로 변환\n",
        "tms_list = list(pd.unique(train_data[\"Tmstamp\"]))\n",
        "\n",
        "train_data[\"Tmstamp\"] = train_data[\"Tmstamp\"].apply(lambda x : tms_list.index(x) + 1)\n",
        "\n",
        "train_x, train_y = make_train_data(train_data)"
      ]
    },
    {
      "cell_type": "code",
      "execution_count": 42,
      "id": "e79b8f87",
      "metadata": {
        "id": "e79b8f87"
      },
      "outputs": [],
      "source": [
        "train_x = np.array(train_x).reshape(-1, train_x[0].shape[0], train_x[0].shape[1])\n",
        "train_y = np.array(train_y)"
      ]
    },
    {
      "cell_type": "code",
      "execution_count": 43,
      "id": "58783120",
      "metadata": {
        "colab": {
          "base_uri": "https://localhost:8080/"
        },
        "id": "58783120",
        "outputId": "3dbe6c8a-9ffc-4945-edbe-ee122bea157b"
      },
      "outputs": [
        {
          "output_type": "execute_result",
          "data": {
            "text/plain": [
              "((25996, 720, 9), (25996, 288))"
            ]
          },
          "metadata": {},
          "execution_count": 43
        }
      ],
      "source": [
        "train_x.shape, train_y.shape"
      ]
    },
    {
      "cell_type": "markdown",
      "source": [
        "Validation_set 나누기"
      ],
      "metadata": {
        "id": "ZuJ-7vUfC5XM"
      },
      "id": "ZuJ-7vUfC5XM"
    },
    {
      "cell_type": "code",
      "source": [
        "import sklearn"
      ],
      "metadata": {
        "id": "jd4aOxVMGMMt"
      },
      "id": "jd4aOxVMGMMt",
      "execution_count": null,
      "outputs": []
    },
    {
      "cell_type": "code",
      "source": [
        "from sklearn.model_selection import train_test_split\n",
        "\n",
        "X_train, X_test, Y_train, Y_test = train_test_split(train_x, train_y, test_size=0.2, random_state=100)\n",
        "\n",
        "\n"
      ],
      "metadata": {
        "id": "UeM8GCIQC4wW"
      },
      "id": "UeM8GCIQC4wW",
      "execution_count": 53,
      "outputs": []
    },
    {
      "cell_type": "code",
      "source": [
        "X_train.shape"
      ],
      "metadata": {
        "id": "7NG4mhh6HiTz",
        "outputId": "f69d2c6d-2d55-40a1-9051-51bdf414f7b4",
        "colab": {
          "base_uri": "https://localhost:8080/"
        }
      },
      "id": "7NG4mhh6HiTz",
      "execution_count": 54,
      "outputs": [
        {
          "output_type": "execute_result",
          "data": {
            "text/plain": [
              "(20796, 720, 9)"
            ]
          },
          "metadata": {},
          "execution_count": 54
        }
      ]
    },
    {
      "cell_type": "code",
      "source": [
        "Y_train.shape"
      ],
      "metadata": {
        "id": "1gs_YVnjHz36",
        "outputId": "5ac84f7a-1896-4409-ff34-3ffd522d82fc",
        "colab": {
          "base_uri": "https://localhost:8080/"
        }
      },
      "id": "1gs_YVnjHz36",
      "execution_count": 56,
      "outputs": [
        {
          "output_type": "execute_result",
          "data": {
            "text/plain": [
              "(20796, 288)"
            ]
          },
          "metadata": {},
          "execution_count": 56
        }
      ]
    },
    {
      "cell_type": "code",
      "source": [
        "X_test.shape"
      ],
      "metadata": {
        "id": "Yqg0HF6cHm3K",
        "outputId": "bc06a7ae-5753-4309-a9d8-19c7a27f6c29",
        "colab": {
          "base_uri": "https://localhost:8080/"
        }
      },
      "id": "Yqg0HF6cHm3K",
      "execution_count": 55,
      "outputs": [
        {
          "output_type": "execute_result",
          "data": {
            "text/plain": [
              "(5200, 720, 9)"
            ]
          },
          "metadata": {},
          "execution_count": 55
        }
      ]
    },
    {
      "cell_type": "code",
      "source": [
        "Y_test.shape"
      ],
      "metadata": {
        "id": "TCDGS52aH2tz",
        "outputId": "aa7bf9ed-b894-49a5-ddaa-72056d5f4fda",
        "colab": {
          "base_uri": "https://localhost:8080/"
        }
      },
      "id": "TCDGS52aH2tz",
      "execution_count": 57,
      "outputs": [
        {
          "output_type": "execute_result",
          "data": {
            "text/plain": [
              "(5200, 288)"
            ]
          },
          "metadata": {},
          "execution_count": 57
        }
      ]
    },
    {
      "cell_type": "markdown",
      "id": "3b2f3d76-fcf4-4866-a578-6bb76783bbed",
      "metadata": {
        "id": "3b2f3d76-fcf4-4866-a578-6bb76783bbed"
      },
      "source": [
        "### Custom Dataset"
      ]
    },
    {
      "cell_type": "code",
      "execution_count": 9,
      "id": "4ec0a970-4d99-486d-b9b5-210f3cdca353",
      "metadata": {
        "id": "4ec0a970-4d99-486d-b9b5-210f3cdca353"
      },
      "outputs": [],
      "source": [
        "class CustomDataset(Dataset):\n",
        "    def __init__(self, X, Y):\n",
        "        self.X = X\n",
        "        self.Y = Y\n",
        "        \n",
        "    def __getitem__(self, index):\n",
        "        if self.Y is not None:\n",
        "            return torch.Tensor(self.X[index]), torch.Tensor(self.Y[index])\n",
        "        return torch.Tensor(self.X[index])\n",
        "    \n",
        "    def __len__(self):\n",
        "        return len(self.X)"
      ]
    },
    {
      "cell_type": "code",
      "execution_count": 10,
      "id": "3614347b-da14-466f-9d04-b81e5448a9bd",
      "metadata": {
        "id": "3614347b-da14-466f-9d04-b81e5448a9bd"
      },
      "outputs": [],
      "source": [
        "train_dataset = CustomDataset(train_x, train_y)\n",
        "train_loader = DataLoader(train_dataset, batch_size = CFG['BATCH_SIZE'], shuffle=True, num_workers=0)"
      ]
    },
    {
      "cell_type": "markdown",
      "id": "c63f0b66-817d-49ff-9163-a975fb0f239d",
      "metadata": {
        "id": "c63f0b66-817d-49ff-9163-a975fb0f239d"
      },
      "source": [
        "### 모델 선언"
      ]
    },
    {
      "cell_type": "code",
      "execution_count": 118,
      "id": "7927d7ef-e6dd-4ac4-8b89-e3a216c37e5a",
      "metadata": {
        "id": "7927d7ef-e6dd-4ac4-8b89-e3a216c37e5a"
      },
      "outputs": [],
      "source": [
        "class BaseModel(nn.Module):\n",
        "    def __init__(self):\n",
        "        super(BaseModel, self).__init__()\n",
        "        self.gru = nn.GRU(input_size=9, hidden_size=256, batch_first=True,dropout=0.3,bidirectional=False)\n",
        "        self.classifier = nn.Sequential(\n",
        "            nn.Linear(256,516),\n",
        "            nn.ReLU(),\n",
        "            nn.Linear(516,288),\n",
        "            nn.ReLU()\n",
        "        )\n",
        "        \n",
        "    def forward(self, x):\n",
        "        hidden, _ = self.gru(x)\n",
        "        output = self.classifier(hidden[:,-1,:])\n",
        "        return output"
      ]
    },
    {
      "cell_type": "markdown",
      "id": "b4f79f7d",
      "metadata": {
        "id": "b4f79f7d"
      },
      "source": [
        "### 모델 학습"
      ]
    },
    {
      "cell_type": "code",
      "execution_count": 119,
      "id": "ff73d757-32d5-4868-afbb-1b9f2ea13826",
      "metadata": {
        "id": "ff73d757-32d5-4868-afbb-1b9f2ea13826"
      },
      "outputs": [],
      "source": [
        "def train(model, optimizer, train_loader, device):\n",
        "    model.to(device)\n",
        "    criterion = nn.MSELoss().to(device)\n",
        "    metric = nn.L1Loss().to(device)#이게 L1Loss였는데 MSE로 바꿈 첫번째 버전 -> 두번째 버전\n",
        "    best_mae = 9999999\n",
        "    global L_L\n",
        "    L_L=[]\n",
        "    for epoch in range(1, CFG['EPOCHS']+1):\n",
        "        model.train()\n",
        "        train_loss = []\n",
        "        train_mae = []\n",
        "        for X, Y in tqdm(iter(train_loader)):\n",
        "            X = X.to(device)\n",
        "            Y = Y.to(device)\n",
        "            \n",
        "            optimizer.zero_grad()\n",
        "            \n",
        "            output = model(X)\n",
        "            loss = criterion(output, Y)\n",
        "            with torch.no_grad():\n",
        "                mae = metric(output, Y)\n",
        "            \n",
        "            loss.backward()\n",
        "            optimizer.step()\n",
        "            \n",
        "            train_loss.append(loss.item())\n",
        "            train_mae.append(mae.item())\n",
        "        print(f'Epoch : [{epoch}] Train Loss : [{np.mean(train_loss):.5f}] Train MAE : [{np.mean(train_mae):.5f}]')\n",
        "        \n",
        "        L_L.append(np.mean(train_loss))\n",
        "\n",
        "        if best_mae > np.mean(train_mae):\n",
        "            best_mae = np.mean(train_mae)\n",
        "            torch.save(model.state_dict(), './best_model.pth', _use_new_zipfile_serialization=False)\n",
        "            print('Model Saved.')"
      ]
    },
    {
      "cell_type": "code",
      "execution_count": 120,
      "id": "a1570b00-a309-4e5e-b53d-5848ba53eb19",
      "metadata": {
        "id": "a1570b00-a309-4e5e-b53d-5848ba53eb19",
        "outputId": "8d4b479e-0cf3-47ca-b975-b16b17056c30",
        "colab": {
          "base_uri": "https://localhost:8080/",
          "height": 1000
        }
      },
      "outputs": [
        {
          "output_type": "stream",
          "name": "stderr",
          "text": [
            "/usr/local/lib/python3.7/dist-packages/torch/nn/modules/rnn.py:65: UserWarning: dropout option adds dropout after all but last recurrent layer, so non-zero dropout expects num_layers greater than 1, but got dropout=0.3 and num_layers=1\n",
            "  \"num_layers={}\".format(dropout, num_layers))\n",
            "100%|██████████| 204/204 [00:15<00:00, 13.06it/s]\n"
          ]
        },
        {
          "output_type": "stream",
          "name": "stdout",
          "text": [
            "Epoch : [1] Train Loss : [192886.26639] Train MAE : [331.86709]\n",
            "Model Saved.\n"
          ]
        },
        {
          "output_type": "stream",
          "name": "stderr",
          "text": [
            "100%|██████████| 204/204 [00:15<00:00, 13.28it/s]\n"
          ]
        },
        {
          "output_type": "stream",
          "name": "stdout",
          "text": [
            "Epoch : [2] Train Loss : [161412.63151] Train MAE : [315.53376]\n",
            "Model Saved.\n"
          ]
        },
        {
          "output_type": "stream",
          "name": "stderr",
          "text": [
            "100%|██████████| 204/204 [00:15<00:00, 13.17it/s]\n"
          ]
        },
        {
          "output_type": "stream",
          "name": "stdout",
          "text": [
            "Epoch : [3] Train Loss : [148330.03776] Train MAE : [299.53452]\n",
            "Model Saved.\n"
          ]
        },
        {
          "output_type": "stream",
          "name": "stderr",
          "text": [
            "100%|██████████| 204/204 [00:15<00:00, 13.09it/s]\n"
          ]
        },
        {
          "output_type": "stream",
          "name": "stdout",
          "text": [
            "Epoch : [4] Train Loss : [135328.53646] Train MAE : [282.56157]\n",
            "Model Saved.\n"
          ]
        },
        {
          "output_type": "stream",
          "name": "stderr",
          "text": [
            "100%|██████████| 204/204 [00:15<00:00, 13.03it/s]\n"
          ]
        },
        {
          "output_type": "stream",
          "name": "stdout",
          "text": [
            "Epoch : [5] Train Loss : [127806.45121] Train MAE : [272.14067]\n",
            "Model Saved.\n"
          ]
        },
        {
          "output_type": "stream",
          "name": "stderr",
          "text": [
            "100%|██████████| 204/204 [00:15<00:00, 12.93it/s]\n"
          ]
        },
        {
          "output_type": "stream",
          "name": "stdout",
          "text": [
            "Epoch : [6] Train Loss : [122090.41900] Train MAE : [264.50179]\n",
            "Model Saved.\n"
          ]
        },
        {
          "output_type": "stream",
          "name": "stderr",
          "text": [
            "100%|██████████| 204/204 [00:15<00:00, 12.79it/s]\n"
          ]
        },
        {
          "output_type": "stream",
          "name": "stdout",
          "text": [
            "Epoch : [7] Train Loss : [118627.03841] Train MAE : [259.64620]\n",
            "Model Saved.\n"
          ]
        },
        {
          "output_type": "stream",
          "name": "stderr",
          "text": [
            "100%|██████████| 204/204 [00:15<00:00, 12.83it/s]\n"
          ]
        },
        {
          "output_type": "stream",
          "name": "stdout",
          "text": [
            "Epoch : [8] Train Loss : [114580.11769] Train MAE : [254.26006]\n",
            "Model Saved.\n"
          ]
        },
        {
          "output_type": "stream",
          "name": "stderr",
          "text": [
            "100%|██████████| 204/204 [00:15<00:00, 12.83it/s]\n"
          ]
        },
        {
          "output_type": "stream",
          "name": "stdout",
          "text": [
            "Epoch : [9] Train Loss : [111421.52397] Train MAE : [249.98101]\n",
            "Model Saved.\n"
          ]
        },
        {
          "output_type": "stream",
          "name": "stderr",
          "text": [
            "100%|██████████| 204/204 [00:16<00:00, 12.72it/s]\n"
          ]
        },
        {
          "output_type": "stream",
          "name": "stdout",
          "text": [
            "Epoch : [10] Train Loss : [107567.72469] Train MAE : [244.48552]\n",
            "Model Saved.\n"
          ]
        },
        {
          "output_type": "stream",
          "name": "stderr",
          "text": [
            "100%|██████████| 204/204 [00:16<00:00, 12.40it/s]\n"
          ]
        },
        {
          "output_type": "stream",
          "name": "stdout",
          "text": [
            "Epoch : [11] Train Loss : [104333.04059] Train MAE : [239.81837]\n",
            "Model Saved.\n"
          ]
        },
        {
          "output_type": "stream",
          "name": "stderr",
          "text": [
            "100%|██████████| 204/204 [00:16<00:00, 12.38it/s]\n"
          ]
        },
        {
          "output_type": "stream",
          "name": "stdout",
          "text": [
            "Epoch : [12] Train Loss : [100479.24383] Train MAE : [234.40726]\n",
            "Model Saved.\n"
          ]
        },
        {
          "output_type": "stream",
          "name": "stderr",
          "text": [
            "100%|██████████| 204/204 [00:16<00:00, 12.35it/s]\n"
          ]
        },
        {
          "output_type": "stream",
          "name": "stdout",
          "text": [
            "Epoch : [13] Train Loss : [96826.39480] Train MAE : [229.14531]\n",
            "Model Saved.\n"
          ]
        },
        {
          "output_type": "stream",
          "name": "stderr",
          "text": [
            "100%|██████████| 204/204 [00:16<00:00, 12.37it/s]\n"
          ]
        },
        {
          "output_type": "stream",
          "name": "stdout",
          "text": [
            "Epoch : [14] Train Loss : [93100.37420] Train MAE : [223.30648]\n",
            "Model Saved.\n"
          ]
        },
        {
          "output_type": "stream",
          "name": "stderr",
          "text": [
            "100%|██████████| 204/204 [00:16<00:00, 12.34it/s]\n"
          ]
        },
        {
          "output_type": "stream",
          "name": "stdout",
          "text": [
            "Epoch : [15] Train Loss : [89635.44053] Train MAE : [218.22109]\n",
            "Model Saved.\n"
          ]
        },
        {
          "output_type": "stream",
          "name": "stderr",
          "text": [
            "100%|██████████| 204/204 [00:16<00:00, 12.38it/s]\n"
          ]
        },
        {
          "output_type": "stream",
          "name": "stdout",
          "text": [
            "Epoch : [16] Train Loss : [85821.15916] Train MAE : [212.37130]\n",
            "Model Saved.\n"
          ]
        },
        {
          "output_type": "stream",
          "name": "stderr",
          "text": [
            " 35%|███▍      | 71/204 [00:05<00:10, 12.25it/s]\n"
          ]
        },
        {
          "output_type": "error",
          "ename": "KeyboardInterrupt",
          "evalue": "ignored",
          "traceback": [
            "\u001b[0;31m---------------------------------------------------------------------------\u001b[0m",
            "\u001b[0;31mKeyboardInterrupt\u001b[0m                         Traceback (most recent call last)",
            "\u001b[0;32m<ipython-input-120-15b0a232cbf4>\u001b[0m in \u001b[0;36m<module>\u001b[0;34m()\u001b[0m\n\u001b[1;32m      2\u001b[0m \u001b[0mmodel\u001b[0m\u001b[0;34m.\u001b[0m\u001b[0meval\u001b[0m\u001b[0;34m(\u001b[0m\u001b[0;34m)\u001b[0m\u001b[0;34m\u001b[0m\u001b[0;34m\u001b[0m\u001b[0m\n\u001b[1;32m      3\u001b[0m \u001b[0moptimizer\u001b[0m \u001b[0;34m=\u001b[0m \u001b[0mtorch\u001b[0m\u001b[0;34m.\u001b[0m\u001b[0moptim\u001b[0m\u001b[0;34m.\u001b[0m\u001b[0mAdam\u001b[0m\u001b[0;34m(\u001b[0m\u001b[0mparams\u001b[0m \u001b[0;34m=\u001b[0m \u001b[0mmodel\u001b[0m\u001b[0;34m.\u001b[0m\u001b[0mparameters\u001b[0m\u001b[0;34m(\u001b[0m\u001b[0;34m)\u001b[0m\u001b[0;34m,\u001b[0m \u001b[0mlr\u001b[0m \u001b[0;34m=\u001b[0m \u001b[0mCFG\u001b[0m\u001b[0;34m[\u001b[0m\u001b[0;34m\"LEARNING_RATE\"\u001b[0m\u001b[0;34m]\u001b[0m\u001b[0;34m)\u001b[0m\u001b[0;34m\u001b[0m\u001b[0;34m\u001b[0m\u001b[0m\n\u001b[0;32m----> 4\u001b[0;31m \u001b[0mtrain\u001b[0m\u001b[0;34m(\u001b[0m\u001b[0mmodel\u001b[0m\u001b[0;34m,\u001b[0m \u001b[0moptimizer\u001b[0m\u001b[0;34m,\u001b[0m \u001b[0mtrain_loader\u001b[0m\u001b[0;34m,\u001b[0m \u001b[0mdevice\u001b[0m\u001b[0;34m)\u001b[0m\u001b[0;34m\u001b[0m\u001b[0;34m\u001b[0m\u001b[0m\n\u001b[0m",
            "\u001b[0;32m<ipython-input-119-4fa7698b97a9>\u001b[0m in \u001b[0;36mtrain\u001b[0;34m(model, optimizer, train_loader, device)\u001b[0m\n\u001b[1;32m     21\u001b[0m                 \u001b[0mmae\u001b[0m \u001b[0;34m=\u001b[0m \u001b[0mmetric\u001b[0m\u001b[0;34m(\u001b[0m\u001b[0moutput\u001b[0m\u001b[0;34m,\u001b[0m \u001b[0mY\u001b[0m\u001b[0;34m)\u001b[0m\u001b[0;34m\u001b[0m\u001b[0;34m\u001b[0m\u001b[0m\n\u001b[1;32m     22\u001b[0m \u001b[0;34m\u001b[0m\u001b[0m\n\u001b[0;32m---> 23\u001b[0;31m             \u001b[0mloss\u001b[0m\u001b[0;34m.\u001b[0m\u001b[0mbackward\u001b[0m\u001b[0;34m(\u001b[0m\u001b[0;34m)\u001b[0m\u001b[0;34m\u001b[0m\u001b[0;34m\u001b[0m\u001b[0m\n\u001b[0m\u001b[1;32m     24\u001b[0m             \u001b[0moptimizer\u001b[0m\u001b[0;34m.\u001b[0m\u001b[0mstep\u001b[0m\u001b[0;34m(\u001b[0m\u001b[0;34m)\u001b[0m\u001b[0;34m\u001b[0m\u001b[0;34m\u001b[0m\u001b[0m\n\u001b[1;32m     25\u001b[0m \u001b[0;34m\u001b[0m\u001b[0m\n",
            "\u001b[0;32m/usr/local/lib/python3.7/dist-packages/torch/_tensor.py\u001b[0m in \u001b[0;36mbackward\u001b[0;34m(self, gradient, retain_graph, create_graph, inputs)\u001b[0m\n\u001b[1;32m    394\u001b[0m                 \u001b[0mcreate_graph\u001b[0m\u001b[0;34m=\u001b[0m\u001b[0mcreate_graph\u001b[0m\u001b[0;34m,\u001b[0m\u001b[0;34m\u001b[0m\u001b[0;34m\u001b[0m\u001b[0m\n\u001b[1;32m    395\u001b[0m                 inputs=inputs)\n\u001b[0;32m--> 396\u001b[0;31m         \u001b[0mtorch\u001b[0m\u001b[0;34m.\u001b[0m\u001b[0mautograd\u001b[0m\u001b[0;34m.\u001b[0m\u001b[0mbackward\u001b[0m\u001b[0;34m(\u001b[0m\u001b[0mself\u001b[0m\u001b[0;34m,\u001b[0m \u001b[0mgradient\u001b[0m\u001b[0;34m,\u001b[0m \u001b[0mretain_graph\u001b[0m\u001b[0;34m,\u001b[0m \u001b[0mcreate_graph\u001b[0m\u001b[0;34m,\u001b[0m \u001b[0minputs\u001b[0m\u001b[0;34m=\u001b[0m\u001b[0minputs\u001b[0m\u001b[0;34m)\u001b[0m\u001b[0;34m\u001b[0m\u001b[0;34m\u001b[0m\u001b[0m\n\u001b[0m\u001b[1;32m    397\u001b[0m \u001b[0;34m\u001b[0m\u001b[0m\n\u001b[1;32m    398\u001b[0m     \u001b[0;32mdef\u001b[0m \u001b[0mregister_hook\u001b[0m\u001b[0;34m(\u001b[0m\u001b[0mself\u001b[0m\u001b[0;34m,\u001b[0m \u001b[0mhook\u001b[0m\u001b[0;34m)\u001b[0m\u001b[0;34m:\u001b[0m\u001b[0;34m\u001b[0m\u001b[0;34m\u001b[0m\u001b[0m\n",
            "\u001b[0;32m/usr/local/lib/python3.7/dist-packages/torch/autograd/__init__.py\u001b[0m in \u001b[0;36mbackward\u001b[0;34m(tensors, grad_tensors, retain_graph, create_graph, grad_variables, inputs)\u001b[0m\n\u001b[1;32m    173\u001b[0m     Variable._execution_engine.run_backward(  # Calls into the C++ engine to run the backward pass\n\u001b[1;32m    174\u001b[0m         \u001b[0mtensors\u001b[0m\u001b[0;34m,\u001b[0m \u001b[0mgrad_tensors_\u001b[0m\u001b[0;34m,\u001b[0m \u001b[0mretain_graph\u001b[0m\u001b[0;34m,\u001b[0m \u001b[0mcreate_graph\u001b[0m\u001b[0;34m,\u001b[0m \u001b[0minputs\u001b[0m\u001b[0;34m,\u001b[0m\u001b[0;34m\u001b[0m\u001b[0;34m\u001b[0m\u001b[0m\n\u001b[0;32m--> 175\u001b[0;31m         allow_unreachable=True, accumulate_grad=True)  # Calls into the C++ engine to run the backward pass\n\u001b[0m\u001b[1;32m    176\u001b[0m \u001b[0;34m\u001b[0m\u001b[0m\n\u001b[1;32m    177\u001b[0m def grad(\n",
            "\u001b[0;31mKeyboardInterrupt\u001b[0m: "
          ]
        }
      ],
      "source": [
        "model = BaseModel()\n",
        "model.eval()\n",
        "optimizer = torch.optim.Adam(params = model.parameters(), lr = CFG[\"LEARNING_RATE\"])\n",
        "train(model, optimizer, train_loader, device)"
      ]
    },
    {
      "cell_type": "code",
      "source": [
        ""
      ],
      "metadata": {
        "id": "4i78JfADYOzj"
      },
      "id": "4i78JfADYOzj",
      "execution_count": null,
      "outputs": []
    },
    {
      "cell_type": "code",
      "source": [
        "import matplotlib.pyplot as plt\n",
        "\n",
        "plt.plot(L_L)"
      ],
      "metadata": {
        "id": "yxl26AXsXIBo",
        "outputId": "f21c038e-39e2-4359-a3cc-818e9784bcc1",
        "colab": {
          "base_uri": "https://localhost:8080/",
          "height": 283
        }
      },
      "id": "yxl26AXsXIBo",
      "execution_count": 121,
      "outputs": [
        {
          "output_type": "execute_result",
          "data": {
            "text/plain": [
              "[<matplotlib.lines.Line2D at 0x7f4246f9f050>]"
            ]
          },
          "metadata": {},
          "execution_count": 121
        },
        {
          "output_type": "display_data",
          "data": {
            "text/plain": [
              "<Figure size 432x288 with 1 Axes>"
            ],
            "image/png": "[encoded data removed]"
          },
          "metadata": {
            "needs_background": "light"
          }
        }
      ]
    },
    {
      "cell_type": "markdown",
      "id": "4d51f726",
      "metadata": {
        "id": "4d51f726"
      },
      "source": [
        "### 201일, 202일 Patv 추론"
      ]
    },
    {
      "cell_type": "code",
      "execution_count": 81,
      "id": "a4008519",
      "metadata": {
        "id": "a4008519"
      },
      "outputs": [],
      "source": [
        "test_data_list = [x for x in range(196, 201)]\n",
        "\n",
        "test_data = train_data[train_data[\"Day\"].isin(test_data_list)]\n",
        "\n",
        "test_data = test_data.drop([\"TurbID\", \"Day\"], axis = 1)\n",
        "\n",
        "test_data = np.array(test_data).reshape(-1, train_x[0].shape[0], train_x[0].shape[1])"
      ]
    },
    {
      "cell_type": "code",
      "execution_count": 82,
      "id": "c781b396",
      "metadata": {
        "id": "c781b396",
        "outputId": "17068182-d2a0-4af6-fd2c-d941c994b85a",
        "colab": {
          "base_uri": "https://localhost:8080/"
        }
      },
      "outputs": [
        {
          "output_type": "execute_result",
          "data": {
            "text/plain": [
              "(134, 720, 9)"
            ]
          },
          "metadata": {},
          "execution_count": 82
        }
      ],
      "source": [
        "test_data.shape"
      ]
    },
    {
      "cell_type": "code",
      "execution_count": 83,
      "id": "08cffe8c-d5b1-44c1-82de-5d24bba48d8a",
      "metadata": {
        "id": "08cffe8c-d5b1-44c1-82de-5d24bba48d8a"
      },
      "outputs": [],
      "source": [
        "test_dataset = CustomDataset(test_data, None)\n",
        "test_loader = DataLoader(test_dataset, batch_size = CFG['BATCH_SIZE'], shuffle=False, num_workers=0)"
      ]
    },
    {
      "cell_type": "code",
      "execution_count": 84,
      "id": "40fe74ac-8b5b-4e7e-97af-979063004b6f",
      "metadata": {
        "id": "40fe74ac-8b5b-4e7e-97af-979063004b6f"
      },
      "outputs": [],
      "source": [
        "def predict(model, test_loader, device):\n",
        "    model.to(device)\n",
        "    model.eval()\n",
        "    preds = []\n",
        "    with torch.no_grad():\n",
        "        for X in tqdm(iter(test_loader)):\n",
        "            X = X.to(device)\n",
        "            \n",
        "            pred = model(X)\n",
        "            preds += pred.cpu().tolist()\n",
        "    \n",
        "    return np.array(preds)"
      ]
    },
    {
      "cell_type": "markdown",
      "id": "38b0ab2f-8914-4563-88b9-078addd003e2",
      "metadata": {
        "id": "38b0ab2f-8914-4563-88b9-078addd003e2"
      },
      "source": [
        "### Model Load"
      ]
    },
    {
      "cell_type": "code",
      "execution_count": 85,
      "id": "3ad3a476-9985-4935-961a-5b50f2016bd3",
      "metadata": {
        "id": "3ad3a476-9985-4935-961a-5b50f2016bd3",
        "outputId": "a667d54b-9ecf-48a9-b981-efd75770d5d1",
        "colab": {
          "base_uri": "https://localhost:8080/"
        }
      },
      "outputs": [
        {
          "output_type": "stream",
          "name": "stderr",
          "text": [
            "/usr/local/lib/python3.7/dist-packages/torch/nn/modules/rnn.py:65: UserWarning: dropout option adds dropout after all but last recurrent layer, so non-zero dropout expects num_layers greater than 1, but got dropout=0.3 and num_layers=1\n",
            "  \"num_layers={}\".format(dropout, num_layers))\n"
          ]
        },
        {
          "output_type": "execute_result",
          "data": {
            "text/plain": [
              "BaseModel(\n",
              "  (gru): GRU(9, 256, batch_first=True, dropout=0.3)\n",
              "  (classifier): Sequential(\n",
              "    (0): Linear(in_features=256, out_features=516, bias=True)\n",
              "    (1): ReLU()\n",
              "    (2): Linear(in_features=516, out_features=288, bias=True)\n",
              "    (3): ReLU()\n",
              "  )\n",
              ")"
            ]
          },
          "metadata": {},
          "execution_count": 85
        }
      ],
      "source": [
        "model = BaseModel()\n",
        "best_checkpoint = torch.load('./best_model.pth')\n",
        "model.load_state_dict(best_checkpoint)\n",
        "model.eval()"
      ]
    },
    {
      "cell_type": "code",
      "execution_count": 86,
      "id": "2bf732e7",
      "metadata": {
        "id": "2bf732e7",
        "outputId": "f6630a0b-9f78-4c5f-f1f6-e8a1e5c20410",
        "colab": {
          "base_uri": "https://localhost:8080/"
        }
      },
      "outputs": [
        {
          "output_type": "stream",
          "name": "stderr",
          "text": [
            "100%|██████████| 2/2 [00:00<00:00, 25.68it/s]\n"
          ]
        }
      ],
      "source": [
        "preds = predict(model, test_loader, device)\n",
        "preds = preds.reshape(-1)"
      ]
    },
    {
      "cell_type": "markdown",
      "id": "b515c3d7-b93b-4b4c-8b3d-1a5c9cba86a0",
      "metadata": {
        "id": "b515c3d7-b93b-4b4c-8b3d-1a5c9cba86a0"
      },
      "source": [
        "### Submit"
      ]
    },
    {
      "cell_type": "code",
      "execution_count": 87,
      "id": "49b74e70",
      "metadata": {
        "id": "49b74e70"
      },
      "outputs": [],
      "source": [
        "sample_submission[\"Patv\"] = preds\n",
        "sample_submission.to_csv(\"./submit.csv\", index = False)"
      ]
    },
    {
      "cell_type": "code",
      "source": [
        "sample_submission"
      ],
      "metadata": {
        "id": "9dvbZckrA9m8",
        "outputId": "017b28d6-3f49-45ac-fef5-6e253bab913f",
        "colab": {
          "base_uri": "https://localhost:8080/",
          "height": 424
        }
      },
      "id": "9dvbZckrA9m8",
      "execution_count": 88,
      "outputs": [
        {
          "output_type": "execute_result",
          "data": {
            "text/plain": [
              "       index  TurbID  Day Tmstamp  Wspd  Wdir  Etmp  Itmp  Ndir  Pab1  Pab2  \\\n",
              "0          0       1  201   00:00     0     0     0     0     0     0     0   \n",
              "1          1       1  201   00:10     0     0     0     0     0     0     0   \n",
              "2          2       1  201   00:20     0     0     0     0     0     0     0   \n",
              "3          3       1  201   00:30     0     0     0     0     0     0     0   \n",
              "4          4       1  201   00:40     0     0     0     0     0     0     0   \n",
              "...      ...     ...  ...     ...   ...   ...   ...   ...   ...   ...   ...   \n",
              "38587  38587     134  202   23:10     0     0     0     0     0     0     0   \n",
              "38588  38588     134  202   23:20     0     0     0     0     0     0     0   \n",
              "38589  38589     134  202   23:30     0     0     0     0     0     0     0   \n",
              "38590  38590     134  202   23:40     0     0     0     0     0     0     0   \n",
              "38591  38591     134  202   23:50     0     0     0     0     0     0     0   \n",
              "\n",
              "       Pab3  Prtv        Patv  \n",
              "0         0     0  178.602203  \n",
              "1         0     0  206.661453  \n",
              "2         0     0  195.783203  \n",
              "3         0     0  200.451508  \n",
              "4         0     0  208.227264  \n",
              "...     ...   ...         ...  \n",
              "38587     0     0  149.495407  \n",
              "38588     0     0  148.400696  \n",
              "38589     0     0  141.977905  \n",
              "38590     0     0  157.154999  \n",
              "38591     0     0  171.260254  \n",
              "\n",
              "[38592 rows x 14 columns]"
            ],
            "text/html": [
              "\n",
              "  <div id=\"df-cf66e3f5-ee48-4401-a3e3-4db8c56a5285\">\n",
              "    <div class=\"colab-df-container\">\n",
              "      <div>\n",
              "<style scoped>\n",
              "    .dataframe tbody tr th:only-of-type {\n",
              "        vertical-align: middle;\n",
              "    }\n",
              "\n",
              "    .dataframe tbody tr th {\n",
              "        vertical-align: top;\n",
              "    }\n",
              "\n",
              "    .dataframe thead th {\n",
              "        text-align: right;\n",
              "    }\n",
              "</style>\n",
              "<table border=\"1\" class=\"dataframe\">\n",
              "  <thead>\n",
              "    <tr style=\"text-align: right;\">\n",
              "      <th></th>\n",
              "      <th>index</th>\n",
              "      <th>TurbID</th>\n",
              "      <th>Day</th>\n",
              "      <th>Tmstamp</th>\n",
              "      <th>Wspd</th>\n",
              "      <th>Wdir</th>\n",
              "      <th>Etmp</th>\n",
              "      <th>Itmp</th>\n",
              "      <th>Ndir</th>\n",
              "      <th>Pab1</th>\n",
              "      <th>Pab2</th>\n",
              "      <th>Pab3</th>\n",
              "      <th>Prtv</th>\n",
              "      <th>Patv</th>\n",
              "    </tr>\n",
              "  </thead>\n",
              "  <tbody>\n",
              "    <tr>\n",
              "      <th>0</th>\n",
              "      <td>0</td>\n",
              "      <td>1</td>\n",
              "      <td>201</td>\n",
              "      <td>00:00</td>\n",
              "      <td>0</td>\n",
              "      <td>0</td>\n",
              "      <td>0</td>\n",
              "      <td>0</td>\n",
              "      <td>0</td>\n",
              "      <td>0</td>\n",
              "      <td>0</td>\n",
              "      <td>0</td>\n",
              "      <td>0</td>\n",
              "      <td>178.602203</td>\n",
              "    </tr>\n",
              "    <tr>\n",
              "      <th>1</th>\n",
              "      <td>1</td>\n",
              "      <td>1</td>\n",
              "      <td>201</td>\n",
              "      <td>00:10</td>\n",
              "      <td>0</td>\n",
              "      <td>0</td>\n",
              "      <td>0</td>\n",
              "      <td>0</td>\n",
              "      <td>0</td>\n",
              "      <td>0</td>\n",
              "      <td>0</td>\n",
              "      <td>0</td>\n",
              "      <td>0</td>\n",
              "      <td>206.661453</td>\n",
              "    </tr>\n",
              "    <tr>\n",
              "      <th>2</th>\n",
              "      <td>2</td>\n",
              "      <td>1</td>\n",
              "      <td>201</td>\n",
              "      <td>00:20</td>\n",
              "      <td>0</td>\n",
              "      <td>0</td>\n",
              "      <td>0</td>\n",
              "      <td>0</td>\n",
              "      <td>0</td>\n",
              "      <td>0</td>\n",
              "      <td>0</td>\n",
              "      <td>0</td>\n",
              "      <td>0</td>\n",
              "      <td>195.783203</td>\n",
              "    </tr>\n",
              "    <tr>\n",
              "      <th>3</th>\n",
              "      <td>3</td>\n",
              "      <td>1</td>\n",
              "      <td>201</td>\n",
              "      <td>00:30</td>\n",
              "      <td>0</td>\n",
              "      <td>0</td>\n",
              "      <td>0</td>\n",
              "      <td>0</td>\n",
              "      <td>0</td>\n",
              "      <td>0</td>\n",
              "      <td>0</td>\n",
              "      <td>0</td>\n",
              "      <td>0</td>\n",
              "      <td>200.451508</td>\n",
              "    </tr>\n",
              "    <tr>\n",
              "      <th>4</th>\n",
              "      <td>4</td>\n",
              "      <td>1</td>\n",
              "      <td>201</td>\n",
              "      <td>00:40</td>\n",
              "      <td>0</td>\n",
              "      <td>0</td>\n",
              "      <td>0</td>\n",
              "      <td>0</td>\n",
              "      <td>0</td>\n",
              "      <td>0</td>\n",
              "      <td>0</td>\n",
              "      <td>0</td>\n",
              "      <td>0</td>\n",
              "      <td>208.227264</td>\n",
              "    </tr>\n",
              "    <tr>\n",
              "      <th>...</th>\n",
              "      <td>...</td>\n",
              "      <td>...</td>\n",
              "      <td>...</td>\n",
              "      <td>...</td>\n",
              "      <td>...</td>\n",
              "      <td>...</td>\n",
              "      <td>...</td>\n",
              "      <td>...</td>\n",
              "      <td>...</td>\n",
              "      <td>...</td>\n",
              "      <td>...</td>\n",
              "      <td>...</td>\n",
              "      <td>...</td>\n",
              "      <td>...</td>\n",
              "    </tr>\n",
              "    <tr>\n",
              "      <th>38587</th>\n",
              "      <td>38587</td>\n",
              "      <td>134</td>\n",
              "      <td>202</td>\n",
              "      <td>23:10</td>\n",
              "      <td>0</td>\n",
              "      <td>0</td>\n",
              "      <td>0</td>\n",
              "      <td>0</td>\n",
              "      <td>0</td>\n",
              "      <td>0</td>\n",
              "      <td>0</td>\n",
              "      <td>0</td>\n",
              "      <td>0</td>\n",
              "      <td>149.495407</td>\n",
              "    </tr>\n",
              "    <tr>\n",
              "      <th>38588</th>\n",
              "      <td>38588</td>\n",
              "      <td>134</td>\n",
              "      <td>202</td>\n",
              "      <td>23:20</td>\n",
              "      <td>0</td>\n",
              "      <td>0</td>\n",
              "      <td>0</td>\n",
              "      <td>0</td>\n",
              "      <td>0</td>\n",
              "      <td>0</td>\n",
              "      <td>0</td>\n",
              "      <td>0</td>\n",
              "      <td>0</td>\n",
              "      <td>148.400696</td>\n",
              "    </tr>\n",
              "    <tr>\n",
              "      <th>38589</th>\n",
              "      <td>38589</td>\n",
              "      <td>134</td>\n",
              "      <td>202</td>\n",
              "      <td>23:30</td>\n",
              "      <td>0</td>\n",
              "      <td>0</td>\n",
              "      <td>0</td>\n",
              "      <td>0</td>\n",
              "      <td>0</td>\n",
              "      <td>0</td>\n",
              "      <td>0</td>\n",
              "      <td>0</td>\n",
              "      <td>0</td>\n",
              "      <td>141.977905</td>\n",
              "    </tr>\n",
              "    <tr>\n",
              "      <th>38590</th>\n",
              "      <td>38590</td>\n",
              "      <td>134</td>\n",
              "      <td>202</td>\n",
              "      <td>23:40</td>\n",
              "      <td>0</td>\n",
              "      <td>0</td>\n",
              "      <td>0</td>\n",
              "      <td>0</td>\n",
              "      <td>0</td>\n",
              "      <td>0</td>\n",
              "      <td>0</td>\n",
              "      <td>0</td>\n",
              "      <td>0</td>\n",
              "      <td>157.154999</td>\n",
              "    </tr>\n",
              "    <tr>\n",
              "      <th>38591</th>\n",
              "      <td>38591</td>\n",
              "      <td>134</td>\n",
              "      <td>202</td>\n",
              "      <td>23:50</td>\n",
              "      <td>0</td>\n",
              "      <td>0</td>\n",
              "      <td>0</td>\n",
              "      <td>0</td>\n",
              "      <td>0</td>\n",
              "      <td>0</td>\n",
              "      <td>0</td>\n",
              "      <td>0</td>\n",
              "      <td>0</td>\n",
              "      <td>171.260254</td>\n",
              "    </tr>\n",
              "  </tbody>\n",
              "</table>\n",
              "<p>38592 rows × 14 columns</p>\n",
              "</div>\n",
              "      <button class=\"colab-df-convert\" onclick=\"convertToInteractive('df-cf66e3f5-ee48-4401-a3e3-4db8c56a5285')\"\n",
              "              title=\"Convert this dataframe to an interactive table.\"\n",
              "              style=\"display:none;\">\n",
              "        \n",
              "  <svg xmlns=\"http://www.w3.org/2000/svg\" height=\"24px\"viewBox=\"0 0 24 24\"\n",
              "       width=\"24px\">\n",
              "    <path d=\"M0 0h24v24H0V0z\" fill=\"none\"/>\n",
              "    <path d=\"M18.56 5.44l.94 2.06.94-2.06 2.06-.94-2.06-.94-.94-2.06-.94 2.06-2.06.94zm-11 1L8.5 8.5l.94-2.06 2.06-.94-2.06-.94L8.5 2.5l-.94 2.06-2.06.94zm10 10l.94 2.06.94-2.06 2.06-.94-2.06-.94-.94-2.06-.94 2.06-2.06.94z\"/><path d=\"M17.41 7.96l-1.37-1.37c-.4-.4-.92-.59-1.43-.59-.52 0-1.04.2-1.43.59L10.3 9.45l-7.72 7.72c-.78.78-.78 2.05 0 2.83L4 21.41c.39.39.9.59 1.41.59.51 0 1.02-.2 1.41-.59l7.78-7.78 2.81-2.81c.8-.78.8-2.07 0-2.86zM5.41 20L4 18.59l7.72-7.72 1.47 1.35L5.41 20z\"/>\n",
              "  </svg>\n",
              "      </button>\n",
              "      \n",
              "  <style>\n",
              "    .colab-df-container {\n",
              "      display:flex;\n",
              "      flex-wrap:wrap;\n",
              "      gap: 12px;\n",
              "    }\n",
              "\n",
              "    .colab-df-convert {\n",
              "      background-color: #E8F0FE;\n",
              "      border: none;\n",
              "      border-radius: 50%;\n",
              "      cursor: pointer;\n",
              "      display: none;\n",
              "      fill: #1967D2;\n",
              "      height: 32px;\n",
              "      padding: 0 0 0 0;\n",
              "      width: 32px;\n",
              "    }\n",
              "\n",
              "    .colab-df-convert:hover {\n",
              "      background-color: #E2EBFA;\n",
              "      box-shadow: 0px 1px 2px rgba(60, 64, 67, 0.3), 0px 1px 3px 1px rgba(60, 64, 67, 0.15);\n",
              "      fill: #174EA6;\n",
              "    }\n",
              "\n",
              "    [theme=dark] .colab-df-convert {\n",
              "      background-color: #3B4455;\n",
              "      fill: #D2E3FC;\n",
              "    }\n",
              "\n",
              "    [theme=dark] .colab-df-convert:hover {\n",
              "      background-color: #434B5C;\n",
              "      box-shadow: 0px 1px 3px 1px rgba(0, 0, 0, 0.15);\n",
              "      filter: drop-shadow(0px 1px 2px rgba(0, 0, 0, 0.3));\n",
              "      fill: #FFFFFF;\n",
              "    }\n",
              "  </style>\n",
              "\n",
              "      <script>\n",
              "        const buttonEl =\n",
              "          document.querySelector('#df-cf66e3f5-ee48-4401-a3e3-4db8c56a5285 button.colab-df-convert');\n",
              "        buttonEl.style.display =\n",
              "          google.colab.kernel.accessAllowed ? 'block' : 'none';\n",
              "\n",
              "        async function convertToInteractive(key) {\n",
              "          const element = document.querySelector('#df-cf66e3f5-ee48-4401-a3e3-4db8c56a5285');\n",
              "          const dataTable =\n",
              "            await google.colab.kernel.invokeFunction('convertToInteractive',\n",
              "                                                     [key], {});\n",
              "          if (!dataTable) return;\n",
              "\n",
              "          const docLinkHtml = 'Like what you see? Visit the ' +\n",
              "            '<a target=\"_blank\" href=https://colab.research.google.com/notebooks/data_table.ipynb>data table notebook</a>'\n",
              "            + ' to learn more about interactive tables.';\n",
              "          element.innerHTML = '';\n",
              "          dataTable['output_type'] = 'display_data';\n",
              "          await google.colab.output.renderOutput(dataTable, element);\n",
              "          const docLink = document.createElement('div');\n",
              "          docLink.innerHTML = docLinkHtml;\n",
              "          element.appendChild(docLink);\n",
              "        }\n",
              "      </script>\n",
              "    </div>\n",
              "  </div>\n",
              "  "
            ]
          },
          "metadata": {},
          "execution_count": 88
        }
      ]
    },
    {
      "cell_type": "code",
      "source": [
        "sample_submission['Patv'].describe()"
      ],
      "metadata": {
        "id": "Q540q4QPEy-f",
        "outputId": "9cc3484d-a3bb-402a-fce9-d53465f98de5",
        "colab": {
          "base_uri": "https://localhost:8080/"
        }
      },
      "id": "Q540q4QPEy-f",
      "execution_count": 89,
      "outputs": [
        {
          "output_type": "execute_result",
          "data": {
            "text/plain": [
              "count    38592.000000\n",
              "mean       213.369578\n",
              "std        108.022921\n",
              "min          0.000000\n",
              "25%        138.374268\n",
              "50%        213.338028\n",
              "75%        281.003136\n",
              "max        736.466980\n",
              "Name: Patv, dtype: float64"
            ]
          },
          "metadata": {},
          "execution_count": 89
        }
      ]
    },
    {
      "cell_type": "code",
      "source": [
        "train_data['Patv'].describe()"
      ],
      "metadata": {
        "id": "EXcVgBBuJaN3",
        "outputId": "43a8389e-3ed1-4034-81b5-7d7584861987",
        "colab": {
          "base_uri": "https://localhost:8080/"
        }
      },
      "id": "EXcVgBBuJaN3",
      "execution_count": 90,
      "outputs": [
        {
          "output_type": "execute_result",
          "data": {
            "text/plain": [
              "count    3.859200e+06\n",
              "mean     3.547038e+02\n",
              "std      4.252410e+02\n",
              "min      0.000000e+00\n",
              "25%      0.000000e+00\n",
              "50%      1.856800e+02\n",
              "75%      5.579225e+02\n",
              "max      1.567020e+03\n",
              "Name: Patv, dtype: float64"
            ]
          },
          "metadata": {},
          "execution_count": 90
        }
      ]
    },
    {
      "cell_type": "code",
      "source": [
        "train_data['Patv'].tail(288)"
      ],
      "metadata": {
        "id": "YFpW4AlPJlhd",
        "outputId": "2ab7ab6f-8ce9-4b54-ac84-4a1a702eaaca",
        "colab": {
          "base_uri": "https://localhost:8080/"
        }
      },
      "id": "YFpW4AlPJlhd",
      "execution_count": 91,
      "outputs": [
        {
          "output_type": "execute_result",
          "data": {
            "text/plain": [
              "3858912    1351.26\n",
              "3858913    1241.45\n",
              "3858914    1511.15\n",
              "3858915    1517.90\n",
              "3858916    1518.11\n",
              "            ...   \n",
              "3859195     308.65\n",
              "3859196     221.60\n",
              "3859197     220.60\n",
              "3859198     222.15\n",
              "3859199     264.17\n",
              "Name: Patv, Length: 288, dtype: float64"
            ]
          },
          "metadata": {},
          "execution_count": 91
        }
      ]
    },
    {
      "cell_type": "code",
      "source": [
        ""
      ],
      "metadata": {
        "id": "q2qiIq3RsE0O"
      },
      "id": "q2qiIq3RsE0O",
      "execution_count": 91,
      "outputs": []
    }
  ],
  "metadata": {
    "kernelspec": {
      "display_name": "Python 3 (ipykernel)",
      "language": "python",
      "name": "python3"
    },
    "language_info": {
      "codemirror_mode": {
        "name": "ipython",
        "version": 3
      },
      "file_extension": ".py",
      "mimetype": "text/x-python",
      "name": "python",
      "nbconvert_exporter": "python",
      "pygments_lexer": "ipython3",
      "version": "3.8.3"
    },
    "colab": {
      "name": "gru를 활용한 버전.ipynb",
      "provenance": [],
      "collapsed_sections": [],
      "include_colab_link": true
    },
    "accelerator": "GPU",
    "gpuClass": "standard"
  },
  "nbformat": 4,
  "nbformat_minor": 5
}
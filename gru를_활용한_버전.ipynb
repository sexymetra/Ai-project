{
  "cells": [
    {
      "cell_type": "markdown",
      "metadata": {
        "id": "view-in-github",
        "colab_type": "text"
      },
      "source": [
        "<a href=\"https://colab.research.google.com/github/sexymetra/Ai-project/blob/LeeSangHyuck/gru%EB%A5%BC_%ED%99%9C%EC%9A%A9%ED%95%9C_%EB%B2%84%EC%A0%84.ipynb\" target=\"_parent\"><img src=\"https://colab.research.google.com/assets/colab-badge.svg\" alt=\"Open In Colab\"/></a>"
      ]
    },
    {
      "cell_type": "markdown",
      "id": "e1f053f9",
      "metadata": {
        "id": "e1f053f9"
      },
      "source": [
        "##### 베이스라인은 참고용 코드 입니다. 여러분 만의 고도화된 모델을 만들어 주세요"
      ]
    },
    {
      "cell_type": "markdown",
      "id": "f7444f30-0883-4a87-8e00-c5e5591a2a26",
      "metadata": {
        "id": "f7444f30-0883-4a87-8e00-c5e5591a2a26"
      },
      "source": [
        "## Import"
      ]
    },
    {
      "cell_type": "code",
      "execution_count": null,
      "id": "b85832b1-9f31-41e4-b934-cc260e5b3b1d",
      "metadata": {
        "id": "b85832b1-9f31-41e4-b934-cc260e5b3b1d"
      },
      "outputs": [],
      "source": [
        "import pandas as pd\n",
        "import numpy as np\n",
        "from tqdm import tqdm\n",
        "\n",
        "import torch\n",
        "import torch.nn as nn\n",
        "import torch.optim as optim\n",
        "import torch.nn.functional as F\n",
        "from torch.utils.data import Dataset, DataLoader\n",
        "\n",
        "device = torch.device('cuda') if torch.cuda.is_available() else torch.device('cpu')\n",
        "\n",
        "#하이퍼 파라미터\n",
        "CFG = {\n",
        "    'EPOCHS':10,\n",
        "    'LEARNING_RATE':1e-3,\n",
        "    'BATCH_SIZE':128,\n",
        "    'SEED':41\n",
        "}\n"
      ]
    },
    {
      "cell_type": "markdown",
      "id": "7d68c38e",
      "metadata": {
        "id": "7d68c38e"
      },
      "source": [
        "### 데이터 불러오기"
      ]
    },
    {
      "cell_type": "code",
      "execution_count": null,
      "id": "e3b89389",
      "metadata": {
        "id": "e3b89389",
        "colab": {
          "base_uri": "https://localhost:8080/"
        },
        "outputId": "fc57f6f7-3d1c-4d34-fdb1-c4e16779232b"
      },
      "outputs": [
        {
          "output_type": "stream",
          "name": "stdout",
          "text": [
            "Drive already mounted at /content/drive; to attempt to forcibly remount, call drive.mount(\"/content/drive\", force_remount=True).\n"
          ]
        }
      ],
      "source": [
        "from google.colab import drive\n",
        "drive.mount('/content/drive')\n",
        "\n",
        "train_data = pd.read_csv(\"/content/drive/MyDrive/data/data/train_data.csv\")\n",
        "sample_submission = pd.read_csv(\"/content/drive/MyDrive/data/data/sample_submission.csv\")\n"
      ]
    },
    {
      "cell_type": "markdown",
      "source": [
        "### 데이터 검사하기\n",
        "각각의 결측치들을 맞게 바꿈\n",
        "filter1 전력이 0 일때는 풍속이 2.5이상일 수 없다. -> \n",
        "전력이 0이고 풍속이 2.5이상일때, 다 풍속 0 으로 바꿨음\n"
      ],
      "metadata": {
        "id": "TufdhWkdbCzY"
      },
      "id": "TufdhWkdbCzY"
    },
    {
      "cell_type": "code",
      "source": [
        "#각각의 결측치들을 맞게 바꿈\n",
        "#filter1 전력이 0 일때는 풍속이 2.5이상일 수 없다. -> 전력이 0이고 풍속이 2.5이상일때, 다 풍속 0 으로 바꿨음\n",
        "#filter1 = (train_data['Patv']<=0) & (train_data['Wspd']>2.5)\n",
        "#train_data['Wspd'][filter1] = 0\n",
        "\n",
        "#filter2 Pab1,2,3은 각각 89를 초과하면 안된다. -> Pab를 0으로 만들면 안될 것 같아서 NAN으로 만들고 있다가 보간해주기\n",
        "#filter2 = (train_data['Pab1']>89)|(train_data['Pab2']>89)|(train_data['Pab3']>89)\n",
        "#train_data['Pab1'][filter2] = np.NAN\n",
        "#train_data['Pab2'][filter2] = np.NAN\n",
        "#train_data['Pab3'][filter2] = np.NAN\n",
        "\n",
        "#filter3 Ndir은 720을 초과하거나 -720보다 작아지면 안된다. 결측값이 별로 없으니까 720으로 나눈 나머지로 해도 될듯\n",
        "#filter3 = (train_data['Ndir']>720)|(train_data['Ndir']<-720)\n",
        "#train_data['Ndir'][filter3] = train_data['Ndir'][filter3]%720\n",
        "\n",
        "#filter4 Wdir도 마찬가지\n",
        "#filter4 = (train_data['Wdir']>180)|(train_data['Wdir']<-180)\n",
        "#train_data['Wdir'][filter4] = train_data['Wdir'][filter4]%180\n"
      ],
      "metadata": {
        "id": "lOyvz6qYa73V"
      },
      "id": "lOyvz6qYa73V",
      "execution_count": null,
      "outputs": []
    },
    {
      "cell_type": "markdown",
      "id": "d21e80a6",
      "metadata": {
        "id": "d21e80a6"
      },
      "source": [
        "### 데이터 전처리"
      ]
    },
    {
      "cell_type": "code",
      "execution_count": null,
      "id": "f71d1927",
      "metadata": {
        "id": "f71d1927"
      },
      "outputs": [],
      "source": [
        "#결측치 0으로 만들기\n",
        "train_data = train_data.fillna(0)\n",
        "\n",
        "#3번째에 결측치를 평균으로 만들어 봄\n",
        "#결측치 평균으로 만들기\n",
        "#train_data = train_data.interpolate(method = 'linear')\n",
        "#train_data = train_data.fillna(0)\n",
        "#Pab1,2,3정리\n",
        "train_data['Pab'] = train_data.loc[:,'Pab1':'Pab3'].median(axis=1) #Pad1,2,3의 중앙값으로 Pad설정\n",
        "train_data.drop(train_data.loc[:,'Pab1':'Pab3'],axis=1,inplace = True) #Pad1,2,3 삭제\n",
        "#train_data = train_data.reindex(columns = ['TurbID','Day','Tmstamp','Wspd','Wdir','Etmp','Itmp','Ndir','Pab','Prtv','Patv']) #원래 순서로 행 정렬\n",
        "\n"
      ]
    },
    {
      "cell_type": "code",
      "execution_count": null,
      "id": "f9b5f8d0",
      "metadata": {
        "id": "f9b5f8d0"
      },
      "outputs": [],
      "source": [
        "def make_train_data(data):\n",
        "    train_x, train_y = [], []\n",
        "    for i in tqdm(sorted(pd.unique(data[\"TurbID\"]))):\n",
        "        tmp_data = data[data[\"TurbID\"] == i]\n",
        "        for j in range(1, 201 - 6):\n",
        "            \n",
        "            # train data ==> 5일 단위\n",
        "            # label data ==> 2일 단위\n",
        "            day_list = [x for x in range(j, j+ 5)]\n",
        "            label_day_list = [y for y in range(j+5, j + 7)]\n",
        "            \n",
        "            train_tmp = tmp_data[tmp_data[\"Day\"].isin(day_list)]\n",
        "            label_tmp = tmp_data[tmp_data[\"Day\"].isin(label_day_list)][\"Patv\"]\n",
        "            \n",
        "            # feature 선택 및 제거\n",
        "            train_tmp = train_tmp.drop([\"TurbID\", \"Day\"], axis = 1)\n",
        "            \n",
        "            train_x.append(np.array(train_tmp))\n",
        "            train_y.append(np.array(label_tmp))\n",
        "            \n",
        "    return train_x, train_y"
      ]
    },
    {
      "cell_type": "code",
      "execution_count": null,
      "id": "0651c3af",
      "metadata": {
        "colab": {
          "base_uri": "https://localhost:8080/"
        },
        "id": "0651c3af",
        "outputId": "4a8a2984-0faf-4bcb-bef7-e8f3f9ca1c4e"
      },
      "outputs": [
        {
          "output_type": "stream",
          "name": "stderr",
          "text": [
            "100%|██████████| 134/134 [00:46<00:00,  2.88it/s]\n"
          ]
        }
      ],
      "source": [
        "# Feature 중 Tmstamp 정수로 변환\n",
        "tms_list = list(pd.unique(train_data[\"Tmstamp\"]))\n",
        "\n",
        "train_data[\"Tmstamp\"] = train_data[\"Tmstamp\"].apply(lambda x : tms]=['list.index(x) + 1)\n",
        "\n",
        "train_x, train_y = make_train_data(train_data)"
      ]
    },
    {
      "cell_type": "code",
      "execution_count": null,
      "id": "e79b8f87",
      "metadata": {
        "id": "e79b8f87"
      },
      "outputs": [],
      "source": [
        "train_x = np.array(train_x).reshape(-1, train_x[0].shape[0], train_x[0].shape[1])\n",
        "train_y = np.array(train_y)"
      ]
    },
    {
      "cell_type": "code",
      "execution_count": null,
      "id": "58783120",
      "metadata": {
        "colab": {
          "base_uri": "https://localhost:8080/"
        },
        "id": "58783120",
        "outputId": "b6d60ceb-49bb-4aca-d839-f0f2247809f3"
      },
      "outputs": [
        {
          "output_type": "execute_result",
          "data": {
            "text/plain": [
              "((25996, 720, 10), (25996, 288))"
            ]
          },
          "metadata": {},
          "execution_count": 31
        }
      ],
      "source": [
        "train_x.shape, train_y.shape"
      ]
    },
    {
      "cell_type": "markdown",
      "id": "3b2f3d76-fcf4-4866-a578-6bb76783bbed",
      "metadata": {
        "id": "3b2f3d76-fcf4-4866-a578-6bb76783bbed"
      },
      "source": [
        "### Custom Dataset"
      ]
    },
    {
      "cell_type": "code",
      "execution_count": null,
      "id": "4ec0a970-4d99-486d-b9b5-210f3cdca353",
      "metadata": {
        "id": "4ec0a970-4d99-486d-b9b5-210f3cdca353"
      },
      "outputs": [],
      "source": [
        "class CustomDataset(Dataset):\n",
        "    def __init__(self, X, Y):\n",
        "        self.X = X\n",
        "        self.Y = Y\n",
        "        \n",
        "    def __getitem__(self, index):\n",
        "        if self.Y is not None:\n",
        "            return torch.Tensor(self.X[index]), torch.Tensor(self.Y[index])\n",
        "        return torch.Tensor(self.X[index])\n",
        "    \n",
        "    def __len__(self):\n",
        "        return len(self.X)"
      ]
    },
    {
      "cell_type": "code",
      "execution_count": null,
      "id": "3614347b-da14-466f-9d04-b81e5448a9bd",
      "metadata": {
        "id": "3614347b-da14-466f-9d04-b81e5448a9bd"
      },
      "outputs": [],
      "source": [
        "train_dataset = CustomDataset(train_x, train_y)\n",
        "train_loader = DataLoader(train_dataset, batch_size = CFG['BATCH_SIZE'], shuffle=True, num_workers=0)"
      ]
    },
    {
      "cell_type": "markdown",
      "id": "c63f0b66-817d-49ff-9163-a975fb0f239d",
      "metadata": {
        "id": "c63f0b66-817d-49ff-9163-a975fb0f239d"
      },
      "source": [
        "### 모델 선언"
      ]
    },
    {
      "cell_type": "code",
      "execution_count": null,
      "id": "7927d7ef-e6dd-4ac4-8b89-e3a216c37e5a",
      "metadata": {
        "id": "7927d7ef-e6dd-4ac4-8b89-e3a216c37e5a"
      },
      "outputs": [],
      "source": [
        "class BaseModel(nn.Module):\n",
        "    def __init__(self):\n",
        "        super(BaseModel, self).__init__()\n",
        "        self.gru = nn.GRU(input_size=10, hidden_size=256, batch_first=True, bidirectional=False)\n",
        "        self.classifier = nn.Sequential(\n",
        "            nn.Linear(256,516),\n",
        "            nn.ReLU(),\n",
        "            nn.Linear(516,288),\n",
        "            nn.ReLU()\n",
        "        )\n",
        "        \n",
        "    def forward(self, x):\n",
        "        hidden, _ = self.gru(x)\n",
        "        output = self.classifier(hidden[:,-1,:])\n",
        "        return output"
      ]
    },
    {
      "cell_type": "markdown",
      "id": "b4f79f7d",
      "metadata": {
        "id": "b4f79f7d"
      },
      "source": [
        "### 모델 학습"
      ]
    },
    {
      "cell_type": "code",
      "execution_count": null,
      "id": "ff73d757-32d5-4868-afbb-1b9f2ea13826",
      "metadata": {
        "id": "ff73d757-32d5-4868-afbb-1b9f2ea13826"
      },
      "outputs": [],
      "source": [
        "def train(model, optimizer, train_loader, device):\n",
        "    model.to(device)\n",
        "    criterion = nn.MSELoss().to(device)\n",
        "    metric = nn.L1Loss().to(device)#이게 L1Loss였는데 MSE로 바꿈 첫번째 버전 -> 두번째 버전\n",
        "    best_mae = 9999999\n",
        "    \n",
        "    for epoch in range(1, CFG['EPOCHS']+1):\n",
        "        model.train()\n",
        "        train_loss = []\n",
        "        train_mae = []\n",
        "        for X, Y in tqdm(iter(train_loader)):\n",
        "            X = X.to(device)\n",
        "            Y = Y.to(device)\n",
        "            \n",
        "            optimizer.zero_grad()\n",
        "            \n",
        "            output = model(X)\n",
        "            loss = criterion(output, Y)\n",
        "            with torch.no_grad():\n",
        "                mae = metric(output, Y)\n",
        "            \n",
        "            loss.backward()\n",
        "            optimizer.step()\n",
        "            \n",
        "            train_loss.append(loss.item())\n",
        "            train_mae.append(mae.item())\n",
        "        print(f'Epoch : [{epoch}] Train Loss : [{np.mean(train_loss):.5f}] Train MAE : [{np.mean(train_mae):.5f}]')\n",
        "        \n",
        "        if best_mae > np.mean(train_mae):\n",
        "            best_mae = np.mean(train_mae)\n",
        "            torch.save(model.state_dict(), './best_model.pth', _use_new_zipfile_serialization=False)\n",
        "            print('Model Saved.')"
      ]
    },
    {
      "cell_type": "code",
      "execution_count": null,
      "id": "a1570b00-a309-4e5e-b53d-5848ba53eb19",
      "metadata": {
        "id": "a1570b00-a309-4e5e-b53d-5848ba53eb19",
        "outputId": "35911a2c-2139-47dd-8531-72919fee87b5",
        "colab": {
          "base_uri": "https://localhost:8080/"
        }
      },
      "outputs": [
        {
          "output_type": "stream",
          "name": "stderr",
          "text": [
            "100%|██████████| 204/204 [00:16<00:00, 12.45it/s]\n"
          ]
        },
        {
          "output_type": "stream",
          "name": "stdout",
          "text": [
            "Epoch : [1] Train Loss : [195043.60126] Train MAE : [332.69943]\n",
            "Model Saved.\n"
          ]
        },
        {
          "output_type": "stream",
          "name": "stderr",
          "text": [
            "100%|██████████| 204/204 [00:16<00:00, 12.33it/s]\n"
          ]
        },
        {
          "output_type": "stream",
          "name": "stdout",
          "text": [
            "Epoch : [2] Train Loss : [166969.86359] Train MAE : [319.52564]\n",
            "Model Saved.\n"
          ]
        },
        {
          "output_type": "stream",
          "name": "stderr",
          "text": [
            "100%|██████████| 204/204 [00:16<00:00, 12.36it/s]\n"
          ]
        },
        {
          "output_type": "stream",
          "name": "stdout",
          "text": [
            "Epoch : [3] Train Loss : [157053.82521] Train MAE : [308.05782]\n",
            "Model Saved.\n"
          ]
        },
        {
          "output_type": "stream",
          "name": "stderr",
          "text": [
            "100%|██████████| 204/204 [00:16<00:00, 12.34it/s]\n"
          ]
        },
        {
          "output_type": "stream",
          "name": "stdout",
          "text": [
            "Epoch : [4] Train Loss : [147268.81043] Train MAE : [295.96155]\n",
            "Model Saved.\n"
          ]
        },
        {
          "output_type": "stream",
          "name": "stderr",
          "text": [
            "100%|██████████| 204/204 [00:16<00:00, 12.38it/s]\n"
          ]
        },
        {
          "output_type": "stream",
          "name": "stdout",
          "text": [
            "Epoch : [5] Train Loss : [137852.03680] Train MAE : [283.39806]\n",
            "Model Saved.\n"
          ]
        },
        {
          "output_type": "stream",
          "name": "stderr",
          "text": [
            "100%|██████████| 204/204 [00:16<00:00, 12.38it/s]\n"
          ]
        },
        {
          "output_type": "stream",
          "name": "stdout",
          "text": [
            "Epoch : [6] Train Loss : [130793.08869] Train MAE : [274.45643]\n",
            "Model Saved.\n"
          ]
        },
        {
          "output_type": "stream",
          "name": "stderr",
          "text": [
            "100%|██████████| 204/204 [00:16<00:00, 12.36it/s]\n"
          ]
        },
        {
          "output_type": "stream",
          "name": "stdout",
          "text": [
            "Epoch : [7] Train Loss : [126370.57755] Train MAE : [268.50210]\n",
            "Model Saved.\n"
          ]
        },
        {
          "output_type": "stream",
          "name": "stderr",
          "text": [
            "100%|██████████| 204/204 [00:16<00:00, 12.35it/s]\n"
          ]
        },
        {
          "output_type": "stream",
          "name": "stdout",
          "text": [
            "Epoch : [8] Train Loss : [122291.07832] Train MAE : [262.92638]\n",
            "Model Saved.\n"
          ]
        },
        {
          "output_type": "stream",
          "name": "stderr",
          "text": [
            "100%|██████████| 204/204 [00:16<00:00, 12.36it/s]\n"
          ]
        },
        {
          "output_type": "stream",
          "name": "stdout",
          "text": [
            "Epoch : [9] Train Loss : [119252.20837] Train MAE : [258.94892]\n",
            "Model Saved.\n"
          ]
        },
        {
          "output_type": "stream",
          "name": "stderr",
          "text": [
            "100%|██████████| 204/204 [00:16<00:00, 12.37it/s]"
          ]
        },
        {
          "output_type": "stream",
          "name": "stdout",
          "text": [
            "Epoch : [10] Train Loss : [115428.99395] Train MAE : [253.69625]\n",
            "Model Saved.\n"
          ]
        },
        {
          "output_type": "stream",
          "name": "stderr",
          "text": [
            "\n"
          ]
        }
      ],
      "source": [
        "model = BaseModel()\n",
        "model.eval()\n",
        "optimizer = torch.optim.Adam(params = model.parameters(), lr = CFG[\"LEARNING_RATE\"])\n",
        "train(model, optimizer, train_loader, device)"
      ]
    },
    {
      "cell_type": "markdown",
      "id": "4d51f726",
      "metadata": {
        "id": "4d51f726"
      },
      "source": [
        "### 201일, 202일 Patv 추론"
      ]
    },
    {
      "cell_type": "code",
      "execution_count": null,
      "id": "a4008519",
      "metadata": {
        "id": "a4008519"
      },
      "outputs": [],
      "source": [
        "test_data_list = [x for x in range(196, 201)]\n",
        "\n",
        "test_data = train_data[train_data[\"Day\"].isin(test_data_list)]\n",
        "\n",
        "test_data = test_data.drop([\"TurbID\", \"Day\"], axis = 1)\n",
        "\n",
        "test_data = np.array(test_data).reshape(-1, train_x[0].shape[0], train_x[0].shape[1])"
      ]
    },
    {
      "cell_type": "code",
      "execution_count": null,
      "id": "c781b396",
      "metadata": {
        "id": "c781b396",
        "outputId": "8c7b2d31-7a41-4760-eeb4-5edb92e233ba",
        "colab": {
          "base_uri": "https://localhost:8080/"
        }
      },
      "outputs": [
        {
          "output_type": "execute_result",
          "data": {
            "text/plain": [
              "(134, 720, 10)"
            ]
          },
          "metadata": {},
          "execution_count": 39
        }
      ],
      "source": [
        "test_data.shape"
      ]
    },
    {
      "cell_type": "code",
      "execution_count": null,
      "id": "08cffe8c-d5b1-44c1-82de-5d24bba48d8a",
      "metadata": {
        "id": "08cffe8c-d5b1-44c1-82de-5d24bba48d8a"
      },
      "outputs": [],
      "source": [
        "test_dataset = CustomDataset(test_data, None)\n",
        "test_loader = DataLoader(test_dataset, batch_size = CFG['BATCH_SIZE'], shuffle=False, num_workers=0)"
      ]
    },
    {
      "cell_type": "code",
      "execution_count": null,
      "id": "40fe74ac-8b5b-4e7e-97af-979063004b6f",
      "metadata": {
        "id": "40fe74ac-8b5b-4e7e-97af-979063004b6f"
      },
      "outputs": [],
      "source": [
        "def predict(model, test_loader, device):\n",
        "    model.to(device)\n",
        "    model.eval()\n",
        "    preds = []\n",
        "    with torch.no_grad():\n",
        "        for X in tqdm(iter(test_loader)):\n",
        "            X = X.to(device)\n",
        "            \n",
        "            pred = model(X)\n",
        "            preds += pred.cpu().tolist()\n",
        "    \n",
        "    return np.array(preds)"
      ]
    },
    {
      "cell_type": "markdown",
      "id": "38b0ab2f-8914-4563-88b9-078addd003e2",
      "metadata": {
        "id": "38b0ab2f-8914-4563-88b9-078addd003e2"
      },
      "source": [
        "### Model Load"
      ]
    },
    {
      "cell_type": "code",
      "execution_count": null,
      "id": "3ad3a476-9985-4935-961a-5b50f2016bd3",
      "metadata": {
        "id": "3ad3a476-9985-4935-961a-5b50f2016bd3",
        "outputId": "cbe66b12-a961-4e0e-d4b3-09d7bde09fb0",
        "colab": {
          "base_uri": "https://localhost:8080/"
        }
      },
      "outputs": [
        {
          "output_type": "execute_result",
          "data": {
            "text/plain": [
              "BaseModel(\n",
              "  (gru): GRU(10, 256, batch_first=True)\n",
              "  (classifier): Sequential(\n",
              "    (0): Linear(in_features=256, out_features=516, bias=True)\n",
              "    (1): ReLU()\n",
              "    (2): Linear(in_features=516, out_features=288, bias=True)\n",
              "    (3): ReLU()\n",
              "  )\n",
              ")"
            ]
          },
          "metadata": {},
          "execution_count": 42
        }
      ],
      "source": [
        "model = BaseModel()\n",
        "best_checkpoint = torch.load('./best_model.pth')\n",
        "model.load_state_dict(best_checkpoint)\n",
        "model.eval()"
      ]
    },
    {
      "cell_type": "code",
      "execution_count": null,
      "id": "2bf732e7",
      "metadata": {
        "id": "2bf732e7",
        "outputId": "0179f538-493d-43aa-d11e-38dc4bc31d0a",
        "colab": {
          "base_uri": "https://localhost:8080/"
        }
      },
      "outputs": [
        {
          "output_type": "stream",
          "name": "stderr",
          "text": [
            "100%|██████████| 2/2 [00:00<00:00, 25.35it/s]\n"
          ]
        }
      ],
      "source": [
        "preds = predict(model, test_loader, device)\n",
        "preds = preds.reshape(-1)"
      ]
    },
    {
      "cell_type": "markdown",
      "id": "b515c3d7-b93b-4b4c-8b3d-1a5c9cba86a0",
      "metadata": {
        "id": "b515c3d7-b93b-4b4c-8b3d-1a5c9cba86a0"
      },
      "source": [
        "### Submit"
      ]
    },
    {
      "cell_type": "code",
      "execution_count": null,
      "id": "49b74e70",
      "metadata": {
        "id": "49b74e70"
      },
      "outputs": [],
      "source": [
        "sample_submission[\"Patv\"] = preds\n",
        "sample_submission.to_csv(\"./submit.csv\", index = False)"
      ]
    },
    {
      "cell_type": "code",
      "source": [
        "sample_submission"
      ],
      "metadata": {
        "colab": {
          "base_uri": "https://localhost:8080/",
          "height": 424
        },
        "id": "9dvbZckrA9m8",
        "outputId": "5be95340-be20-47fd-9cba-0280c6c5b6dd"
      },
      "id": "9dvbZckrA9m8",
      "execution_count": null,
      "outputs": [
        {
          "output_type": "execute_result",
          "data": {
            "text/plain": [
              "       index  TurbID  Day Tmstamp  Wspd  Wdir  Etmp  Itmp  Ndir  Pab1  Pab2  \\\n",
              "0          0       1  201   00:00     0     0     0     0     0     0     0   \n",
              "1          1       1  201   00:10     0     0     0     0     0     0     0   \n",
              "2          2       1  201   00:20     0     0     0     0     0     0     0   \n",
              "3          3       1  201   00:30     0     0     0     0     0     0     0   \n",
              "4          4       1  201   00:40     0     0     0     0     0     0     0   \n",
              "...      ...     ...  ...     ...   ...   ...   ...   ...   ...   ...   ...   \n",
              "38587  38587     134  202   23:10     0     0     0     0     0     0     0   \n",
              "38588  38588     134  202   23:20     0     0     0     0     0     0     0   \n",
              "38589  38589     134  202   23:30     0     0     0     0     0     0     0   \n",
              "38590  38590     134  202   23:40     0     0     0     0     0     0     0   \n",
              "38591  38591     134  202   23:50     0     0     0     0     0     0     0   \n",
              "\n",
              "       Pab3  Prtv        Patv  \n",
              "0         0     0  102.536438  \n",
              "1         0     0  167.947876  \n",
              "2         0     0  199.054230  \n",
              "3         0     0  228.309204  \n",
              "4         0     0  249.624054  \n",
              "...     ...   ...         ...  \n",
              "38587     0     0  287.956879  \n",
              "38588     0     0  279.132385  \n",
              "38589     0     0  273.744415  \n",
              "38590     0     0  281.116821  \n",
              "38591     0     0  281.588654  \n",
              "\n",
              "[38592 rows x 14 columns]"
            ],
            "text/html": [
              "\n",
              "  <div id=\"df-53dde8d7-ed7e-4eb1-b3d0-26c3b2face2a\">\n",
              "    <div class=\"colab-df-container\">\n",
              "      <div>\n",
              "<style scoped>\n",
              "    .dataframe tbody tr th:only-of-type {\n",
              "        vertical-align: middle;\n",
              "    }\n",
              "\n",
              "    .dataframe tbody tr th {\n",
              "        vertical-align: top;\n",
              "    }\n",
              "\n",
              "    .dataframe thead th {\n",
              "        text-align: right;\n",
              "    }\n",
              "</style>\n",
              "<table border=\"1\" class=\"dataframe\">\n",
              "  <thead>\n",
              "    <tr style=\"text-align: right;\">\n",
              "      <th></th>\n",
              "      <th>index</th>\n",
              "      <th>TurbID</th>\n",
              "      <th>Day</th>\n",
              "      <th>Tmstamp</th>\n",
              "      <th>Wspd</th>\n",
              "      <th>Wdir</th>\n",
              "      <th>Etmp</th>\n",
              "      <th>Itmp</th>\n",
              "      <th>Ndir</th>\n",
              "      <th>Pab1</th>\n",
              "      <th>Pab2</th>\n",
              "      <th>Pab3</th>\n",
              "      <th>Prtv</th>\n",
              "      <th>Patv</th>\n",
              "    </tr>\n",
              "  </thead>\n",
              "  <tbody>\n",
              "    <tr>\n",
              "      <th>0</th>\n",
              "      <td>0</td>\n",
              "      <td>1</td>\n",
              "      <td>201</td>\n",
              "      <td>00:00</td>\n",
              "      <td>0</td>\n",
              "      <td>0</td>\n",
              "      <td>0</td>\n",
              "      <td>0</td>\n",
              "      <td>0</td>\n",
              "      <td>0</td>\n",
              "      <td>0</td>\n",
              "      <td>0</td>\n",
              "      <td>0</td>\n",
              "      <td>102.536438</td>\n",
              "    </tr>\n",
              "    <tr>\n",
              "      <th>1</th>\n",
              "      <td>1</td>\n",
              "      <td>1</td>\n",
              "      <td>201</td>\n",
              "      <td>00:10</td>\n",
              "      <td>0</td>\n",
              "      <td>0</td>\n",
              "      <td>0</td>\n",
              "      <td>0</td>\n",
              "      <td>0</td>\n",
              "      <td>0</td>\n",
              "      <td>0</td>\n",
              "      <td>0</td>\n",
              "      <td>0</td>\n",
              "      <td>167.947876</td>\n",
              "    </tr>\n",
              "    <tr>\n",
              "      <th>2</th>\n",
              "      <td>2</td>\n",
              "      <td>1</td>\n",
              "      <td>201</td>\n",
              "      <td>00:20</td>\n",
              "      <td>0</td>\n",
              "      <td>0</td>\n",
              "      <td>0</td>\n",
              "      <td>0</td>\n",
              "      <td>0</td>\n",
              "      <td>0</td>\n",
              "      <td>0</td>\n",
              "      <td>0</td>\n",
              "      <td>0</td>\n",
              "      <td>199.054230</td>\n",
              "    </tr>\n",
              "    <tr>\n",
              "      <th>3</th>\n",
              "      <td>3</td>\n",
              "      <td>1</td>\n",
              "      <td>201</td>\n",
              "      <td>00:30</td>\n",
              "      <td>0</td>\n",
              "      <td>0</td>\n",
              "      <td>0</td>\n",
              "      <td>0</td>\n",
              "      <td>0</td>\n",
              "      <td>0</td>\n",
              "      <td>0</td>\n",
              "      <td>0</td>\n",
              "      <td>0</td>\n",
              "      <td>228.309204</td>\n",
              "    </tr>\n",
              "    <tr>\n",
              "      <th>4</th>\n",
              "      <td>4</td>\n",
              "      <td>1</td>\n",
              "      <td>201</td>\n",
              "      <td>00:40</td>\n",
              "      <td>0</td>\n",
              "      <td>0</td>\n",
              "      <td>0</td>\n",
              "      <td>0</td>\n",
              "      <td>0</td>\n",
              "      <td>0</td>\n",
              "      <td>0</td>\n",
              "      <td>0</td>\n",
              "      <td>0</td>\n",
              "      <td>249.624054</td>\n",
              "    </tr>\n",
              "    <tr>\n",
              "      <th>...</th>\n",
              "      <td>...</td>\n",
              "      <td>...</td>\n",
              "      <td>...</td>\n",
              "      <td>...</td>\n",
              "      <td>...</td>\n",
              "      <td>...</td>\n",
              "      <td>...</td>\n",
              "      <td>...</td>\n",
              "      <td>...</td>\n",
              "      <td>...</td>\n",
              "      <td>...</td>\n",
              "      <td>...</td>\n",
              "      <td>...</td>\n",
              "      <td>...</td>\n",
              "    </tr>\n",
              "    <tr>\n",
              "      <th>38587</th>\n",
              "      <td>38587</td>\n",
              "      <td>134</td>\n",
              "      <td>202</td>\n",
              "      <td>23:10</td>\n",
              "      <td>0</td>\n",
              "      <td>0</td>\n",
              "      <td>0</td>\n",
              "      <td>0</td>\n",
              "      <td>0</td>\n",
              "      <td>0</td>\n",
              "      <td>0</td>\n",
              "      <td>0</td>\n",
              "      <td>0</td>\n",
              "      <td>287.956879</td>\n",
              "    </tr>\n",
              "    <tr>\n",
              "      <th>38588</th>\n",
              "      <td>38588</td>\n",
              "      <td>134</td>\n",
              "      <td>202</td>\n",
              "      <td>23:20</td>\n",
              "      <td>0</td>\n",
              "      <td>0</td>\n",
              "      <td>0</td>\n",
              "      <td>0</td>\n",
              "      <td>0</td>\n",
              "      <td>0</td>\n",
              "      <td>0</td>\n",
              "      <td>0</td>\n",
              "      <td>0</td>\n",
              "      <td>279.132385</td>\n",
              "    </tr>\n",
              "    <tr>\n",
              "      <th>38589</th>\n",
              "      <td>38589</td>\n",
              "      <td>134</td>\n",
              "      <td>202</td>\n",
              "      <td>23:30</td>\n",
              "      <td>0</td>\n",
              "      <td>0</td>\n",
              "      <td>0</td>\n",
              "      <td>0</td>\n",
              "      <td>0</td>\n",
              "      <td>0</td>\n",
              "      <td>0</td>\n",
              "      <td>0</td>\n",
              "      <td>0</td>\n",
              "      <td>273.744415</td>\n",
              "    </tr>\n",
              "    <tr>\n",
              "      <th>38590</th>\n",
              "      <td>38590</td>\n",
              "      <td>134</td>\n",
              "      <td>202</td>\n",
              "      <td>23:40</td>\n",
              "      <td>0</td>\n",
              "      <td>0</td>\n",
              "      <td>0</td>\n",
              "      <td>0</td>\n",
              "      <td>0</td>\n",
              "      <td>0</td>\n",
              "      <td>0</td>\n",
              "      <td>0</td>\n",
              "      <td>0</td>\n",
              "      <td>281.116821</td>\n",
              "    </tr>\n",
              "    <tr>\n",
              "      <th>38591</th>\n",
              "      <td>38591</td>\n",
              "      <td>134</td>\n",
              "      <td>202</td>\n",
              "      <td>23:50</td>\n",
              "      <td>0</td>\n",
              "      <td>0</td>\n",
              "      <td>0</td>\n",
              "      <td>0</td>\n",
              "      <td>0</td>\n",
              "      <td>0</td>\n",
              "      <td>0</td>\n",
              "      <td>0</td>\n",
              "      <td>0</td>\n",
              "      <td>281.588654</td>\n",
              "    </tr>\n",
              "  </tbody>\n",
              "</table>\n",
              "<p>38592 rows × 14 columns</p>\n",
              "</div>\n",
              "      <button class=\"colab-df-convert\" onclick=\"convertToInteractive('df-53dde8d7-ed7e-4eb1-b3d0-26c3b2face2a')\"\n",
              "              title=\"Convert this dataframe to an interactive table.\"\n",
              "              style=\"display:none;\">\n",
              "        \n",
              "  <svg xmlns=\"http://www.w3.org/2000/svg\" height=\"24px\"viewBox=\"0 0 24 24\"\n",
              "       width=\"24px\">\n",
              "    <path d=\"M0 0h24v24H0V0z\" fill=\"none\"/>\n",
              "    <path d=\"M18.56 5.44l.94 2.06.94-2.06 2.06-.94-2.06-.94-.94-2.06-.94 2.06-2.06.94zm-11 1L8.5 8.5l.94-2.06 2.06-.94-2.06-.94L8.5 2.5l-.94 2.06-2.06.94zm10 10l.94 2.06.94-2.06 2.06-.94-2.06-.94-.94-2.06-.94 2.06-2.06.94z\"/><path d=\"M17.41 7.96l-1.37-1.37c-.4-.4-.92-.59-1.43-.59-.52 0-1.04.2-1.43.59L10.3 9.45l-7.72 7.72c-.78.78-.78 2.05 0 2.83L4 21.41c.39.39.9.59 1.41.59.51 0 1.02-.2 1.41-.59l7.78-7.78 2.81-2.81c.8-.78.8-2.07 0-2.86zM5.41 20L4 18.59l7.72-7.72 1.47 1.35L5.41 20z\"/>\n",
              "  </svg>\n",
              "      </button>\n",
              "      \n",
              "  <style>\n",
              "    .colab-df-container {\n",
              "      display:flex;\n",
              "      flex-wrap:wrap;\n",
              "      gap: 12px;\n",
              "    }\n",
              "\n",
              "    .colab-df-convert {\n",
              "      background-color: #E8F0FE;\n",
              "      border: none;\n",
              "      border-radius: 50%;\n",
              "      cursor: pointer;\n",
              "      display: none;\n",
              "      fill: #1967D2;\n",
              "      height: 32px;\n",
              "      padding: 0 0 0 0;\n",
              "      width: 32px;\n",
              "    }\n",
              "\n",
              "    .colab-df-convert:hover {\n",
              "      background-color: #E2EBFA;\n",
              "      box-shadow: 0px 1px 2px rgba(60, 64, 67, 0.3), 0px 1px 3px 1px rgba(60, 64, 67, 0.15);\n",
              "      fill: #174EA6;\n",
              "    }\n",
              "\n",
              "    [theme=dark] .colab-df-convert {\n",
              "      background-color: #3B4455;\n",
              "      fill: #D2E3FC;\n",
              "    }\n",
              "\n",
              "    [theme=dark] .colab-df-convert:hover {\n",
              "      background-color: #434B5C;\n",
              "      box-shadow: 0px 1px 3px 1px rgba(0, 0, 0, 0.15);\n",
              "      filter: drop-shadow(0px 1px 2px rgba(0, 0, 0, 0.3));\n",
              "      fill: #FFFFFF;\n",
              "    }\n",
              "  </style>\n",
              "\n",
              "      <script>\n",
              "        const buttonEl =\n",
              "          document.querySelector('#df-53dde8d7-ed7e-4eb1-b3d0-26c3b2face2a button.colab-df-convert');\n",
              "        buttonEl.style.display =\n",
              "          google.colab.kernel.accessAllowed ? 'block' : 'none';\n",
              "\n",
              "        async function convertToInteractive(key) {\n",
              "          const element = document.querySelector('#df-53dde8d7-ed7e-4eb1-b3d0-26c3b2face2a');\n",
              "          const dataTable =\n",
              "            await google.colab.kernel.invokeFunction('convertToInteractive',\n",
              "                                                     [key], {});\n",
              "          if (!dataTable) return;\n",
              "\n",
              "          const docLinkHtml = 'Like what you see? Visit the ' +\n",
              "            '<a target=\"_blank\" href=https://colab.research.google.com/notebooks/data_table.ipynb>data table notebook</a>'\n",
              "            + ' to learn more about interactive tables.';\n",
              "          element.innerHTML = '';\n",
              "          dataTable['output_type'] = 'display_data';\n",
              "          await google.colab.output.renderOutput(dataTable, element);\n",
              "          const docLink = document.createElement('div');\n",
              "          docLink.innerHTML = docLinkHtml;\n",
              "          element.appendChild(docLink);\n",
              "        }\n",
              "      </script>\n",
              "    </div>\n",
              "  </div>\n",
              "  "
            ]
          },
          "metadata": {},
          "execution_count": 45
        }
      ]
    },
    {
      "cell_type": "code",
      "source": [
        "sample_submission['Patv'].describe()"
      ],
      "metadata": {
        "colab": {
          "base_uri": "https://localhost:8080/"
        },
        "id": "Q540q4QPEy-f",
        "outputId": "b8076602-74ed-4870-a5b2-c2dd654dd749"
      },
      "id": "Q540q4QPEy-f",
      "execution_count": null,
      "outputs": [
        {
          "output_type": "execute_result",
          "data": {
            "text/plain": [
              "count    38592.000000\n",
              "mean       184.747807\n",
              "std         96.487826\n",
              "min          0.000000\n",
              "25%        119.614744\n",
              "50%        176.581512\n",
              "75%        245.751717\n",
              "max        557.103882\n",
              "Name: Patv, dtype: float64"
            ]
          },
          "metadata": {},
          "execution_count": 46
        }
      ]
    },
    {
      "cell_type": "code",
      "source": [
        "train_data['Patv'].describe()"
      ],
      "metadata": {
        "colab": {
          "base_uri": "https://localhost:8080/"
        },
        "id": "EXcVgBBuJaN3",
        "outputId": "2201a69b-9e19-45bb-bc88-e45f9aa2afc3"
      },
      "id": "EXcVgBBuJaN3",
      "execution_count": null,
      "outputs": [
        {
          "output_type": "execute_result",
          "data": {
            "text/plain": [
              "count    3.859200e+06\n",
              "mean     3.547038e+02\n",
              "std      4.252410e+02\n",
              "min      0.000000e+00\n",
              "25%      0.000000e+00\n",
              "50%      1.856800e+02\n",
              "75%      5.579225e+02\n",
              "max      1.567020e+03\n",
              "Name: Patv, dtype: float64"
            ]
          },
          "metadata": {},
          "execution_count": 47
        }
      ]
    },
    {
      "cell_type": "code",
      "source": [
        "train_data['Patv'].tail(288)"
      ],
      "metadata": {
        "id": "YFpW4AlPJlhd",
        "colab": {
          "base_uri": "https://localhost:8080/"
        },
        "outputId": "66820c44-e541-421b-c152-0be1438d9e2d"
      },
      "id": "YFpW4AlPJlhd",
      "execution_count": null,
      "outputs": [
        {
          "output_type": "execute_result",
          "data": {
            "text/plain": [
              "3858912    1351.26\n",
              "3858913    1241.45\n",
              "3858914    1511.15\n",
              "3858915    1517.90\n",
              "3858916    1518.11\n",
              "            ...   \n",
              "3859195     308.65\n",
              "3859196     221.60\n",
              "3859197     220.60\n",
              "3859198     222.15\n",
              "3859199     264.17\n",
              "Name: Patv, Length: 288, dtype: float64"
            ]
          },
          "metadata": {},
          "execution_count": 48
        }
      ]
    },
    {
      "cell_type": "code",
      "source": [
        ""
      ],
      "metadata": {
        "id": "q2qiIq3RsE0O"
      },
      "id": "q2qiIq3RsE0O",
      "execution_count": null,
      "outputs": []
    }
  ],
  "metadata": {
    "kernelspec": {
      "display_name": "Python 3 (ipykernel)",
      "language": "python",
      "name": "python3"
    },
    "language_info": {
      "codemirror_mode": {
        "name": "ipython",
        "version": 3
      },
      "file_extension": ".py",
      "mimetype": "text/x-python",
      "name": "python",
      "nbconvert_exporter": "python",
      "pygments_lexer": "ipython3",
      "version": "3.8.3"
    },
    "colab": {
      "name": "gru를 활용한 버전.ipynb",
      "provenance": [],
      "collapsed_sections": [],
      "include_colab_link": true
    },
    "accelerator": "GPU",
    "gpuClass": "standard"
  },
  "nbformat": 4,
  "nbformat_minor": 5
}
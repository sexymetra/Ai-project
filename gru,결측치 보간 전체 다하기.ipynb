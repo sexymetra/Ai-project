{
  "cells": [
    {
      "cell_type": "markdown",
      "metadata": {
        "id": "view-in-github",
        "colab_type": "text"
      },
      "source": [
        "<a href=\"https://colab.research.google.com/github/sexymetra/Ai-project/blob/LeeSangHyuck/gru%2C%EA%B2%B0%EC%B8%A1%EC%B9%98%20%EB%B3%B4%EA%B0%84%20%EC%A0%84%EC%B2%B4%20%EB%8B%A4%ED%95%98%EA%B8%B0.ipynb\" target=\"_parent\"><img src=\"https://colab.research.google.com/assets/colab-badge.svg\" alt=\"Open In Colab\"/></a>"
      ]
    },
    {
      "cell_type": "markdown",
      "id": "e1f053f9",
      "metadata": {
        "id": "e1f053f9"
      },
      "source": [
        "##### 베이스라인은 참고용 코드 입니다. 여러분 만의 고도화된 모델을 만들어 주세요"
      ]
    },
    {
      "cell_type": "markdown",
      "id": "f7444f30-0883-4a87-8e00-c5e5591a2a26",
      "metadata": {
        "id": "f7444f30-0883-4a87-8e00-c5e5591a2a26"
      },
      "source": [
        "## Import"
      ]
    },
    {
      "cell_type": "code",
      "execution_count": null,
      "id": "b85832b1-9f31-41e4-b934-cc260e5b3b1d",
      "metadata": {
        "id": "b85832b1-9f31-41e4-b934-cc260e5b3b1d"
      },
      "outputs": [],
      "source": [
        "import pandas as pd\n",
        "import numpy as np\n",
        "from tqdm import tqdm\n",
        "\n",
        "import torch\n",
        "import torch.nn as nn\n",
        "import torch.optim as optim\n",
        "import torch.nn.functional as F\n",
        "from torch.utils.data import Dataset, DataLoader\n",
        "\n",
        "device = torch.device('cuda') if torch.cuda.is_available() else torch.device('cpu')\n",
        "\n",
        "#하이퍼 파라미터\n",
        "CFG = {\n",
        "    'EPOCHS':10,\n",
        "    'LEARNING_RATE':1e-3,\n",
        "    'BATCH_SIZE'\n",
        "}\n"
      ]
    },
    {
      "cell_type": "markdown",
      "id": "7d68c38e",
      "metadata": {
        "id": "7d68c38e"
      },
      "source": [
        "### 데이터 불러오기"
      ]
    },
    {
      "cell_type": "code",
      "execution_count": null,
      "id": "e3b89389",
      "metadata": {
        "id": "e3b89389",
        "colab": {
          "base_uri": "https://localhost:8080/"
        },
        "outputId": "74abc7c5-21e5-437f-b222-d0c72bdaa014"
      },
      "outputs": [
        {
          "output_type": "stream",
          "name": "stdout",
          "text": [
            "Mounted at /content/drive\n"
          ]
        }
      ],
      "source": [
        "from google.colab import drive\n",
        "drive.mount('/content/drive')\n",
        "\n",
        "train_data = pd.read_csv(\"/content/drive/MyDrive/data/data/train_data.csv\")\n",
        "sample_submission = pd.read_csv(\"/content/drive/MyDrive/data/data/sample_submission.csv\")\n"
      ]
    },
    {
      "cell_type": "markdown",
      "source": [
        "### 데이터 검사하기\n",
        "각각의 결측치들을 맞게 바꿈\n",
        "filter1 전력이 0 일때는 풍속이 2.5이상일 수 없다. -> \n",
        "전력이 0이고 풍속이 2.5이상일때, 다 풍속 0 으로 바꿨음\n"
      ],
      "metadata": {
        "id": "TufdhWkdbCzY"
      },
      "id": "TufdhWkdbCzY"
    },
    {
      "cell_type": "code",
      "source": [
        "#각각의 결측치들을 맞게 바꿈\n",
        "#filter1 전력이 0 일때는 풍속이 2.5이상일 수 없다. -> 전력이 0이고 풍속이 2.5이상일때, 다 풍속 0 으로 바꿨음\n",
        "filter1 = (train_data['Patv']<=0) & (train_data['Wspd']>2.5)\n",
        "train_data['Wspd'][filter1] = 0\n",
        "\n",
        "#filter2 Pab1,2,3은 각각 89를 초과하면 안된다. -> Pab를 0으로 만들면 안될 것 같아서 NAN으로 만들고 있다가 보간해주기\n",
        "filter2 = (train_data['Pab1']>89)|(train_data['Pab2']>89)|(train_data['Pab3']>89)\n",
        "train_data['Pab1'][filter2] = np.NAN\n",
        "train_data['Pab2'][filter2] = np.NAN\n",
        "train_data['Pab3'][filter2] = np.NAN\n",
        "\n",
        "#filter3 Ndir은 720을 초과하거나 -720보다 작아지면 안된다. 결측값이 별로 없으니까 720으로 나눈 나머지로 해도 될듯\n",
        "filter3 = (train_data['Ndir']>720)|(train_data['Ndir']<-720)\n",
        "train_data['Ndir'][filter3] = train_data['Ndir'][filter3]%720\n",
        "\n",
        "#filter4 Wdir도 마찬가지\n",
        "filter4 = (train_data['Wdir']>180)|(train_data['Wdir']<-180)\n",
        "train_data['Wdir'][filter4] = train_data['Wdir'][filter4]%180\n"
      ],
      "metadata": {
        "id": "lOyvz6qYa73V"
      },
      "id": "lOyvz6qYa73V",
      "execution_count": null,
      "outputs": []
    },
    {
      "cell_type": "markdown",
      "id": "d21e80a6",
      "metadata": {
        "id": "d21e80a6"
      },
      "source": [
        "### 데이터 전처리"
      ]
    },
    {
      "cell_type": "code",
      "execution_count": null,
      "id": "f71d1927",
      "metadata": {
        "id": "f71d1927"
      },
      "outputs": [],
      "source": [
        "#결측치 0으로 만들기\n",
        "#train_data = train_data.fillna(0)\n",
        "\n",
        "#3번째에 결측치를 평균으로 만들어 봄\n",
        "#결측치 평균으로 만들기\n",
        "train_data = train_data.interpolate(method = 'linear')\n",
        "train_data = train_data.fillna(0)\n",
        "#Pab1,2,3정리\n",
        "train_data['Pab'] = train_data.loc[:,'Pab1':'Pab3'].median(axis=1) #Pad1,2,3의 중앙값으로 Pad설정\n",
        "train_data.drop(train_data.loc[:,'Pab1':'Pab3'],axis=1,inplace = True) #Pad1,2,3 삭제\n",
        "train_data = train_data.reindex(columns = ['TurbID','Day','Tmstamp','Wspd','Wdir','Etmp','Itmp','Ndir','Pab','Prtv','Patv']) #원래 순서로 행 정렬\n",
        "\n"
      ]
    },
    {
      "cell_type": "code",
      "execution_count": null,
      "id": "f9b5f8d0",
      "metadata": {
        "id": "f9b5f8d0"
      },
      "outputs": [],
      "source": [
        "def make_train_data(data):\n",
        "    train_x, train_y = [], []\n",
        "    for i in tqdm(sorted(pd.unique(data[\"TurbID\"]))):\n",
        "        tmp_data = data[data[\"TurbID\"] == i]\n",
        "        for j in range(1, 201 - 6):\n",
        "            \n",
        "            # train data ==> 5일 단위\n",
        "            # label data ==> 2일 단위\n",
        "            day_list = [x for x in range(j, j+ 5)]\n",
        "            label_day_list = [y for y in range(j+5, j + 7)]\n",
        "            \n",
        "            train_tmp = tmp_data[tmp_data[\"Day\"].isin(day_list)]\n",
        "            label_tmp = tmp_data[tmp_data[\"Day\"].isin(label_day_list)][\"Patv\"]\n",
        "            \n",
        "            # feature 선택 및 제거\n",
        "            train_tmp = train_tmp.drop([\"TurbID\", \"Day\"], axis = 1)\n",
        "            \n",
        "            train_x.append(np.array(train_tmp))\n",
        "            train_y.append(np.array(label_tmp))\n",
        "            \n",
        "    return train_x, train_y"
      ]
    },
    {
      "cell_type": "code",
      "execution_count": null,
      "id": "0651c3af",
      "metadata": {
        "colab": {
          "base_uri": "https://localhost:8080/"
        },
        "id": "0651c3af",
        "outputId": "58047323-5807-4107-c362-b01084b4925c"
      },
      "outputs": [
        {
          "output_type": "stream",
          "name": "stderr",
          "text": [
            "100%|██████████| 134/134 [00:43<00:00,  3.08it/s]\n"
          ]
        }
      ],
      "source": [
        "# Feature 중 Tmstamp 정수로 변환\n",
        "tms_list = list(pd.unique(train_data[\"Tmstamp\"]))\n",
        "\n",
        "train_data[\"Tmstamp\"] = train_data[\"Tmstamp\"].apply(lambda x : tms_list.index(x) + 1)\n",
        "\n",
        "train_x, train_y = make_train_data(train_data)"
      ]
    },
    {
      "cell_type": "code",
      "execution_count": null,
      "id": "e79b8f87",
      "metadata": {
        "id": "e79b8f87"
      },
      "outputs": [],
      "source": [
        "train_x = np.array(train_x).reshape(-1, train_x[0].shape[0], train_x[0].shape[1])\n",
        "train_y = np.array(train_y)"
      ]
    },
    {
      "cell_type": "code",
      "execution_count": null,
      "id": "58783120",
      "metadata": {
        "colab": {
          "base_uri": "https://localhost:8080/"
        },
        "id": "58783120",
        "outputId": "0ed37948-e375-4840-a39e-b36f31edd609"
      },
      "outputs": [
        {
          "output_type": "execute_result",
          "data": {
            "text/plain": [
              "((25996, 720, 9), (25996, 288))"
            ]
          },
          "metadata": {},
          "execution_count": 9
        }
      ],
      "source": [
        "train_x.shape, train_y.shape"
      ]
    },
    {
      "cell_type": "markdown",
      "id": "3b2f3d76-fcf4-4866-a578-6bb76783bbed",
      "metadata": {
        "id": "3b2f3d76-fcf4-4866-a578-6bb76783bbed"
      },
      "source": [
        "### Custom Dataset"
      ]
    },
    {
      "cell_type": "code",
      "execution_count": null,
      "id": "4ec0a970-4d99-486d-b9b5-210f3cdca353",
      "metadata": {
        "id": "4ec0a970-4d99-486d-b9b5-210f3cdca353"
      },
      "outputs": [],
      "source": [
        "class CustomDataset(Dataset):\n",
        "    def __init__(self, X, Y):\n",
        "        self.X = X\n",
        "        self.Y = Y\n",
        "        \n",
        "    def __getitem__(self, index):\n",
        "        if self.Y is not None:\n",
        "            return torch.Tensor(self.X[index]), torch.Tensor(self.Y[index])\n",
        "        return torch.Tensor(self.X[index])\n",
        "    \n",
        "    def __len__(self):\n",
        "        return len(self.X)"
      ]
    },
    {
      "cell_type": "code",
      "execution_count": null,
      "id": "3614347b-da14-466f-9d04-b81e5448a9bd",
      "metadata": {
        "id": "3614347b-da14-466f-9d04-b81e5448a9bd"
      },
      "outputs": [],
      "source": [
        "train_dataset = CustomDataset(train_x, train_y)\n",
        "train_loader = DataLoader(train_dataset, batch_size = CFG['BATCH_SIZE'], shuffle=True, num_workers=0)"
      ]
    },
    {
      "cell_type": "markdown",
      "id": "c63f0b66-817d-49ff-9163-a975fb0f239d",
      "metadata": {
        "id": "c63f0b66-817d-49ff-9163-a975fb0f239d"
      },
      "source": [
        "### 모델 선언"
      ]
    },
    {
      "cell_type": "code",
      "execution_count": null,
      "id": "7927d7ef-e6dd-4ac4-8b89-e3a216c37e5a",
      "metadata": {
        "id": "7927d7ef-e6dd-4ac4-8b89-e3a216c37e5a"
      },
      "outputs": [],
      "source": [
        "class BaseModel(nn.Module):\n",
        "    def __init__(self):\n",
        "        super(BaseModel, self).__init__()\n",
        "        self.gru = nn.GRU(input_size=10, hidden_size=256, batch_first=True, bidirectional=False)\n",
        "        self.classifier = nn.Sequential(\n",
        "            nn.Linear(256,516),\n",
        "            nn.ReLU(),\n",
        "            nn.Linear(516,288),\n",
        "            nn.ReLU()\n",
        "        )\n",
        "        \n",
        "    def forward(self, x):\n",
        "        hidden, _ = self.gru(x)\n",
        "        output = self.classifier(hidden[:,-1,:])\n",
        "        return output"
      ]
    },
    {
      "cell_type": "markdown",
      "id": "b4f79f7d",
      "metadata": {
        "id": "b4f79f7d"
      },
      "source": [
        "### 모델 학습"
      ]
    },
    {
      "cell_type": "code",
      "execution_count": null,
      "id": "ff73d757-32d5-4868-afbb-1b9f2ea13826",
      "metadata": {
        "id": "ff73d757-32d5-4868-afbb-1b9f2ea13826"
      },
      "outputs": [],
      "source": [
        "def train(model, optimizer, train_loader, device):\n",
        "    model.to(device)\n",
        "    criterion = nn.MSELoss().to(device)\n",
        "    metric = nn.L1Loss().to(device)#이게 L1Loss였는데 MSE로 바꿈 첫번째 버전 -> 두번째 버전\n",
        "    best_mae = 9999999\n",
        "    \n",
        "    for epoch in range(1, CFG['EPOCHS']+1):\n",
        "        model.train()\n",
        "        train_loss = []\n",
        "        train_mae = []\n",
        "        for X, Y in tqdm(iter(train_loader)):\n",
        "            X = X.to(device)\n",
        "            Y = Y.to(device)\n",
        "            \n",
        "            optimizer.zero_grad()\n",
        "            \n",
        "            output = model(X)\n",
        "            loss = criterion(output, Y)\n",
        "            with torch.no_grad():\n",
        "                mae = metric(output, Y)\n",
        "            \n",
        "            loss.backward()\n",
        "            optimizer.step()\n",
        "            \n",
        "            train_loss.append(loss.item())\n",
        "            train_mae.append(mae.item())\n",
        "        print(f'Epoch : [{epoch}] Train Loss : [{np.mean(train_loss):.5f}] Train MAE : [{np.mean(train_mae):.5f}]')\n",
        "        \n",
        "        if best_mae > np.mean(train_mae):\n",
        "            best_mae = np.mean(train_mae)\n",
        "            torch.save(model.state_dict(), './best_model.pth', _use_new_zipfile_serialization=False)\n",
        "            print('Model Saved.')"
      ]
    },
    {
      "cell_type": "code",
      "execution_count": null,
      "id": "a1570b00-a309-4e5e-b53d-5848ba53eb19",
      "metadata": {
        "id": "a1570b00-a309-4e5e-b53d-5848ba53eb19",
        "outputId": "57910aea-c1a0-4dcf-95d0-aa708bc698ea",
        "colab": {
          "base_uri": "https://localhost:8080/",
          "height": 400
        }
      },
      "outputs": [
        {
          "output_type": "stream",
          "name": "stderr",
          "text": [
            "  0%|          | 0/204 [00:00<?, ?it/s]\n"
          ]
        },
        {
          "output_type": "error",
          "ename": "RuntimeError",
          "evalue": "ignored",
          "traceback": [
            "\u001b[0;31m---------------------------------------------------------------------------\u001b[0m",
            "\u001b[0;31mRuntimeError\u001b[0m                              Traceback (most recent call last)",
            "\u001b[0;32m<ipython-input-14-15b0a232cbf4>\u001b[0m in \u001b[0;36m<module>\u001b[0;34m()\u001b[0m\n\u001b[1;32m      2\u001b[0m \u001b[0mmodel\u001b[0m\u001b[0;34m.\u001b[0m\u001b[0meval\u001b[0m\u001b[0;34m(\u001b[0m\u001b[0;34m)\u001b[0m\u001b[0;34m\u001b[0m\u001b[0;34m\u001b[0m\u001b[0m\n\u001b[1;32m      3\u001b[0m \u001b[0moptimizer\u001b[0m \u001b[0;34m=\u001b[0m \u001b[0mtorch\u001b[0m\u001b[0;34m.\u001b[0m\u001b[0moptim\u001b[0m\u001b[0;34m.\u001b[0m\u001b[0mAdam\u001b[0m\u001b[0;34m(\u001b[0m\u001b[0mparams\u001b[0m \u001b[0;34m=\u001b[0m \u001b[0mmodel\u001b[0m\u001b[0;34m.\u001b[0m\u001b[0mparameters\u001b[0m\u001b[0;34m(\u001b[0m\u001b[0;34m)\u001b[0m\u001b[0;34m,\u001b[0m \u001b[0mlr\u001b[0m \u001b[0;34m=\u001b[0m \u001b[0mCFG\u001b[0m\u001b[0;34m[\u001b[0m\u001b[0;34m\"LEARNING_RATE\"\u001b[0m\u001b[0;34m]\u001b[0m\u001b[0;34m)\u001b[0m\u001b[0;34m\u001b[0m\u001b[0;34m\u001b[0m\u001b[0m\n\u001b[0;32m----> 4\u001b[0;31m \u001b[0mtrain\u001b[0m\u001b[0;34m(\u001b[0m\u001b[0mmodel\u001b[0m\u001b[0;34m,\u001b[0m \u001b[0moptimizer\u001b[0m\u001b[0;34m,\u001b[0m \u001b[0mtrain_loader\u001b[0m\u001b[0;34m,\u001b[0m \u001b[0mdevice\u001b[0m\u001b[0;34m)\u001b[0m\u001b[0;34m\u001b[0m\u001b[0;34m\u001b[0m\u001b[0m\n\u001b[0m",
            "\u001b[0;32m<ipython-input-13-6382ccefde24>\u001b[0m in \u001b[0;36mtrain\u001b[0;34m(model, optimizer, train_loader, device)\u001b[0m\n\u001b[1;32m     15\u001b[0m             \u001b[0moptimizer\u001b[0m\u001b[0;34m.\u001b[0m\u001b[0mzero_grad\u001b[0m\u001b[0;34m(\u001b[0m\u001b[0;34m)\u001b[0m\u001b[0;34m\u001b[0m\u001b[0;34m\u001b[0m\u001b[0m\n\u001b[1;32m     16\u001b[0m \u001b[0;34m\u001b[0m\u001b[0m\n\u001b[0;32m---> 17\u001b[0;31m             \u001b[0moutput\u001b[0m \u001b[0;34m=\u001b[0m \u001b[0mmodel\u001b[0m\u001b[0;34m(\u001b[0m\u001b[0mX\u001b[0m\u001b[0;34m)\u001b[0m\u001b[0;34m\u001b[0m\u001b[0;34m\u001b[0m\u001b[0m\n\u001b[0m\u001b[1;32m     18\u001b[0m             \u001b[0mloss\u001b[0m \u001b[0;34m=\u001b[0m \u001b[0mcriterion\u001b[0m\u001b[0;34m(\u001b[0m\u001b[0moutput\u001b[0m\u001b[0;34m,\u001b[0m \u001b[0mY\u001b[0m\u001b[0;34m)\u001b[0m\u001b[0;34m\u001b[0m\u001b[0;34m\u001b[0m\u001b[0m\n\u001b[1;32m     19\u001b[0m             \u001b[0;32mwith\u001b[0m \u001b[0mtorch\u001b[0m\u001b[0;34m.\u001b[0m\u001b[0mno_grad\u001b[0m\u001b[0;34m(\u001b[0m\u001b[0;34m)\u001b[0m\u001b[0;34m:\u001b[0m\u001b[0;34m\u001b[0m\u001b[0;34m\u001b[0m\u001b[0m\n",
            "\u001b[0;32m/usr/local/lib/python3.7/dist-packages/torch/nn/modules/module.py\u001b[0m in \u001b[0;36m_call_impl\u001b[0;34m(self, *input, **kwargs)\u001b[0m\n\u001b[1;32m   1128\u001b[0m         if not (self._backward_hooks or self._forward_hooks or self._forward_pre_hooks or _global_backward_hooks\n\u001b[1;32m   1129\u001b[0m                 or _global_forward_hooks or _global_forward_pre_hooks):\n\u001b[0;32m-> 1130\u001b[0;31m             \u001b[0;32mreturn\u001b[0m \u001b[0mforward_call\u001b[0m\u001b[0;34m(\u001b[0m\u001b[0;34m*\u001b[0m\u001b[0minput\u001b[0m\u001b[0;34m,\u001b[0m \u001b[0;34m**\u001b[0m\u001b[0mkwargs\u001b[0m\u001b[0;34m)\u001b[0m\u001b[0;34m\u001b[0m\u001b[0;34m\u001b[0m\u001b[0m\n\u001b[0m\u001b[1;32m   1131\u001b[0m         \u001b[0;31m# Do not call functions when jit is used\u001b[0m\u001b[0;34m\u001b[0m\u001b[0;34m\u001b[0m\u001b[0;34m\u001b[0m\u001b[0m\n\u001b[1;32m   1132\u001b[0m         \u001b[0mfull_backward_hooks\u001b[0m\u001b[0;34m,\u001b[0m \u001b[0mnon_full_backward_hooks\u001b[0m \u001b[0;34m=\u001b[0m \u001b[0;34m[\u001b[0m\u001b[0;34m]\u001b[0m\u001b[0;34m,\u001b[0m \u001b[0;34m[\u001b[0m\u001b[0;34m]\u001b[0m\u001b[0;34m\u001b[0m\u001b[0;34m\u001b[0m\u001b[0m\n",
            "\u001b[0;32m<ipython-input-12-9a4aa17a9512>\u001b[0m in \u001b[0;36mforward\u001b[0;34m(self, x)\u001b[0m\n\u001b[1;32m     11\u001b[0m \u001b[0;34m\u001b[0m\u001b[0m\n\u001b[1;32m     12\u001b[0m     \u001b[0;32mdef\u001b[0m \u001b[0mforward\u001b[0m\u001b[0;34m(\u001b[0m\u001b[0mself\u001b[0m\u001b[0;34m,\u001b[0m \u001b[0mx\u001b[0m\u001b[0;34m)\u001b[0m\u001b[0;34m:\u001b[0m\u001b[0;34m\u001b[0m\u001b[0;34m\u001b[0m\u001b[0m\n\u001b[0;32m---> 13\u001b[0;31m         \u001b[0mhidden\u001b[0m\u001b[0;34m,\u001b[0m \u001b[0m_\u001b[0m \u001b[0;34m=\u001b[0m \u001b[0mself\u001b[0m\u001b[0;34m.\u001b[0m\u001b[0mgru\u001b[0m\u001b[0;34m(\u001b[0m\u001b[0mx\u001b[0m\u001b[0;34m)\u001b[0m\u001b[0;34m\u001b[0m\u001b[0;34m\u001b[0m\u001b[0m\n\u001b[0m\u001b[1;32m     14\u001b[0m         \u001b[0moutput\u001b[0m \u001b[0;34m=\u001b[0m \u001b[0mself\u001b[0m\u001b[0;34m.\u001b[0m\u001b[0mclassifier\u001b[0m\u001b[0;34m(\u001b[0m\u001b[0mhidden\u001b[0m\u001b[0;34m[\u001b[0m\u001b[0;34m:\u001b[0m\u001b[0;34m,\u001b[0m\u001b[0;34m-\u001b[0m\u001b[0;36m1\u001b[0m\u001b[0;34m,\u001b[0m\u001b[0;34m:\u001b[0m\u001b[0;34m]\u001b[0m\u001b[0;34m)\u001b[0m\u001b[0;34m\u001b[0m\u001b[0;34m\u001b[0m\u001b[0m\n\u001b[1;32m     15\u001b[0m         \u001b[0;32mreturn\u001b[0m \u001b[0moutput\u001b[0m\u001b[0;34m\u001b[0m\u001b[0;34m\u001b[0m\u001b[0m\n",
            "\u001b[0;32m/usr/local/lib/python3.7/dist-packages/torch/nn/modules/module.py\u001b[0m in \u001b[0;36m_call_impl\u001b[0;34m(self, *input, **kwargs)\u001b[0m\n\u001b[1;32m   1128\u001b[0m         if not (self._backward_hooks or self._forward_hooks or self._forward_pre_hooks or _global_backward_hooks\n\u001b[1;32m   1129\u001b[0m                 or _global_forward_hooks or _global_forward_pre_hooks):\n\u001b[0;32m-> 1130\u001b[0;31m             \u001b[0;32mreturn\u001b[0m \u001b[0mforward_call\u001b[0m\u001b[0;34m(\u001b[0m\u001b[0;34m*\u001b[0m\u001b[0minput\u001b[0m\u001b[0;34m,\u001b[0m \u001b[0;34m**\u001b[0m\u001b[0mkwargs\u001b[0m\u001b[0;34m)\u001b[0m\u001b[0;34m\u001b[0m\u001b[0;34m\u001b[0m\u001b[0m\n\u001b[0m\u001b[1;32m   1131\u001b[0m         \u001b[0;31m# Do not call functions when jit is used\u001b[0m\u001b[0;34m\u001b[0m\u001b[0;34m\u001b[0m\u001b[0;34m\u001b[0m\u001b[0m\n\u001b[1;32m   1132\u001b[0m         \u001b[0mfull_backward_hooks\u001b[0m\u001b[0;34m,\u001b[0m \u001b[0mnon_full_backward_hooks\u001b[0m \u001b[0;34m=\u001b[0m \u001b[0;34m[\u001b[0m\u001b[0;34m]\u001b[0m\u001b[0;34m,\u001b[0m \u001b[0;34m[\u001b[0m\u001b[0;34m]\u001b[0m\u001b[0;34m\u001b[0m\u001b[0;34m\u001b[0m\u001b[0m\n",
            "\u001b[0;32m/usr/local/lib/python3.7/dist-packages/torch/nn/modules/rnn.py\u001b[0m in \u001b[0;36mforward\u001b[0;34m(self, input, hx)\u001b[0m\n\u001b[1;32m    946\u001b[0m             \u001b[0mhx\u001b[0m \u001b[0;34m=\u001b[0m \u001b[0mself\u001b[0m\u001b[0;34m.\u001b[0m\u001b[0mpermute_hidden\u001b[0m\u001b[0;34m(\u001b[0m\u001b[0mhx\u001b[0m\u001b[0;34m,\u001b[0m \u001b[0msorted_indices\u001b[0m\u001b[0;34m)\u001b[0m\u001b[0;34m\u001b[0m\u001b[0;34m\u001b[0m\u001b[0m\n\u001b[1;32m    947\u001b[0m \u001b[0;34m\u001b[0m\u001b[0m\n\u001b[0;32m--> 948\u001b[0;31m         \u001b[0mself\u001b[0m\u001b[0;34m.\u001b[0m\u001b[0mcheck_forward_args\u001b[0m\u001b[0;34m(\u001b[0m\u001b[0minput\u001b[0m\u001b[0;34m,\u001b[0m \u001b[0mhx\u001b[0m\u001b[0;34m,\u001b[0m \u001b[0mbatch_sizes\u001b[0m\u001b[0;34m)\u001b[0m\u001b[0;34m\u001b[0m\u001b[0;34m\u001b[0m\u001b[0m\n\u001b[0m\u001b[1;32m    949\u001b[0m         \u001b[0;32mif\u001b[0m \u001b[0mbatch_sizes\u001b[0m \u001b[0;32mis\u001b[0m \u001b[0;32mNone\u001b[0m\u001b[0;34m:\u001b[0m\u001b[0;34m\u001b[0m\u001b[0;34m\u001b[0m\u001b[0m\n\u001b[1;32m    950\u001b[0m             result = _VF.gru(input, hx, self._flat_weights, self.bias, self.num_layers,\n",
            "\u001b[0;32m/usr/local/lib/python3.7/dist-packages/torch/nn/modules/rnn.py\u001b[0m in \u001b[0;36mcheck_forward_args\u001b[0;34m(self, input, hidden, batch_sizes)\u001b[0m\n\u001b[1;32m    227\u001b[0m \u001b[0;34m\u001b[0m\u001b[0m\n\u001b[1;32m    228\u001b[0m     \u001b[0;32mdef\u001b[0m \u001b[0mcheck_forward_args\u001b[0m\u001b[0;34m(\u001b[0m\u001b[0mself\u001b[0m\u001b[0;34m,\u001b[0m \u001b[0minput\u001b[0m\u001b[0;34m:\u001b[0m \u001b[0mTensor\u001b[0m\u001b[0;34m,\u001b[0m \u001b[0mhidden\u001b[0m\u001b[0;34m:\u001b[0m \u001b[0mTensor\u001b[0m\u001b[0;34m,\u001b[0m \u001b[0mbatch_sizes\u001b[0m\u001b[0;34m:\u001b[0m \u001b[0mOptional\u001b[0m\u001b[0;34m[\u001b[0m\u001b[0mTensor\u001b[0m\u001b[0;34m]\u001b[0m\u001b[0;34m)\u001b[0m\u001b[0;34m:\u001b[0m\u001b[0;34m\u001b[0m\u001b[0;34m\u001b[0m\u001b[0m\n\u001b[0;32m--> 229\u001b[0;31m         \u001b[0mself\u001b[0m\u001b[0;34m.\u001b[0m\u001b[0mcheck_input\u001b[0m\u001b[0;34m(\u001b[0m\u001b[0minput\u001b[0m\u001b[0;34m,\u001b[0m \u001b[0mbatch_sizes\u001b[0m\u001b[0;34m)\u001b[0m\u001b[0;34m\u001b[0m\u001b[0;34m\u001b[0m\u001b[0m\n\u001b[0m\u001b[1;32m    230\u001b[0m         \u001b[0mexpected_hidden_size\u001b[0m \u001b[0;34m=\u001b[0m \u001b[0mself\u001b[0m\u001b[0;34m.\u001b[0m\u001b[0mget_expected_hidden_size\u001b[0m\u001b[0;34m(\u001b[0m\u001b[0minput\u001b[0m\u001b[0;34m,\u001b[0m \u001b[0mbatch_sizes\u001b[0m\u001b[0;34m)\u001b[0m\u001b[0;34m\u001b[0m\u001b[0;34m\u001b[0m\u001b[0m\n\u001b[1;32m    231\u001b[0m \u001b[0;34m\u001b[0m\u001b[0m\n",
            "\u001b[0;32m/usr/local/lib/python3.7/dist-packages/torch/nn/modules/rnn.py\u001b[0m in \u001b[0;36mcheck_input\u001b[0;34m(self, input, batch_sizes)\u001b[0m\n\u001b[1;32m    205\u001b[0m             raise RuntimeError(\n\u001b[1;32m    206\u001b[0m                 'input.size(-1) must be equal to input_size. Expected {}, got {}'.format(\n\u001b[0;32m--> 207\u001b[0;31m                     self.input_size, input.size(-1)))\n\u001b[0m\u001b[1;32m    208\u001b[0m \u001b[0;34m\u001b[0m\u001b[0m\n\u001b[1;32m    209\u001b[0m     \u001b[0;32mdef\u001b[0m \u001b[0mget_expected_hidden_size\u001b[0m\u001b[0;34m(\u001b[0m\u001b[0mself\u001b[0m\u001b[0;34m,\u001b[0m \u001b[0minput\u001b[0m\u001b[0;34m:\u001b[0m \u001b[0mTensor\u001b[0m\u001b[0;34m,\u001b[0m \u001b[0mbatch_sizes\u001b[0m\u001b[0;34m:\u001b[0m \u001b[0mOptional\u001b[0m\u001b[0;34m[\u001b[0m\u001b[0mTensor\u001b[0m\u001b[0;34m]\u001b[0m\u001b[0;34m)\u001b[0m \u001b[0;34m->\u001b[0m \u001b[0mTuple\u001b[0m\u001b[0;34m[\u001b[0m\u001b[0mint\u001b[0m\u001b[0;34m,\u001b[0m \u001b[0mint\u001b[0m\u001b[0;34m,\u001b[0m \u001b[0mint\u001b[0m\u001b[0;34m]\u001b[0m\u001b[0;34m:\u001b[0m\u001b[0;34m\u001b[0m\u001b[0;34m\u001b[0m\u001b[0m\n",
            "\u001b[0;31mRuntimeError\u001b[0m: input.size(-1) must be equal to input_size. Expected 10, got 9"
          ]
        }
      ],
      "source": [
        "model = BaseModel()\n",
        "model.eval()\n",
        "optimizer = torch.optim.Adam(params = model.parameters(), lr = CFG[\"LEARNING_RATE\"])\n",
        "train(model, optimizer, train_loader, device)"
      ]
    },
    {
      "cell_type": "markdown",
      "id": "4d51f726",
      "metadata": {
        "id": "4d51f726"
      },
      "source": [
        "### 201일, 202일 Patv 추론"
      ]
    },
    {
      "cell_type": "code",
      "execution_count": null,
      "id": "a4008519",
      "metadata": {
        "id": "a4008519"
      },
      "outputs": [],
      "source": [
        "test_data_list = [x for x in range(196, 201)]\n",
        "\n",
        "test_data = train_data[train_data[\"Day\"].isin(test_data_list)]\n",
        "\n",
        "test_data = test_data.drop([\"TurbID\", \"Day\"], axis = 1)\n",
        "\n",
        "test_data = np.array(test_data).reshape(-1, train_x[0].shape[0], train_x[0].shape[1])"
      ]
    },
    {
      "cell_type": "code",
      "execution_count": null,
      "id": "c781b396",
      "metadata": {
        "id": "c781b396"
      },
      "outputs": [],
      "source": [
        "test_data.shape"
      ]
    },
    {
      "cell_type": "code",
      "execution_count": null,
      "id": "08cffe8c-d5b1-44c1-82de-5d24bba48d8a",
      "metadata": {
        "id": "08cffe8c-d5b1-44c1-82de-5d24bba48d8a"
      },
      "outputs": [],
      "source": [
        "test_dataset = CustomDataset(test_data, None)\n",
        "test_loader = DataLoader(test_dataset, batch_size = CFG['BATCH_SIZE'], shuffle=False, num_workers=0)"
      ]
    },
    {
      "cell_type": "code",
      "execution_count": null,
      "id": "40fe74ac-8b5b-4e7e-97af-979063004b6f",
      "metadata": {
        "id": "40fe74ac-8b5b-4e7e-97af-979063004b6f"
      },
      "outputs": [],
      "source": [
        "def predict(model, test_loader, device):\n",
        "    model.to(device)\n",
        "    model.eval()\n",
        "    preds = []\n",
        "    with torch.no_grad():\n",
        "        for X in tqdm(iter(test_loader)):\n",
        "            X = X.to(device)\n",
        "            \n",
        "            pred = model(X)\n",
        "            preds += pred.cpu().tolist()\n",
        "    \n",
        "    return np.array(preds)"
      ]
    },
    {
      "cell_type": "markdown",
      "id": "38b0ab2f-8914-4563-88b9-078addd003e2",
      "metadata": {
        "id": "38b0ab2f-8914-4563-88b9-078addd003e2"
      },
      "source": [
        "### Model Load"
      ]
    },
    {
      "cell_type": "code",
      "execution_count": null,
      "id": "3ad3a476-9985-4935-961a-5b50f2016bd3",
      "metadata": {
        "id": "3ad3a476-9985-4935-961a-5b50f2016bd3"
      },
      "outputs": [],
      "source": [
        "model = BaseModel()\n",
        "best_checkpoint = torch.load('./best_model.pth')\n",
        "model.load_state_dict(best_checkpoint)\n",
        "model.eval()"
      ]
    },
    {
      "cell_type": "code",
      "execution_count": null,
      "id": "2bf732e7",
      "metadata": {
        "id": "2bf732e7"
      },
      "outputs": [],
      "source": [
        "preds = predict(model, test_loader, device)\n",
        "preds = preds.reshape(-1)"
      ]
    },
    {
      "cell_type": "markdown",
      "id": "b515c3d7-b93b-4b4c-8b3d-1a5c9cba86a0",
      "metadata": {
        "id": "b515c3d7-b93b-4b4c-8b3d-1a5c9cba86a0"
      },
      "source": [
        "### Submit"
      ]
    },
    {
      "cell_type": "code",
      "execution_count": null,
      "id": "49b74e70",
      "metadata": {
        "id": "49b74e70"
      },
      "outputs": [],
      "source": [
        "sample_submission[\"Patv\"] = preds\n",
        "sample_submission.to_csv(\"./submit.csv\", index = False)"
      ]
    },
    {
      "cell_type": "code",
      "source": [
        "sample_submission"
      ],
      "metadata": {
        "id": "9dvbZckrA9m8"
      },
      "id": "9dvbZckrA9m8",
      "execution_count": null,
      "outputs": []
    },
    {
      "cell_type": "code",
      "source": [
        "sample_submission['Patv'].describe()"
      ],
      "metadata": {
        "id": "Q540q4QPEy-f"
      },
      "id": "Q540q4QPEy-f",
      "execution_count": null,
      "outputs": []
    },
    {
      "cell_type": "code",
      "source": [
        "train_data['Patv'].describe()"
      ],
      "metadata": {
        "id": "EXcVgBBuJaN3"
      },
      "id": "EXcVgBBuJaN3",
      "execution_count": null,
      "outputs": []
    },
    {
      "cell_type": "code",
      "source": [
        "train_data['Patv'].tail(288)"
      ],
      "metadata": {
        "id": "YFpW4AlPJlhd"
      },
      "id": "YFpW4AlPJlhd",
      "execution_count": null,
      "outputs": []
    },
    {
      "cell_type": "code",
      "source": [
        ""
      ],
      "metadata": {
        "id": "q2qiIq3RsE0O"
      },
      "id": "q2qiIq3RsE0O",
      "execution_count": null,
      "outputs": []
    }
  ],
  "metadata": {
    "kernelspec": {
      "display_name": "Python 3 (ipykernel)",
      "language": "python",
      "name": "python3"
    },
    "language_info": {
      "codemirror_mode": {
        "name": "ipython",
        "version": 3
      },
      "file_extension": ".py",
      "mimetype": "text/x-python",
      "name": "python",
      "nbconvert_exporter": "python",
      "pygments_lexer": "ipython3",
      "version": "3.8.3"
    },
    "colab": {
      "name": "gru를 활용한 버전.ipynb",
      "provenance": [],
      "collapsed_sections": [],
      "include_colab_link": true
    },
    "accelerator": "GPU",
    "gpuClass": "standard"
  },
  "nbformat": 4,
  "nbformat_minor": 5
}
{
  "cells": [
    {
      "cell_type": "markdown",
      "metadata": {
        "id": "view-in-github",
        "colab_type": "text"
      },
      "source": [
        "<a href=\"https://colab.research.google.com/github/sexymetra/Ai-project/blob/LeeSangHyuck/%ED%81%B4%EB%9F%AC%EC%8A%A4%ED%84%B0%EB%A7%81%20%EB%91%90%EB%B2%88%EC%A7%B8.ipynb\" target=\"_parent\"><img src=\"https://colab.research.google.com/assets/colab-badge.svg\" alt=\"Open In Colab\"/></a>"
      ]
    },
    {
      "cell_type": "markdown",
      "id": "e1f053f9",
      "metadata": {
        "id": "e1f053f9"
      },
      "source": [
        "##### 베이스라인은 참고용 코드 입니다. 여러분 만의 고도화된 모델을 만들어 주세요"
      ]
    },
    {
      "cell_type": "markdown",
      "id": "f7444f30-0883-4a87-8e00-c5e5591a2a26",
      "metadata": {
        "id": "f7444f30-0883-4a87-8e00-c5e5591a2a26"
      },
      "source": [
        "## Import"
      ]
    },
    {
      "cell_type": "code",
      "execution_count": null,
      "id": "b85832b1-9f31-41e4-b934-cc260e5b3b1d",
      "metadata": {
        "id": "b85832b1-9f31-41e4-b934-cc260e5b3b1d"
      },
      "outputs": [],
      "source": [
        "import pandas as pd\n",
        "import numpy as np\n",
        "from tqdm import tqdm\n",
        "\n",
        "import torch\n",
        "import torch.nn as nn\n",
        "import torch.optim as optim\n",
        "import torch.nn.functional as F\n",
        "from torch.utils.data import Dataset, DataLoader\n",
        "\n",
        "device = torch.device('cuda') if torch.cuda.is_available() else torch.device('cpu')\n",
        "\n",
        "#하이퍼 파라미터\n",
        "CFG = {\n",
        "    'EPOCHS':10,\n",
        "    'LEARNING_RATE':1e-3,\n",
        "    'BATCH_SIZE':128,\n",
        "    'SEED':41\n",
        "}\n"
      ]
    },
    {
      "cell_type": "markdown",
      "id": "7d68c38e",
      "metadata": {
        "id": "7d68c38e"
      },
      "source": [
        "### 데이터 불러오기"
      ]
    },
    {
      "cell_type": "code",
      "execution_count": null,
      "id": "e3b89389",
      "metadata": {
        "id": "e3b89389",
        "colab": {
          "base_uri": "https://localhost:8080/"
        },
        "outputId": "d13a74f7-84b4-47d8-e3fe-e279f9e29446"
      },
      "outputs": [
        {
          "output_type": "stream",
          "name": "stdout",
          "text": [
            "Mounted at /content/drive\n"
          ]
        }
      ],
      "source": [
        "from google.colab import drive\n",
        "drive.mount('/content/drive')\n",
        "\n",
        "\n",
        "\n",
        "train_data = pd.read_csv(\"/content/drive/MyDrive/data/data/train_data.csv\")\n",
        "sample_submission = pd.read_csv(\"/content/drive/MyDrive/data/data/sample_submission.csv\")"
      ]
    },
    {
      "cell_type": "markdown",
      "id": "d21e80a6",
      "metadata": {
        "id": "d21e80a6"
      },
      "source": [
        "### 데이터 전처리"
      ]
    },
    {
      "cell_type": "code",
      "execution_count": null,
      "id": "f71d1927",
      "metadata": {
        "id": "f71d1927"
      },
      "outputs": [],
      "source": [
        "#결측치 0으로 만들기,보간\n",
        "train_data = train_data.interpolate(method = 'linear',limit_direction = 'forward')\n",
        "train_data = train_data.fillna(0)\n",
        "# Wspd, Wdir로 클러스터링\n",
        "\n",
        "from sklearn.cluster import KMeans\n",
        "cluster = train_data.loc[:,'Wspd':'Wdir']\n",
        "points = cluster.values\n",
        "kmeans = KMeans(n_clusters=12).fit(points)\n",
        "train_data['Cluster'] = kmeans.labels_\n",
        "\n",
        "#클러스터 더미화\n",
        "#cluster = pd.get_dummies(train_data['Cluster'],prefix=[\"cluster\"])\n",
        "#train_data = pd.merge(train_data,cluster,left_index=True, right_index=True)\n",
        "\n",
        "\n",
        "#Pab1,2,3정리\n",
        "train_data['Pab'] = train_data.loc[:,'Pab1':'Pab3'].median(axis=1) #Pad1,2,3의 중앙값으로 Pad설정\n",
        "train_data.drop(train_data.loc[:,'Pab1':'Pab3'],axis=1,inplace = True) #Pad1,2,3 삭제\n",
        "\n",
        "\n",
        "train_data = train_data.reindex(columns = ['TurbID','Day','Tmstamp','Cluster','Etmp','Itmp','Ndir','Pab','Prtv','Patv']) #원래 순서로 행 정렬\n",
        "#\"['cluster']_0\",\"['cluster']_1\",\"['cluster']_2\",\"['cluster']_3\",\"['cluster']_4\",\"['cluster']_5\",\"['cluster']_6\",\"['cluster']_7\",\"['cluster']_8\",\"['cluster']_9\",\"['cluster']_10\",\"['cluster']_11\","
      ]
    },
    {
      "cell_type": "code",
      "execution_count": null,
      "id": "f9b5f8d0",
      "metadata": {
        "id": "f9b5f8d0"
      },
      "outputs": [],
      "source": [
        "def make_train_data(data):\n",
        "    train_x, train_y = [], []\n",
        "    for i in tqdm(sorted(pd.unique(data[\"TurbID\"]))):\n",
        "        tmp_data = data[data[\"TurbID\"] == i]\n",
        "        for j in range(1, 201 - 6):\n",
        "            \n",
        "            # train data ==> 5일 단위\n",
        "            # label data ==> 2일 단위\n",
        "            day_list = [x for x in range(j, j+ 5)]\n",
        "            label_day_list = [y for y in range(j+5, j + 7)]\n",
        "            \n",
        "            train_tmp = tmp_data[tmp_data[\"Day\"].isin(day_list)]\n",
        "            label_tmp = tmp_data[tmp_data[\"Day\"].isin(label_day_list)][\"Patv\"]\n",
        "            \n",
        "            # feature 선택 및 제거\n",
        "            train_tmp = train_tmp.drop([\"TurbID\", \"Day\"], axis = 1)\n",
        "            \n",
        "            train_x.append(np.array(train_tmp))\n",
        "            train_y.append(np.array(label_tmp))\n",
        "            \n",
        "    return train_x, train_y"
      ]
    },
    {
      "cell_type": "code",
      "execution_count": null,
      "id": "0651c3af",
      "metadata": {
        "colab": {
          "base_uri": "https://localhost:8080/"
        },
        "id": "0651c3af",
        "outputId": "4ebb9f7e-8583-4b62-8a84-0e6a8941f526"
      },
      "outputs": [
        {
          "output_type": "stream",
          "name": "stderr",
          "text": [
            "100%|██████████| 134/134 [00:47<00:00,  2.83it/s]\n"
          ]
        }
      ],
      "source": [
        "# Feature 중 Tmstamp 정수로 변환\n",
        "tms_list = list(pd.unique(train_data[\"Tmstamp\"]))\n",
        "\n",
        "train_data[\"Tmstamp\"] = train_data[\"Tmstamp\"].apply(lambda x : tms_list.index(x) + 1)\n",
        "\n",
        "train_x, train_y = make_train_data(train_data)"
      ]
    },
    {
      "cell_type": "code",
      "execution_count": null,
      "id": "e79b8f87",
      "metadata": {
        "id": "e79b8f87"
      },
      "outputs": [],
      "source": [
        "train_x = np.array(train_x).reshape(-1, train_x[0].shape[0], train_x[0].shape[1])\n",
        "train_y = np.array(train_y)"
      ]
    },
    {
      "cell_type": "code",
      "execution_count": null,
      "id": "58783120",
      "metadata": {
        "colab": {
          "base_uri": "https://localhost:8080/"
        },
        "id": "58783120",
        "outputId": "29f37c24-186b-47de-cc9f-784cc51ebacc"
      },
      "outputs": [
        {
          "output_type": "execute_result",
          "data": {
            "text/plain": [
              "((25996, 720, 7), (25996, 288))"
            ]
          },
          "metadata": {},
          "execution_count": 7
        }
      ],
      "source": [
        "train_x.shape, train_y.shape"
      ]
    },
    {
      "cell_type": "markdown",
      "id": "3b2f3d76-fcf4-4866-a578-6bb76783bbed",
      "metadata": {
        "id": "3b2f3d76-fcf4-4866-a578-6bb76783bbed"
      },
      "source": [
        "### Custom Dataset"
      ]
    },
    {
      "cell_type": "code",
      "execution_count": null,
      "id": "4ec0a970-4d99-486d-b9b5-210f3cdca353",
      "metadata": {
        "id": "4ec0a970-4d99-486d-b9b5-210f3cdca353"
      },
      "outputs": [],
      "source": [
        "class CustomDataset(Dataset):\n",
        "    def __init__(self, X, Y):\n",
        "        self.X = X\n",
        "        self.Y = Y\n",
        "        \n",
        "    def __getitem__(self, index):\n",
        "        if self.Y is not None:\n",
        "            return torch.Tensor(self.X[index]), torch.Tensor(self.Y[index])\n",
        "        return torch.Tensor(self.X[index])\n",
        "    \n",
        "    def __len__(self):\n",
        "        return len(self.X)"
      ]
    },
    {
      "cell_type": "code",
      "execution_count": null,
      "id": "3614347b-da14-466f-9d04-b81e5448a9bd",
      "metadata": {
        "id": "3614347b-da14-466f-9d04-b81e5448a9bd"
      },
      "outputs": [],
      "source": [
        "train_dataset = CustomDataset(train_x, train_y)\n",
        "train_loader = DataLoader(train_dataset, batch_size = CFG['BATCH_SIZE'], shuffle=True, num_workers=0)"
      ]
    },
    {
      "cell_type": "markdown",
      "id": "c63f0b66-817d-49ff-9163-a975fb0f239d",
      "metadata": {
        "id": "c63f0b66-817d-49ff-9163-a975fb0f239d"
      },
      "source": [
        "### 모델 선언"
      ]
    },
    {
      "cell_type": "code",
      "execution_count": null,
      "id": "7927d7ef-e6dd-4ac4-8b89-e3a216c37e5a",
      "metadata": {
        "id": "7927d7ef-e6dd-4ac4-8b89-e3a216c37e5a"
      },
      "outputs": [],
      "source": [
        "class BaseModel(nn.Module):\n",
        "    def __init__(self):\n",
        "        super(BaseModel, self).__init__()\n",
        "        self.gru = nn.GRU(input_size=7, hidden_size=256, batch_first=True, bidirectional=False)\n",
        "        self.classifier = nn.Sequential(\n",
        "            nn.Linear(256,516),\n",
        "            nn.ReLU(),\n",
        "            nn.Linear(516,288),\n",
        "            nn.ReLU()\n",
        "        )\n",
        "        \n",
        "    def forward(self, x):\n",
        "        hidden, _ = self.gru(x)\n",
        "        output = self.classifier(hidden[:,-1,:])\n",
        "        return output"
      ]
    },
    {
      "cell_type": "markdown",
      "id": "b4f79f7d",
      "metadata": {
        "id": "b4f79f7d"
      },
      "source": [
        "### 모델 학습"
      ]
    },
    {
      "cell_type": "code",
      "execution_count": null,
      "id": "ff73d757-32d5-4868-afbb-1b9f2ea13826",
      "metadata": {
        "id": "ff73d757-32d5-4868-afbb-1b9f2ea13826"
      },
      "outputs": [],
      "source": [
        "def train(model, optimizer, train_loader, device):\n",
        "    model.to(device)\n",
        "    criterion = nn.MSELoss().to(device)\n",
        "    metric = nn.L1Loss().to(device)#이게 L1Loss였는데 MSE로 바꿈 첫번째 버전 -> 두번째 버전\n",
        "    best_mae = 9999999\n",
        "    \n",
        "    for epoch in range(1, CFG['EPOCHS']+1):\n",
        "        model.train()\n",
        "        train_loss = []\n",
        "        train_mae = []\n",
        "        for X, Y in tqdm(iter(train_loader)):\n",
        "            X = X.to(device)\n",
        "            Y = Y.to(device)\n",
        "            \n",
        "            optimizer.zero_grad()\n",
        "            \n",
        "            output = model(X)\n",
        "            loss = criterion(output, Y)\n",
        "            with torch.no_grad():\n",
        "                mae = metric(output, Y)\n",
        "            \n",
        "            loss.backward()\n",
        "            optimizer.step()\n",
        "            \n",
        "            train_loss.append(loss.item())\n",
        "            train_mae.append(mae.item())\n",
        "        print(f'Epoch : [{epoch}] Train Loss : [{np.mean(train_loss):.5f}] Train MAE : [{np.mean(train_mae):.5f}]')\n",
        "        \n",
        "        if best_mae > np.mean(train_mae):\n",
        "            best_mae = np.mean(train_mae)\n",
        "            torch.save(model.state_dict(), './best_model.pth', _use_new_zipfile_serialization=False)\n",
        "            print('Model Saved.')"
      ]
    },
    {
      "cell_type": "code",
      "execution_count": null,
      "id": "a1570b00-a309-4e5e-b53d-5848ba53eb19",
      "metadata": {
        "id": "a1570b00-a309-4e5e-b53d-5848ba53eb19",
        "outputId": "a26ca95f-3d96-4761-fc1f-ce6e8e72a87b",
        "colab": {
          "base_uri": "https://localhost:8080/"
        }
      },
      "outputs": [
        {
          "output_type": "stream",
          "name": "stderr",
          "text": [
            "100%|██████████| 204/204 [00:16<00:00, 12.45it/s]\n"
          ]
        },
        {
          "output_type": "stream",
          "name": "stdout",
          "text": [
            "Epoch : [1] Train Loss : [197894.37592] Train MAE : [330.32183]\n",
            "Model Saved.\n"
          ]
        },
        {
          "output_type": "stream",
          "name": "stderr",
          "text": [
            "100%|██████████| 204/204 [00:15<00:00, 12.93it/s]\n"
          ]
        },
        {
          "output_type": "stream",
          "name": "stdout",
          "text": [
            "Epoch : [2] Train Loss : [166940.74931] Train MAE : [314.25334]\n",
            "Model Saved.\n"
          ]
        },
        {
          "output_type": "stream",
          "name": "stderr",
          "text": [
            "100%|██████████| 204/204 [00:15<00:00, 12.77it/s]\n"
          ]
        },
        {
          "output_type": "stream",
          "name": "stdout",
          "text": [
            "Epoch : [3] Train Loss : [152314.75414] Train MAE : [295.97551]\n",
            "Model Saved.\n"
          ]
        },
        {
          "output_type": "stream",
          "name": "stderr",
          "text": [
            "100%|██████████| 204/204 [00:16<00:00, 12.49it/s]\n"
          ]
        },
        {
          "output_type": "stream",
          "name": "stdout",
          "text": [
            "Epoch : [4] Train Loss : [140312.04833] Train MAE : [279.39560]\n",
            "Model Saved.\n"
          ]
        },
        {
          "output_type": "stream",
          "name": "stderr",
          "text": [
            "100%|██████████| 204/204 [00:16<00:00, 12.34it/s]\n"
          ]
        },
        {
          "output_type": "stream",
          "name": "stdout",
          "text": [
            "Epoch : [5] Train Loss : [132562.78776] Train MAE : [269.22666]\n",
            "Model Saved.\n"
          ]
        },
        {
          "output_type": "stream",
          "name": "stderr",
          "text": [
            "100%|██████████| 204/204 [00:16<00:00, 12.37it/s]\n"
          ]
        },
        {
          "output_type": "stream",
          "name": "stdout",
          "text": [
            "Epoch : [6] Train Loss : [127066.59222] Train MAE : [262.08284]\n",
            "Model Saved.\n"
          ]
        },
        {
          "output_type": "stream",
          "name": "stderr",
          "text": [
            "100%|██████████| 204/204 [00:16<00:00, 12.38it/s]\n"
          ]
        },
        {
          "output_type": "stream",
          "name": "stdout",
          "text": [
            "Epoch : [7] Train Loss : [122225.73254] Train MAE : [255.38847]\n",
            "Model Saved.\n"
          ]
        },
        {
          "output_type": "stream",
          "name": "stderr",
          "text": [
            "100%|██████████| 204/204 [00:16<00:00, 12.37it/s]\n"
          ]
        },
        {
          "output_type": "stream",
          "name": "stdout",
          "text": [
            "Epoch : [8] Train Loss : [117259.29488] Train MAE : [248.37426]\n",
            "Model Saved.\n"
          ]
        },
        {
          "output_type": "stream",
          "name": "stderr",
          "text": [
            "100%|██████████| 204/204 [00:16<00:00, 12.38it/s]\n"
          ]
        },
        {
          "output_type": "stream",
          "name": "stdout",
          "text": [
            "Epoch : [9] Train Loss : [112015.83134] Train MAE : [240.61845]\n",
            "Model Saved.\n"
          ]
        },
        {
          "output_type": "stream",
          "name": "stderr",
          "text": [
            "100%|██████████| 204/204 [00:16<00:00, 12.37it/s]"
          ]
        },
        {
          "output_type": "stream",
          "name": "stdout",
          "text": [
            "Epoch : [10] Train Loss : [108002.71641] Train MAE : [234.20626]\n",
            "Model Saved.\n"
          ]
        },
        {
          "output_type": "stream",
          "name": "stderr",
          "text": [
            "\n"
          ]
        }
      ],
      "source": [
        "model = BaseModel()\n",
        "model.eval()\n",
        "optimizer = torch.optim.Adam(params = model.parameters(), lr = CFG[\"LEARNING_RATE\"])\n",
        "train(model, optimizer, train_loader, device)"
      ]
    },
    {
      "cell_type": "markdown",
      "id": "4d51f726",
      "metadata": {
        "id": "4d51f726"
      },
      "source": [
        "### 201일, 202일 Patv 추론"
      ]
    },
    {
      "cell_type": "code",
      "execution_count": null,
      "id": "a4008519",
      "metadata": {
        "id": "a4008519"
      },
      "outputs": [],
      "source": [
        "test_data_list = [x for x in range(196, 201)]\n",
        "\n",
        "test_data = train_data[train_data[\"Day\"].isin(test_data_list)]\n",
        "\n",
        "test_data = test_data.drop([\"TurbID\", \"Day\"], axis = 1)\n",
        "\n",
        "test_data = np.array(test_data).reshape(-1, train_x[0].shape[0], train_x[0].shape[1])"
      ]
    },
    {
      "cell_type": "code",
      "execution_count": null,
      "id": "c781b396",
      "metadata": {
        "id": "c781b396",
        "outputId": "1a642d01-3982-4f77-bc9f-3027d2d7dc34",
        "colab": {
          "base_uri": "https://localhost:8080/"
        }
      },
      "outputs": [
        {
          "output_type": "execute_result",
          "data": {
            "text/plain": [
              "(134, 720, 7)"
            ]
          },
          "metadata": {},
          "execution_count": 14
        }
      ],
      "source": [
        "test_data.shape"
      ]
    },
    {
      "cell_type": "code",
      "execution_count": null,
      "id": "08cffe8c-d5b1-44c1-82de-5d24bba48d8a",
      "metadata": {
        "id": "08cffe8c-d5b1-44c1-82de-5d24bba48d8a"
      },
      "outputs": [],
      "source": [
        "test_dataset = CustomDataset(test_data, None)\n",
        "test_loader = DataLoader(test_dataset, batch_size = CFG['BATCH_SIZE'], shuffle=False, num_workers=0)"
      ]
    },
    {
      "cell_type": "code",
      "execution_count": null,
      "id": "40fe74ac-8b5b-4e7e-97af-979063004b6f",
      "metadata": {
        "id": "40fe74ac-8b5b-4e7e-97af-979063004b6f"
      },
      "outputs": [],
      "source": [
        "def predict(model, test_loader, device):\n",
        "    model.to(device)\n",
        "    model.eval()\n",
        "    preds = []\n",
        "    with torch.no_grad():\n",
        "        for X in tqdm(iter(test_loader)):\n",
        "            X = X.to(device)\n",
        "            \n",
        "            pred = model(X)\n",
        "            preds += pred.cpu().tolist()\n",
        "    \n",
        "    return np.array(preds)"
      ]
    },
    {
      "cell_type": "markdown",
      "id": "38b0ab2f-8914-4563-88b9-078addd003e2",
      "metadata": {
        "id": "38b0ab2f-8914-4563-88b9-078addd003e2"
      },
      "source": [
        "### Model Load"
      ]
    },
    {
      "cell_type": "code",
      "execution_count": null,
      "id": "3ad3a476-9985-4935-961a-5b50f2016bd3",
      "metadata": {
        "id": "3ad3a476-9985-4935-961a-5b50f2016bd3",
        "outputId": "b0e96ee3-8130-43d5-e44c-cd51e151a8c8",
        "colab": {
          "base_uri": "https://localhost:8080/"
        }
      },
      "outputs": [
        {
          "output_type": "execute_result",
          "data": {
            "text/plain": [
              "BaseModel(\n",
              "  (gru): GRU(7, 256, batch_first=True)\n",
              "  (classifier): Sequential(\n",
              "    (0): Linear(in_features=256, out_features=516, bias=True)\n",
              "    (1): ReLU()\n",
              "    (2): Linear(in_features=516, out_features=288, bias=True)\n",
              "    (3): ReLU()\n",
              "  )\n",
              ")"
            ]
          },
          "metadata": {},
          "execution_count": 17
        }
      ],
      "source": [
        "model = BaseModel()\n",
        "best_checkpoint = torch.load('./best_model.pth')\n",
        "model.load_state_dict(best_checkpoint)\n",
        "model.eval()"
      ]
    },
    {
      "cell_type": "code",
      "source": [
        "from google.colab import drive\n",
        "drive.mount('/content/drive')"
      ],
      "metadata": {
        "id": "Ygzgdzz4QPaL",
        "colab": {
          "base_uri": "https://localhost:8080/"
        },
        "outputId": "6add7349-89b7-405a-e69c-defc4e16ef03"
      },
      "id": "Ygzgdzz4QPaL",
      "execution_count": null,
      "outputs": [
        {
          "output_type": "stream",
          "name": "stdout",
          "text": [
            "Drive already mounted at /content/drive; to attempt to forcibly remount, call drive.mount(\"/content/drive\", force_remount=True).\n"
          ]
        }
      ]
    },
    {
      "cell_type": "code",
      "execution_count": null,
      "id": "2bf732e7",
      "metadata": {
        "id": "2bf732e7",
        "outputId": "4999a8d6-b0eb-4f33-fa31-cbcde70ddb78",
        "colab": {
          "base_uri": "https://localhost:8080/"
        }
      },
      "outputs": [
        {
          "output_type": "stream",
          "name": "stderr",
          "text": [
            "100%|██████████| 2/2 [00:00<00:00, 25.87it/s]\n"
          ]
        }
      ],
      "source": [
        "preds = predict(model, test_loader, device)\n",
        "preds = preds.reshape(-1)"
      ]
    },
    {
      "cell_type": "markdown",
      "id": "b515c3d7-b93b-4b4c-8b3d-1a5c9cba86a0",
      "metadata": {
        "id": "b515c3d7-b93b-4b4c-8b3d-1a5c9cba86a0"
      },
      "source": [
        "### Submit"
      ]
    },
    {
      "cell_type": "code",
      "execution_count": null,
      "id": "49b74e70",
      "metadata": {
        "id": "49b74e70"
      },
      "outputs": [],
      "source": [
        "sample_submission[\"Patv\"] = preds\n",
        "sample_submission.to_csv(\"./culster.csv\", index = False)"
      ]
    },
    {
      "cell_type": "code",
      "source": [
        "sample_submission[\"Patv\"]"
      ],
      "metadata": {
        "id": "YFpW4AlPJlhd",
        "colab": {
          "base_uri": "https://localhost:8080/"
        },
        "outputId": "e41013e0-f34e-4273-a056-ee560a809498"
      },
      "id": "YFpW4AlPJlhd",
      "execution_count": null,
      "outputs": [
        {
          "output_type": "execute_result",
          "data": {
            "text/plain": [
              "0        195.271637\n",
              "1        230.793823\n",
              "2        242.643936\n",
              "3        256.346039\n",
              "4        275.673859\n",
              "            ...    \n",
              "38587    285.322327\n",
              "38588    279.712799\n",
              "38589    278.105377\n",
              "38590    289.322296\n",
              "38591    292.971100\n",
              "Name: Patv, Length: 38592, dtype: float64"
            ]
          },
          "metadata": {},
          "execution_count": 21
        }
      ]
    },
    {
      "cell_type": "code",
      "source": [
        ""
      ],
      "metadata": {
        "id": "Xvo65TsSTKqQ"
      },
      "id": "Xvo65TsSTKqQ",
      "execution_count": null,
      "outputs": []
    }
  ],
  "metadata": {
    "kernelspec": {
      "display_name": "Python 3 (ipykernel)",
      "language": "python",
      "name": "python3"
    },
    "language_info": {
      "codemirror_mode": {
        "name": "ipython",
        "version": 3
      },
      "file_extension": ".py",
      "mimetype": "text/x-python",
      "name": "python",
      "nbconvert_exporter": "python",
      "pygments_lexer": "ipython3",
      "version": "3.8.3"
    },
    "colab": {
      "name": "gru를 활용한 클러스터링.ipynb",
      "provenance": [],
      "collapsed_sections": [],
      "include_colab_link": true
    },
    "accelerator": "GPU",
    "gpuClass": "standard"
  },
  "nbformat": 4,
  "nbformat_minor": 5
}
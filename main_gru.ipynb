{
  "cells": [
    {
      "cell_type": "markdown",
      "metadata": {
        "id": "view-in-github",
        "colab_type": "text"
      },
      "source": [
        "<a href=\"https://colab.research.google.com/github/tinycaterpillar/Ai-project/blob/HwangJinIk/main_gru.ipynb\" target=\"_parent\"><img src=\"https://colab.research.google.com/assets/colab-badge.svg\" alt=\"Open In Colab\"/></a>"
      ]
    },
    {
      "cell_type": "markdown",
      "id": "e1f053f9",
      "metadata": {
        "id": "e1f053f9"
      },
      "source": [
        "##### 베이스라인은 참고용 코드 입니다. 여러분 만의 고도화된 모델을 만들어 주세요"
      ]
    },
    {
      "cell_type": "markdown",
      "id": "f7444f30-0883-4a87-8e00-c5e5591a2a26",
      "metadata": {
        "id": "f7444f30-0883-4a87-8e00-c5e5591a2a26"
      },
      "source": [
        "## Hyperparameter Setting"
      ]
    },
    {
      "cell_type": "code",
      "execution_count": null,
      "id": "b85832b1-9f31-41e4-b934-cc260e5b3b1d",
      "metadata": {
        "id": "b85832b1-9f31-41e4-b934-cc260e5b3b1d"
      },
      "outputs": [],
      "source": [
        "import pandas as pd\n",
        "import numpy as np\n",
        "from tqdm import tqdm\n",
        "\n",
        "import torch\n",
        "import torch.nn as nn\n",
        "import torch.optim as optim\n",
        "import torch.nn.functional as F\n",
        "from torch.utils.data import Dataset, DataLoader\n",
        "\n",
        "device = torch.device('cuda') if torch.cuda.is_available() else torch.device('cpu')\n",
        "\n",
        "#하이퍼 파라미터\n",
        "hyperparam = {\n",
        "    'epoch':50,\n",
        "    'learning_rate':1e-3,\n",
        "    'batch_size':128,\n",
        "}\n",
        "constant = {\n",
        "    'day_to_predict': 2, # 예측해야 하는 day의 수\n",
        "    'total_day' : 200\n",
        "}"
      ]
    },
    {
      "cell_type": "markdown",
      "source": [
        "## Colab drive mount"
      ],
      "metadata": {
        "id": "RNsCobkMffOY"
      },
      "id": "RNsCobkMffOY"
    },
    {
      "cell_type": "code",
      "source": [
        "from google.colab import drive\n",
        "drive.mount('/content/drive')"
      ],
      "metadata": {
        "colab": {
          "base_uri": "https://localhost:8080/"
        },
        "id": "D0hwCVO-fccM",
        "outputId": "a4dc8125-b7a0-4a1a-b77e-7a5e4f2668a1"
      },
      "id": "D0hwCVO-fccM",
      "execution_count": null,
      "outputs": [
        {
          "output_type": "stream",
          "name": "stdout",
          "text": [
            "Drive already mounted at /content/drive; to attempt to forcibly remount, call drive.mount(\"/content/drive\", force_remount=True).\n"
          ]
        }
      ]
    },
    {
      "cell_type": "markdown",
      "id": "7d68c38e",
      "metadata": {
        "id": "7d68c38e"
      },
      "source": [
        "## 데이터 불러오기"
      ]
    },
    {
      "cell_type": "code",
      "execution_count": null,
      "id": "e3b89389",
      "metadata": {
        "id": "e3b89389"
      },
      "outputs": [],
      "source": [
        "Path = \"/content/drive/MyDrive/Colab Notebooks/2022 Inha challenge/data/\"\n",
        "train_data = np.load(Path+\"train_data.npy\")\n",
        "train_labels = np.load(Path+\"train_labels.npy\")\n",
        "validation_data = np.load(Path+\"validation_data.npy\")\n",
        "validation_labels = np.load(Path+\"validation_labels.npy\")"
      ]
    },
    {
      "cell_type": "markdown",
      "source": [
        "## 현재 모델 저장용 directory 생성"
      ],
      "metadata": {
        "id": "CNMSxGi8B-h4"
      },
      "id": "CNMSxGi8B-h4"
    },
    {
      "cell_type": "code",
      "source": [
        "import datetime\n",
        "import os\n",
        "\n",
        "serial = f\"{datetime.datetime.now().strftime('%Y-%m-%d %H:%M:%S')}\"\n",
        "directory = f\"/content/drive/MyDrive/Colab Notebooks/2022 Inha challenge/model/{serial}\"\n",
        "os.makedirs(directory)"
      ],
      "metadata": {
        "id": "eup38J5ICBfl"
      },
      "id": "eup38J5ICBfl",
      "execution_count": null,
      "outputs": []
    },
    {
      "cell_type": "markdown",
      "id": "3b2f3d76-fcf4-4866-a578-6bb76783bbed",
      "metadata": {
        "id": "3b2f3d76-fcf4-4866-a578-6bb76783bbed"
      },
      "source": [
        "## Custom Dataset"
      ]
    },
    {
      "cell_type": "code",
      "execution_count": null,
      "id": "4ec0a970-4d99-486d-b9b5-210f3cdca353",
      "metadata": {
        "id": "4ec0a970-4d99-486d-b9b5-210f3cdca353"
      },
      "outputs": [],
      "source": [
        "class CustomDataset:\n",
        "    def __init__(self, data, labels):\n",
        "        self.data = data\n",
        "        self.labels = labels\n",
        "    \n",
        "    def __len__(self):\n",
        "        return len(self.labels)\n",
        "\n",
        "    def __getitem__(self, ind):\n",
        "        return torch.Tensor(self.data[ind]), torch.Tensor(self.labels[ind])"
      ]
    },
    {
      "cell_type": "markdown",
      "source": [
        "## DataLoader setting"
      ],
      "metadata": {
        "id": "46gOfFaQ_3S3"
      },
      "id": "46gOfFaQ_3S3"
    },
    {
      "cell_type": "code",
      "execution_count": null,
      "id": "3614347b-da14-466f-9d04-b81e5448a9bd",
      "metadata": {
        "id": "3614347b-da14-466f-9d04-b81e5448a9bd"
      },
      "outputs": [],
      "source": [
        "train_dataset = CustomDataset(train_data, train_labels)\n",
        "validation_dataset = CustomDataset(validation_data, validation_labels)\n",
        "train_loader = DataLoader(train_dataset, batch_size = hyperparam['batch_size'], shuffle=True)\n",
        "\n",
        "train_loader = DataLoader(\n",
        "    dataset = train_dataset,\n",
        "    batch_size = hyperparam[\"batch_size\"],\n",
        "    shuffle = True\n",
        ")\n",
        "test_loader = DataLoader(\n",
        "    dataset = validation_dataset,\n",
        "    batch_size = hyperparam[\"batch_size\"],\n",
        "    shuffle = False\n",
        ")"
      ]
    },
    {
      "cell_type": "markdown",
      "id": "c63f0b66-817d-49ff-9163-a975fb0f239d",
      "metadata": {
        "id": "c63f0b66-817d-49ff-9163-a975fb0f239d"
      },
      "source": [
        "## 모델 선언"
      ]
    },
    {
      "cell_type": "code",
      "execution_count": null,
      "id": "7927d7ef-e6dd-4ac4-8b89-e3a216c37e5a",
      "metadata": {
        "id": "7927d7ef-e6dd-4ac4-8b89-e3a216c37e5a"
      },
      "outputs": [],
      "source": [
        "class BaseModel(nn.Module):\n",
        "    def __init__(self):\n",
        "        super(BaseModel, self).__init__()\n",
        "        self.gru = nn.GRU(input_size=8, hidden_size=256, num_layers = 2, batch_first=True, bidirectional=False)\n",
        "        self.classifier = nn.Sequential(\n",
        "            nn.Linear(256,516),\n",
        "            nn.ReLU(),\n",
        "            nn.Linear(516,288),\n",
        "            nn.ReLU()\n",
        "        )\n",
        "        \n",
        "    def forward(self, x):\n",
        "        hidden, _ = self.gru(x)\n",
        "        output = self.classifier(hidden[:,-1,:])\n",
        "        return output"
      ]
    },
    {
      "cell_type": "markdown",
      "source": [
        "# 평가 함수"
      ],
      "metadata": {
        "id": "5YKfcjlcEvHB"
      },
      "id": "5YKfcjlcEvHB"
    },
    {
      "cell_type": "markdown",
      "source": [
        "## Customize loss function\n",
        "https://neptune.ai/blog/pytorch-loss-functions"
      ],
      "metadata": {
        "id": "zCPkUEQ0KfUf"
      },
      "id": "zCPkUEQ0KfUf"
    },
    {
      "cell_type": "code",
      "source": [
        "def lossfunction(input, target, day = 2):\n",
        "    return (torch.sqrt(torch.sum((input - target)**2)/(day*144)) + torch.sum(torch.abs(input - target))/(day*144))/2"
      ],
      "metadata": {
        "id": "p7C7bAzbTLTW"
      },
      "id": "p7C7bAzbTLTW",
      "execution_count": null,
      "outputs": []
    },
    {
      "cell_type": "markdown",
      "source": [
        "## 모델 테스트"
      ],
      "metadata": {
        "id": "m57XbM7QTLyq"
      },
      "id": "m57XbM7QTLyq"
    },
    {
      "cell_type": "code",
      "source": [
        "def test():\n",
        "    model.eval() # nn.Module.eval method, train 과 test 를 구분, train 할 때는 model.train 을 호출한다\n",
        "    score = 0\n",
        "    maxval = 0\n",
        "    minval = 1e9\n",
        "    for data, target in test_loader:\n",
        "        data, target = data.to(device), target.to(device) # gpu 에 tensor 들을 할당함(cpu가 아닌 gpu 로 계산하기 위함), 여기서 data, target 은 tensor 이다\n",
        "        output = model(data)\n",
        "\n",
        "        cur = lossfunction(output, target)\n",
        "        score += cur\n",
        "        maxval = max(maxval, cur)\n",
        "        minval = min(minval, cur)\n",
        "\n",
        "    score /= len(test_loader)\n",
        "    print(\"=\"*44)\n",
        "    print(f\"Test set: socore : {score:.4f}\")\n",
        "    print(f\"        : max    : {maxval:.4f}\")\n",
        "    print(f\"        : min    : {minval:.4f}\")"
      ],
      "metadata": {
        "id": "C_dPYcveGNQU"
      },
      "id": "C_dPYcveGNQU",
      "execution_count": null,
      "outputs": []
    },
    {
      "cell_type": "markdown",
      "source": [
        "## 모델 학습"
      ],
      "metadata": {
        "id": "OHqoc79YAm7h"
      },
      "id": "OHqoc79YAm7h"
    },
    {
      "cell_type": "code",
      "execution_count": null,
      "id": "ff73d757-32d5-4868-afbb-1b9f2ea13826",
      "metadata": {
        "id": "ff73d757-32d5-4868-afbb-1b9f2ea13826"
      },
      "outputs": [],
      "source": [
        "def train():\n",
        "    model.to(device)\n",
        "    for epoch in range(1, hyperparam['epoch']+1):\n",
        "        model.train()\n",
        "        train_loss = []\n",
        "        for X, Y in tqdm(iter(train_loader)):\n",
        "            X = X.to(device)\n",
        "            Y = Y.to(device)\n",
        "            \n",
        "            optimizer.zero_grad()\n",
        "            \n",
        "            output = model(X)\n",
        "            loss = lossfunction(output, Y)\n",
        "            loss.backward()\n",
        "            optimizer.step()\n",
        "            \n",
        "            train_loss.append(loss.item())\n",
        "        \n",
        "        print(f'Epoch : [{epoch}] Train Loss : [{np.mean(train_loss):.5f}]')\n",
        "        test()\n",
        "        torch.save(model.state_dict(), directory+f\"{epoch}.pth\", _use_new_zipfile_serialization=False)\n",
        "        print('Model Saved.')"
      ]
    },
    {
      "cell_type": "markdown",
      "metadata": {
        "id": "xwS1G9W-KPlz"
      },
      "source": [
        "### 모델 학습"
      ],
      "id": "xwS1G9W-KPlz"
    },
    {
      "cell_type": "code",
      "execution_count": null,
      "id": "a1570b00-a309-4e5e-b53d-5848ba53eb19",
      "metadata": {
        "id": "a1570b00-a309-4e5e-b53d-5848ba53eb19",
        "colab": {
          "base_uri": "https://localhost:8080/"
        },
        "outputId": "027df590-96a1-4a43-9bec-daa4eab98317"
      },
      "outputs": [
        {
          "output_type": "stream",
          "name": "stderr",
          "text": [
            "100%|██████████| 163/163 [00:27<00:00,  6.01it/s]\n"
          ]
        },
        {
          "output_type": "stream",
          "name": "stdout",
          "text": [
            "Epoch : [1] Train Loss : [22367.94096]\n",
            "============================================\n",
            "Test set: socore : 21007.0703\n",
            "        : max    : 23312.7500\n",
            "        : min    : 12909.7734\n",
            "Model Saved.\n"
          ]
        },
        {
          "output_type": "stream",
          "name": "stderr",
          "text": [
            "100%|██████████| 163/163 [00:27<00:00,  5.99it/s]\n"
          ]
        },
        {
          "output_type": "stream",
          "name": "stdout",
          "text": [
            "Epoch : [2] Train Loss : [20361.37977]\n",
            "============================================\n",
            "Test set: socore : 19936.3809\n",
            "        : max    : 22127.4863\n",
            "        : min    : 12344.8105\n",
            "Model Saved.\n"
          ]
        },
        {
          "output_type": "stream",
          "name": "stderr",
          "text": [
            "100%|██████████| 163/163 [00:27<00:00,  6.02it/s]\n"
          ]
        },
        {
          "output_type": "stream",
          "name": "stdout",
          "text": [
            "Epoch : [3] Train Loss : [19491.17362]\n",
            "============================================\n",
            "Test set: socore : 19181.8535\n",
            "        : max    : 20971.8945\n",
            "        : min    : 12122.2246\n",
            "Model Saved.\n"
          ]
        },
        {
          "output_type": "stream",
          "name": "stderr",
          "text": [
            "100%|██████████| 163/163 [00:27<00:00,  5.99it/s]\n"
          ]
        },
        {
          "output_type": "stream",
          "name": "stdout",
          "text": [
            "Epoch : [4] Train Loss : [18801.49890]\n",
            "============================================\n",
            "Test set: socore : 18554.6094\n",
            "        : max    : 20289.3008\n",
            "        : min    : 11846.6689\n",
            "Model Saved.\n"
          ]
        },
        {
          "output_type": "stream",
          "name": "stderr",
          "text": [
            "100%|██████████| 163/163 [00:27<00:00,  6.02it/s]\n"
          ]
        },
        {
          "output_type": "stream",
          "name": "stdout",
          "text": [
            "Epoch : [5] Train Loss : [18119.00721]\n",
            "============================================\n",
            "Test set: socore : 17918.3184\n",
            "        : max    : 19816.7129\n",
            "        : min    : 11135.2764\n",
            "Model Saved.\n"
          ]
        },
        {
          "output_type": "stream",
          "name": "stderr",
          "text": [
            "100%|██████████| 163/163 [00:26<00:00,  6.06it/s]\n"
          ]
        },
        {
          "output_type": "stream",
          "name": "stdout",
          "text": [
            "Epoch : [6] Train Loss : [17512.34161]\n",
            "============================================\n",
            "Test set: socore : 17418.9160\n",
            "        : max    : 19158.9180\n",
            "        : min    : 10906.2910\n",
            "Model Saved.\n"
          ]
        },
        {
          "output_type": "stream",
          "name": "stderr",
          "text": [
            "100%|██████████| 163/163 [00:27<00:00,  6.02it/s]\n"
          ]
        },
        {
          "output_type": "stream",
          "name": "stdout",
          "text": [
            "Epoch : [7] Train Loss : [16897.29248]\n",
            "============================================\n",
            "Test set: socore : 16824.1055\n",
            "        : max    : 18855.7656\n",
            "        : min    : 10590.0811\n",
            "Model Saved.\n"
          ]
        },
        {
          "output_type": "stream",
          "name": "stderr",
          "text": [
            "100%|██████████| 163/163 [00:27<00:00,  6.00it/s]\n"
          ]
        },
        {
          "output_type": "stream",
          "name": "stdout",
          "text": [
            "Epoch : [8] Train Loss : [16260.70940]\n",
            "============================================\n",
            "Test set: socore : 16309.3389\n",
            "        : max    : 18325.9648\n",
            "        : min    : 10340.8398\n",
            "Model Saved.\n"
          ]
        },
        {
          "output_type": "stream",
          "name": "stderr",
          "text": [
            "100%|██████████| 163/163 [00:27<00:00,  6.01it/s]\n"
          ]
        },
        {
          "output_type": "stream",
          "name": "stdout",
          "text": [
            "Epoch : [9] Train Loss : [15716.66609]\n",
            "============================================\n",
            "Test set: socore : 15701.1094\n",
            "        : max    : 17769.1133\n",
            "        : min    : 10112.4336\n",
            "Model Saved.\n"
          ]
        },
        {
          "output_type": "stream",
          "name": "stderr",
          "text": [
            "100%|██████████| 163/163 [00:27<00:00,  6.01it/s]\n"
          ]
        },
        {
          "output_type": "stream",
          "name": "stdout",
          "text": [
            "Epoch : [10] Train Loss : [15228.68734]\n",
            "============================================\n",
            "Test set: socore : 15431.1123\n",
            "        : max    : 17562.1621\n",
            "        : min    : 10090.1230\n",
            "Model Saved.\n"
          ]
        },
        {
          "output_type": "stream",
          "name": "stderr",
          "text": [
            "100%|██████████| 163/163 [00:27<00:00,  6.02it/s]\n"
          ]
        },
        {
          "output_type": "stream",
          "name": "stdout",
          "text": [
            "Epoch : [11] Train Loss : [14975.50094]\n",
            "============================================\n",
            "Test set: socore : 15113.2158\n",
            "        : max    : 17142.4961\n",
            "        : min    : 9507.1416\n",
            "Model Saved.\n"
          ]
        },
        {
          "output_type": "stream",
          "name": "stderr",
          "text": [
            "100%|██████████| 163/163 [00:27<00:00,  6.01it/s]\n"
          ]
        },
        {
          "output_type": "stream",
          "name": "stdout",
          "text": [
            "Epoch : [12] Train Loss : [14544.74344]\n",
            "============================================\n",
            "Test set: socore : 14763.5654\n",
            "        : max    : 16693.3125\n",
            "        : min    : 9426.5742\n",
            "Model Saved.\n"
          ]
        },
        {
          "output_type": "stream",
          "name": "stderr",
          "text": [
            "100%|██████████| 163/163 [00:27<00:00,  6.00it/s]\n"
          ]
        },
        {
          "output_type": "stream",
          "name": "stdout",
          "text": [
            "Epoch : [13] Train Loss : [14186.02475]\n",
            "============================================\n",
            "Test set: socore : 14226.6230\n",
            "        : max    : 15806.4980\n",
            "        : min    : 9155.7832\n",
            "Model Saved.\n"
          ]
        },
        {
          "output_type": "stream",
          "name": "stderr",
          "text": [
            "100%|██████████| 163/163 [00:27<00:00,  5.98it/s]\n"
          ]
        },
        {
          "output_type": "stream",
          "name": "stdout",
          "text": [
            "Epoch : [14] Train Loss : [13847.32549]\n",
            "============================================\n",
            "Test set: socore : 14148.1699\n",
            "        : max    : 15751.4062\n",
            "        : min    : 9038.1201\n",
            "Model Saved.\n"
          ]
        },
        {
          "output_type": "stream",
          "name": "stderr",
          "text": [
            "100%|██████████| 163/163 [00:27<00:00,  6.01it/s]\n"
          ]
        },
        {
          "output_type": "stream",
          "name": "stdout",
          "text": [
            "Epoch : [15] Train Loss : [13548.03092]\n",
            "============================================\n",
            "Test set: socore : 13680.8223\n",
            "        : max    : 15384.7715\n",
            "        : min    : 8763.5156\n",
            "Model Saved.\n"
          ]
        },
        {
          "output_type": "stream",
          "name": "stderr",
          "text": [
            "100%|██████████| 163/163 [00:27<00:00,  6.02it/s]\n"
          ]
        },
        {
          "output_type": "stream",
          "name": "stdout",
          "text": [
            "Epoch : [16] Train Loss : [13233.79737]\n",
            "============================================\n",
            "Test set: socore : 13682.2920\n",
            "        : max    : 15294.6553\n",
            "        : min    : 8638.5107\n",
            "Model Saved.\n"
          ]
        },
        {
          "output_type": "stream",
          "name": "stderr",
          "text": [
            "100%|██████████| 163/163 [00:27<00:00,  6.00it/s]\n"
          ]
        },
        {
          "output_type": "stream",
          "name": "stdout",
          "text": [
            "Epoch : [17] Train Loss : [13047.29232]\n",
            "============================================\n",
            "Test set: socore : 13179.5381\n",
            "        : max    : 14873.2236\n",
            "        : min    : 8441.7148\n",
            "Model Saved.\n"
          ]
        },
        {
          "output_type": "stream",
          "name": "stderr",
          "text": [
            "  9%|▊         | 14/163 [00:02<00:25,  5.96it/s]"
          ]
        }
      ],
      "source": [
        "model = BaseModel()\n",
        "model.eval()\n",
        "optimizer = torch.optim.Adam(params = model.parameters(), lr = hyperparam[\"learning_rate\"])\n",
        "train()"
      ]
    }
  ],
  "metadata": {
    "kernelspec": {
      "display_name": "Python 3 (ipykernel)",
      "language": "python",
      "name": "python3"
    },
    "language_info": {
      "codemirror_mode": {
        "name": "ipython",
        "version": 3
      },
      "file_extension": ".py",
      "mimetype": "text/x-python",
      "name": "python",
      "nbconvert_exporter": "python",
      "pygments_lexer": "ipython3",
      "version": "3.8.3"
    },
    "colab": {
      "name": "main_gru.ipynb",
      "provenance": [],
      "collapsed_sections": [],
      "include_colab_link": true
    },
    "accelerator": "GPU",
    "gpuClass": "standard"
  },
  "nbformat": 4,
  "nbformat_minor": 5
}
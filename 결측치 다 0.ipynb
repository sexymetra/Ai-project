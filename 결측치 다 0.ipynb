{
  "cells": [
    {
      "cell_type": "markdown",
      "metadata": {
        "id": "view-in-github",
        "colab_type": "text"
      },
      "source": [
        "<a href=\"https://colab.research.google.com/github/sexymetra/Ai-project/blob/LeeSangHyuck/%EA%B2%B0%EC%B8%A1%EC%B9%98%20%EB%8B%A4%200.ipynb\" target=\"_parent\"><img src=\"https://colab.research.google.com/assets/colab-badge.svg\" alt=\"Open In Colab\"/></a>"
      ]
    },
    {
      "cell_type": "markdown",
      "id": "e1f053f9",
      "metadata": {
        "id": "e1f053f9"
      },
      "source": [
        "##### 베이스라인은 참고용 코드 입니다. 여러분 만의 고도화된 모델을 만들어 주세요"
      ]
    },
    {
      "cell_type": "markdown",
      "id": "f7444f30-0883-4a87-8e00-c5e5591a2a26",
      "metadata": {
        "id": "f7444f30-0883-4a87-8e00-c5e5591a2a26"
      },
      "source": [
        "## Import"
      ]
    },
    {
      "cell_type": "code",
      "execution_count": 55,
      "id": "b85832b1-9f31-41e4-b934-cc260e5b3b1d",
      "metadata": {
        "id": "b85832b1-9f31-41e4-b934-cc260e5b3b1d"
      },
      "outputs": [],
      "source": [
        "import pandas as pd\n",
        "import numpy as np\n",
        "from tqdm import tqdm\n",
        "\n",
        "import torch\n",
        "import torch.nn as nn\n",
        "import torch.optim as optim\n",
        "import torch.nn.functional as F\n",
        "from torch.utils.data import Dataset, DataLoader\n",
        "\n",
        "device = torch.device('cuda') if torch.cuda.is_available() else torch.device('cpu')\n",
        "\n",
        "#하이퍼 파라미터\n",
        "CFG = {\n",
        "    'EPOCHS':10,\n",
        "    'LEARNING_RATE':1e-3,\n",
        "    'BATCH_SIZE' : 128\n",
        "}\n"
      ]
    },
    {
      "cell_type": "markdown",
      "id": "7d68c38e",
      "metadata": {
        "id": "7d68c38e"
      },
      "source": [
        "### 데이터 불러오기"
      ]
    },
    {
      "cell_type": "code",
      "execution_count": 56,
      "id": "e3b89389",
      "metadata": {
        "id": "e3b89389",
        "colab": {
          "base_uri": "https://localhost:8080/"
        },
        "outputId": "0892c170-f6e4-4089-e8b3-8ba3e2241de7"
      },
      "outputs": [
        {
          "output_type": "stream",
          "name": "stdout",
          "text": [
            "Drive already mounted at /content/drive; to attempt to forcibly remount, call drive.mount(\"/content/drive\", force_remount=True).\n"
          ]
        }
      ],
      "source": [
        "from google.colab import drive\n",
        "drive.mount('/content/drive')\n",
        "\n",
        "train_data = pd.read_csv(\"/content/drive/MyDrive/data/data/train_data.csv\")\n",
        "sample_submission = pd.read_csv(\"/content/drive/MyDrive/data/data/sample_submission.csv\")\n"
      ]
    },
    {
      "cell_type": "markdown",
      "source": [
        "### 데이터 검사하기\n",
        "각각의 결측치들을 맞게 바꿈\n",
        "filter1 전력이 0 일때는 풍속이 2.5이상일 수 없다. -> \n",
        "전력이 0이고 풍속이 2.5이상일때, 다 풍속 0 으로 바꿨음\n"
      ],
      "metadata": {
        "id": "TufdhWkdbCzY"
      },
      "id": "TufdhWkdbCzY"
    },
    {
      "cell_type": "code",
      "source": [
        "L = ['Wspd','Wdir','Etmp','Itmp','Ndir','Pab1','Pab2','Pab3','Prtv','Patv']\n",
        "#각각의 결측치들을 맞게 바꿈\n",
        "#filter1 전력이 0 일때는 풍속이 2.5이상일 수 없다. -> 전력이 0이고 풍속이 2.5이상일때, 다 풍속 0 으로 바꿨음\n",
        "filter1 = (train_data['Patv']<=0) & (train_data['Wspd']>2.5)\n",
        "\n",
        "#filter2 Pab1,2,3은 각각 89를 초과하면 안된다. -> Pab를 0으로 만들면 안될 것 같아서 NAN으로 만들고 있다가 보간해주기\n",
        "filter2 = (train_data['Pab1']>89)|(train_data['Pab2']>89)|(train_data['Pab3']>89)\n",
        "#train_data['Pab1'][filter2] = np.NAN\n",
        "#train_data['Pab2'][filter2] = np.NAN\n",
        "#train_data['Pab3'][filter2] = np.NAN\n",
        "\n",
        "#filter3 Ndir은 720을 초과하거나 -720보다 작아지면 안된다. 결측값이 별로 없으니까 720으로 나눈 나머지로 해도 될듯\n",
        "filter3 = (train_data['Ndir']>720)|(train_data['Ndir']<-720)\n",
        "#train_data['Ndir'][filter3] = train_data['Ndir'][filter3]%720\n",
        "\n",
        "#filter4 Wdir도 마찬가지\n",
        "filter4 = (train_data['Wdir']>180)|(train_data['Wdir']<-180)\n",
        "#train_data['Wdir'][filter4] = train_data['Wdir'][filter4]%180\n",
        "F_L = [filter1,filter2,filter3,filter4]\n",
        "\n",
        "for i in L:\n",
        "  for j in F_L:\n",
        "    train_data[i][j]= 0"
      ],
      "metadata": {
        "id": "lOyvz6qYa73V",
        "outputId": "7be48512-36ac-444f-b297-4ac4b88e6ad9",
        "colab": {
          "base_uri": "https://localhost:8080/"
        }
      },
      "id": "lOyvz6qYa73V",
      "execution_count": 57,
      "outputs": [
        {
          "output_type": "stream",
          "name": "stderr",
          "text": [
            "/usr/local/lib/python3.7/dist-packages/ipykernel_launcher.py:23: SettingWithCopyWarning: \n",
            "A value is trying to be set on a copy of a slice from a DataFrame\n",
            "\n",
            "See the caveats in the documentation: https://pandas.pydata.org/pandas-docs/stable/user_guide/indexing.html#returning-a-view-versus-a-copy\n"
          ]
        }
      ]
    },
    {
      "cell_type": "markdown",
      "id": "d21e80a6",
      "metadata": {
        "id": "d21e80a6"
      },
      "source": [
        "### 데이터 전처리"
      ]
    },
    {
      "cell_type": "code",
      "execution_count": 58,
      "id": "f71d1927",
      "metadata": {
        "id": "f71d1927"
      },
      "outputs": [],
      "source": [
        "#결측치 0으로 만들기\n",
        "train_data = train_data.fillna(0)\n",
        "\n",
        "#3번째에 결측치를 평균으로 만들어 봄\n",
        "#결측치 평균으로 만들기\n",
        "#train_data = train_data.interpolate(method = 'linear')\n",
        "#train_data = train_data.fillna(0)\n",
        "#Pab1,2,3정리\n",
        "train_data['Pab'] = train_data.loc[:,'Pab1':'Pab3'].median(axis=1) #Pad1,2,3의 중앙값으로 Pad설정\n",
        "train_data.drop(train_data.loc[:,'Pab1':'Pab3'],axis=1,inplace = True) #Pad1,2,3 삭제\n",
        "train_data = train_data.reindex(columns = ['TurbID','Day','Tmstamp','Wspd','Wdir','Etmp','Itmp','Ndir','Pab','Prtv','Patv']) #원래 순서로 행 정렬\n",
        "\n"
      ]
    },
    {
      "cell_type": "code",
      "execution_count": 59,
      "id": "f9b5f8d0",
      "metadata": {
        "id": "f9b5f8d0"
      },
      "outputs": [],
      "source": [
        "def make_train_data(data):\n",
        "    train_x, train_y = [], []\n",
        "    for i in tqdm(sorted(pd.unique(data[\"TurbID\"]))):\n",
        "        tmp_data = data[data[\"TurbID\"] == i]\n",
        "        for j in range(1, 195):\n",
        "            \n",
        "            # train data ==> 5일 단위\n",
        "            # label data ==> 2일 단위\n",
        "            day_list = [x for x in range(j, j+ 5)]\n",
        "            label_day_list = [y for y in range(j+5, j + 7)]\n",
        "            \n",
        "            train_tmp = tmp_data[tmp_data[\"Day\"].isin(day_list)]\n",
        "            label_tmp = tmp_data[tmp_data[\"Day\"].isin(label_day_list)][\"Patv\"]\n",
        "            \n",
        "            # feature 선택 및 제거\n",
        "            train_tmp = train_tmp.drop([\"TurbID\", \"Day\"], axis = 1)\n",
        "            \n",
        "            train_x.append(np.array(train_tmp))\n",
        "            train_y.append(np.array(label_tmp))\n",
        "            \n",
        "    return train_x, train_y"
      ]
    },
    {
      "cell_type": "code",
      "execution_count": 61,
      "id": "0651c3af",
      "metadata": {
        "colab": {
          "base_uri": "https://localhost:8080/"
        },
        "id": "0651c3af",
        "outputId": "ecb2b7b7-c99e-4f50-bdc6-ef9489fa9edb"
      },
      "outputs": [
        {
          "output_type": "stream",
          "name": "stderr",
          "text": [
            "100%|██████████| 134/134 [00:43<00:00,  3.06it/s]\n"
          ]
        }
      ],
      "source": [
        "# Feature 중 Tmstamp 정수로 변환\n",
        "tms_list = list(pd.unique(train_data[\"Tmstamp\"]))\n",
        "\n",
        "train_data[\"Tmstamp\"] = train_data[\"Tmstamp\"].apply(lambda x : tms_list.index(x) + 1)\n",
        "\n",
        "train_x, train_y = make_train_data(train_data)"
      ]
    },
    {
      "cell_type": "code",
      "execution_count": 62,
      "id": "e79b8f87",
      "metadata": {
        "id": "e79b8f87"
      },
      "outputs": [],
      "source": [
        "train_x = np.array(train_x).reshape(-1, train_x[0].shape[0], train_x[0].shape[1])\n",
        "train_y = np.array(train_y)"
      ]
    },
    {
      "cell_type": "code",
      "execution_count": 63,
      "id": "58783120",
      "metadata": {
        "colab": {
          "base_uri": "https://localhost:8080/"
        },
        "id": "58783120",
        "outputId": "d4caf9f5-b9cc-4046-a78c-25a8c0c60b88"
      },
      "outputs": [
        {
          "output_type": "execute_result",
          "data": {
            "text/plain": [
              "((25996, 720, 9), (25996, 288))"
            ]
          },
          "metadata": {},
          "execution_count": 63
        }
      ],
      "source": [
        "train_x.shape, train_y.shape"
      ]
    },
    {
      "cell_type": "markdown",
      "id": "3b2f3d76-fcf4-4866-a578-6bb76783bbed",
      "metadata": {
        "id": "3b2f3d76-fcf4-4866-a578-6bb76783bbed"
      },
      "source": [
        "### Custom Dataset"
      ]
    },
    {
      "cell_type": "code",
      "execution_count": 64,
      "id": "4ec0a970-4d99-486d-b9b5-210f3cdca353",
      "metadata": {
        "id": "4ec0a970-4d99-486d-b9b5-210f3cdca353"
      },
      "outputs": [],
      "source": [
        "class CustomDataset(Dataset):\n",
        "    def __init__(self, X, Y):\n",
        "        self.X = X\n",
        "        self.Y = Y\n",
        "        \n",
        "    def __getitem__(self, index):\n",
        "        if self.Y is not None:\n",
        "            return torch.Tensor(self.X[index]), torch.Tensor(self.Y[index])\n",
        "        return torch.Tensor(self.X[index])\n",
        "    \n",
        "    def __len__(self):\n",
        "        return len(self.X)"
      ]
    },
    {
      "cell_type": "code",
      "execution_count": 65,
      "id": "3614347b-da14-466f-9d04-b81e5448a9bd",
      "metadata": {
        "id": "3614347b-da14-466f-9d04-b81e5448a9bd"
      },
      "outputs": [],
      "source": [
        "train_dataset = CustomDataset(train_x, train_y)\n",
        "train_loader = DataLoader(train_dataset, batch_size = CFG['BATCH_SIZE'], shuffle=True, num_workers=0)"
      ]
    },
    {
      "cell_type": "markdown",
      "id": "c63f0b66-817d-49ff-9163-a975fb0f239d",
      "metadata": {
        "id": "c63f0b66-817d-49ff-9163-a975fb0f239d"
      },
      "source": [
        "### 모델 선언"
      ]
    },
    {
      "cell_type": "code",
      "execution_count": 69,
      "id": "7927d7ef-e6dd-4ac4-8b89-e3a216c37e5a",
      "metadata": {
        "id": "7927d7ef-e6dd-4ac4-8b89-e3a216c37e5a"
      },
      "outputs": [],
      "source": [
        "class BaseModel(nn.Module):\n",
        "    def __init__(self):\n",
        "        super(BaseModel, self).__init__()\n",
        "        self.gru = nn.GRU(input_size=9, hidden_size=256, batch_first=True, bidirectional=False)\n",
        "        self.classifier = nn.Sequential(\n",
        "            nn.Linear(256,516),\n",
        "            nn.ReLU(),\n",
        "            nn.Linear(516,288),\n",
        "            nn.ReLU()\n",
        "        )\n",
        "        \n",
        "    def forward(self, x):\n",
        "        hidden, _ = self.gru(x)\n",
        "        output = self.classifier(hidden[:,-1,:])\n",
        "        return output"
      ]
    },
    {
      "cell_type": "markdown",
      "id": "b4f79f7d",
      "metadata": {
        "id": "b4f79f7d"
      },
      "source": [
        "### 모델 학습"
      ]
    },
    {
      "cell_type": "code",
      "execution_count": 70,
      "id": "ff73d757-32d5-4868-afbb-1b9f2ea13826",
      "metadata": {
        "id": "ff73d757-32d5-4868-afbb-1b9f2ea13826"
      },
      "outputs": [],
      "source": [
        "def train(model, optimizer, train_loader, device):\n",
        "    model.to(device)\n",
        "    criterion = nn.MSELoss().to(device)\n",
        "    metric = nn.L1Loss().to(device)#이게 L1Loss였는데 MSE로 바꿈 첫번째 버전 -> 두번째 버전\n",
        "    best_mae = 9999999\n",
        "    \n",
        "    for epoch in range(1, CFG['EPOCHS']+1):\n",
        "        model.train()\n",
        "        train_loss = []\n",
        "        train_mae = []\n",
        "        for X, Y in tqdm(iter(train_loader)):\n",
        "            X = X.to(device)\n",
        "            Y = Y.to(device)\n",
        "            \n",
        "            optimizer.zero_grad()\n",
        "            \n",
        "            output = model(X)\n",
        "            loss = criterion(output, Y)\n",
        "            with torch.no_grad():\n",
        "                mae = metric(output, Y)\n",
        "            \n",
        "            loss.backward()\n",
        "            optimizer.step()\n",
        "            \n",
        "            train_loss.append(loss.item())\n",
        "            train_mae.append(mae.item())\n",
        "        print(f'Epoch : [{epoch}] Train Loss : [{np.mean(train_loss):.5f}] Train MAE : [{np.mean(train_mae):.5f}]')\n",
        "        \n",
        "        if best_mae > np.mean(train_mae):\n",
        "            best_mae = np.mean(train_mae)\n",
        "            torch.save(model.state_dict(), './best_model.pth', _use_new_zipfile_serialization=False)\n",
        "            print('Model Saved.')"
      ]
    },
    {
      "cell_type": "code",
      "execution_count": 71,
      "id": "a1570b00-a309-4e5e-b53d-5848ba53eb19",
      "metadata": {
        "id": "a1570b00-a309-4e5e-b53d-5848ba53eb19",
        "outputId": "5f05a74d-c0b3-42f0-f598-114158af0a16",
        "colab": {
          "base_uri": "https://localhost:8080/"
        }
      },
      "outputs": [
        {
          "output_type": "stream",
          "name": "stderr",
          "text": [
            "100%|██████████| 204/204 [00:16<00:00, 12.15it/s]\n"
          ]
        },
        {
          "output_type": "stream",
          "name": "stdout",
          "text": [
            "Epoch : [1] Train Loss : [199279.30737] Train MAE : [332.72955]\n",
            "Model Saved.\n"
          ]
        },
        {
          "output_type": "stream",
          "name": "stderr",
          "text": [
            "100%|██████████| 204/204 [00:15<00:00, 12.90it/s]\n"
          ]
        },
        {
          "output_type": "stream",
          "name": "stdout",
          "text": [
            "Epoch : [2] Train Loss : [170880.66843] Train MAE : [319.40701]\n",
            "Model Saved.\n"
          ]
        },
        {
          "output_type": "stream",
          "name": "stderr",
          "text": [
            "100%|██████████| 204/204 [00:16<00:00, 12.70it/s]\n"
          ]
        },
        {
          "output_type": "stream",
          "name": "stdout",
          "text": [
            "Epoch : [3] Train Loss : [156674.63201] Train MAE : [301.83782]\n",
            "Model Saved.\n"
          ]
        },
        {
          "output_type": "stream",
          "name": "stderr",
          "text": [
            "100%|██████████| 204/204 [00:16<00:00, 12.46it/s]\n"
          ]
        },
        {
          "output_type": "stream",
          "name": "stdout",
          "text": [
            "Epoch : [4] Train Loss : [145300.88971] Train MAE : [287.04390]\n",
            "Model Saved.\n"
          ]
        },
        {
          "output_type": "stream",
          "name": "stderr",
          "text": [
            "100%|██████████| 204/204 [00:16<00:00, 12.36it/s]\n"
          ]
        },
        {
          "output_type": "stream",
          "name": "stdout",
          "text": [
            "Epoch : [5] Train Loss : [136795.99728] Train MAE : [275.82757]\n",
            "Model Saved.\n"
          ]
        },
        {
          "output_type": "stream",
          "name": "stderr",
          "text": [
            "100%|██████████| 204/204 [00:16<00:00, 12.36it/s]\n"
          ]
        },
        {
          "output_type": "stream",
          "name": "stdout",
          "text": [
            "Epoch : [6] Train Loss : [131587.48039] Train MAE : [268.84956]\n",
            "Model Saved.\n"
          ]
        },
        {
          "output_type": "stream",
          "name": "stderr",
          "text": [
            "100%|██████████| 204/204 [00:16<00:00, 12.37it/s]\n"
          ]
        },
        {
          "output_type": "stream",
          "name": "stdout",
          "text": [
            "Epoch : [7] Train Loss : [127706.09758] Train MAE : [263.96242]\n",
            "Model Saved.\n"
          ]
        },
        {
          "output_type": "stream",
          "name": "stderr",
          "text": [
            "100%|██████████| 204/204 [00:16<00:00, 12.34it/s]\n"
          ]
        },
        {
          "output_type": "stream",
          "name": "stdout",
          "text": [
            "Epoch : [8] Train Loss : [122622.85823] Train MAE : [257.11344]\n",
            "Model Saved.\n"
          ]
        },
        {
          "output_type": "stream",
          "name": "stderr",
          "text": [
            "100%|██████████| 204/204 [00:16<00:00, 12.34it/s]\n"
          ]
        },
        {
          "output_type": "stream",
          "name": "stdout",
          "text": [
            "Epoch : [9] Train Loss : [117910.24422] Train MAE : [250.87697]\n",
            "Model Saved.\n"
          ]
        },
        {
          "output_type": "stream",
          "name": "stderr",
          "text": [
            "100%|██████████| 204/204 [00:16<00:00, 12.36it/s]"
          ]
        },
        {
          "output_type": "stream",
          "name": "stdout",
          "text": [
            "Epoch : [10] Train Loss : [114838.86401] Train MAE : [246.48635]\n",
            "Model Saved.\n"
          ]
        },
        {
          "output_type": "stream",
          "name": "stderr",
          "text": [
            "\n"
          ]
        }
      ],
      "source": [
        "model = BaseModel()\n",
        "model.eval()\n",
        "optimizer = torch.optim.Adam(params = model.parameters(), lr = CFG[\"LEARNING_RATE\"])\n",
        "train(model, optimizer, train_loader, device)"
      ]
    },
    {
      "cell_type": "markdown",
      "id": "4d51f726",
      "metadata": {
        "id": "4d51f726"
      },
      "source": [
        "### 201일, 202일 Patv 추론"
      ]
    },
    {
      "cell_type": "code",
      "execution_count": 72,
      "id": "a4008519",
      "metadata": {
        "id": "a4008519"
      },
      "outputs": [],
      "source": [
        "test_data_list = [x for x in range(196, 201)]\n",
        "\n",
        "test_data = train_data[train_data[\"Day\"].isin(test_data_list)]\n",
        "\n",
        "test_data = test_data.drop([\"TurbID\", \"Day\"], axis = 1)\n",
        "\n",
        "test_data = np.array(test_data).reshape(-1, train_x[0].shape[0], train_x[0].shape[1])"
      ]
    },
    {
      "cell_type": "code",
      "execution_count": 73,
      "id": "c781b396",
      "metadata": {
        "id": "c781b396",
        "outputId": "9990a839-c28b-44ea-d08e-27bc472969e3",
        "colab": {
          "base_uri": "https://localhost:8080/"
        }
      },
      "outputs": [
        {
          "output_type": "execute_result",
          "data": {
            "text/plain": [
              "(134, 720, 9)"
            ]
          },
          "metadata": {},
          "execution_count": 73
        }
      ],
      "source": [
        "test_data.shape"
      ]
    },
    {
      "cell_type": "code",
      "execution_count": 74,
      "id": "08cffe8c-d5b1-44c1-82de-5d24bba48d8a",
      "metadata": {
        "id": "08cffe8c-d5b1-44c1-82de-5d24bba48d8a"
      },
      "outputs": [],
      "source": [
        "test_dataset = CustomDataset(test_data, None)\n",
        "test_loader = DataLoader(test_dataset, batch_size = CFG['BATCH_SIZE'], shuffle=False, num_workers=0)"
      ]
    },
    {
      "cell_type": "code",
      "execution_count": 75,
      "id": "40fe74ac-8b5b-4e7e-97af-979063004b6f",
      "metadata": {
        "id": "40fe74ac-8b5b-4e7e-97af-979063004b6f"
      },
      "outputs": [],
      "source": [
        "def predict(model, test_loader, device):\n",
        "    model.to(device)\n",
        "    model.eval()\n",
        "    preds = []\n",
        "    with torch.no_grad():\n",
        "        for X in tqdm(iter(test_loader)):\n",
        "            X = X.to(device)\n",
        "            \n",
        "            pred = model(X)\n",
        "            preds += pred.cpu().tolist()\n",
        "    \n",
        "    return np.array(preds)"
      ]
    },
    {
      "cell_type": "markdown",
      "id": "38b0ab2f-8914-4563-88b9-078addd003e2",
      "metadata": {
        "id": "38b0ab2f-8914-4563-88b9-078addd003e2"
      },
      "source": [
        "### Model Load"
      ]
    },
    {
      "cell_type": "code",
      "execution_count": 76,
      "id": "3ad3a476-9985-4935-961a-5b50f2016bd3",
      "metadata": {
        "id": "3ad3a476-9985-4935-961a-5b50f2016bd3",
        "outputId": "2aaa26de-d89c-485b-f9c6-09d80cfe9842",
        "colab": {
          "base_uri": "https://localhost:8080/"
        }
      },
      "outputs": [
        {
          "output_type": "execute_result",
          "data": {
            "text/plain": [
              "BaseModel(\n",
              "  (gru): GRU(9, 256, batch_first=True)\n",
              "  (classifier): Sequential(\n",
              "    (0): Linear(in_features=256, out_features=516, bias=True)\n",
              "    (1): ReLU()\n",
              "    (2): Linear(in_features=516, out_features=288, bias=True)\n",
              "    (3): ReLU()\n",
              "  )\n",
              ")"
            ]
          },
          "metadata": {},
          "execution_count": 76
        }
      ],
      "source": [
        "model = BaseModel()\n",
        "best_checkpoint = torch.load('./best_model.pth')\n",
        "model.load_state_dict(best_checkpoint)\n",
        "model.eval()"
      ]
    },
    {
      "cell_type": "code",
      "execution_count": 77,
      "id": "2bf732e7",
      "metadata": {
        "id": "2bf732e7",
        "outputId": "c678871e-c56c-4ce4-ebf0-49e391867d6e",
        "colab": {
          "base_uri": "https://localhost:8080/"
        }
      },
      "outputs": [
        {
          "output_type": "stream",
          "name": "stderr",
          "text": [
            "100%|██████████| 2/2 [00:00<00:00, 49.25it/s]\n"
          ]
        }
      ],
      "source": [
        "preds = predict(model, test_loader, device)\n",
        "preds = preds.reshape(-1)"
      ]
    },
    {
      "cell_type": "markdown",
      "id": "b515c3d7-b93b-4b4c-8b3d-1a5c9cba86a0",
      "metadata": {
        "id": "b515c3d7-b93b-4b4c-8b3d-1a5c9cba86a0"
      },
      "source": [
        "### Submit"
      ]
    },
    {
      "cell_type": "code",
      "execution_count": 78,
      "id": "49b74e70",
      "metadata": {
        "id": "49b74e70"
      },
      "outputs": [],
      "source": [
        "sample_submission[\"Patv\"] = preds\n",
        "sample_submission.to_csv(\"./submit.csv\", index = False)"
      ]
    },
    {
      "cell_type": "code",
      "source": [
        "sample_submission"
      ],
      "metadata": {
        "id": "9dvbZckrA9m8",
        "outputId": "a922b6c8-e883-4de5-9511-5b0b17b489c3",
        "colab": {
          "base_uri": "https://localhost:8080/",
          "height": 424
        }
      },
      "id": "9dvbZckrA9m8",
      "execution_count": 79,
      "outputs": [
        {
          "output_type": "execute_result",
          "data": {
            "text/plain": [
              "       index  TurbID  Day Tmstamp  Wspd  Wdir  Etmp  Itmp  Ndir  Pab1  Pab2  \\\n",
              "0          0       1  201   00:00     0     0     0     0     0     0     0   \n",
              "1          1       1  201   00:10     0     0     0     0     0     0     0   \n",
              "2          2       1  201   00:20     0     0     0     0     0     0     0   \n",
              "3          3       1  201   00:30     0     0     0     0     0     0     0   \n",
              "4          4       1  201   00:40     0     0     0     0     0     0     0   \n",
              "...      ...     ...  ...     ...   ...   ...   ...   ...   ...   ...   ...   \n",
              "38587  38587     134  202   23:10     0     0     0     0     0     0     0   \n",
              "38588  38588     134  202   23:20     0     0     0     0     0     0     0   \n",
              "38589  38589     134  202   23:30     0     0     0     0     0     0     0   \n",
              "38590  38590     134  202   23:40     0     0     0     0     0     0     0   \n",
              "38591  38591     134  202   23:50     0     0     0     0     0     0     0   \n",
              "\n",
              "       Pab3  Prtv        Patv  \n",
              "0         0     0   74.965027  \n",
              "1         0     0  114.534584  \n",
              "2         0     0  136.605927  \n",
              "3         0     0  158.272079  \n",
              "4         0     0  176.143951  \n",
              "...     ...   ...         ...  \n",
              "38587     0     0  245.251862  \n",
              "38588     0     0  235.895508  \n",
              "38589     0     0  225.480789  \n",
              "38590     0     0  242.134735  \n",
              "38591     0     0  246.212341  \n",
              "\n",
              "[38592 rows x 14 columns]"
            ],
            "text/html": [
              "\n",
              "  <div id=\"df-18c90e5a-fb81-4bcb-84b2-44b01973c366\">\n",
              "    <div class=\"colab-df-container\">\n",
              "      <div>\n",
              "<style scoped>\n",
              "    .dataframe tbody tr th:only-of-type {\n",
              "        vertical-align: middle;\n",
              "    }\n",
              "\n",
              "    .dataframe tbody tr th {\n",
              "        vertical-align: top;\n",
              "    }\n",
              "\n",
              "    .dataframe thead th {\n",
              "        text-align: right;\n",
              "    }\n",
              "</style>\n",
              "<table border=\"1\" class=\"dataframe\">\n",
              "  <thead>\n",
              "    <tr style=\"text-align: right;\">\n",
              "      <th></th>\n",
              "      <th>index</th>\n",
              "      <th>TurbID</th>\n",
              "      <th>Day</th>\n",
              "      <th>Tmstamp</th>\n",
              "      <th>Wspd</th>\n",
              "      <th>Wdir</th>\n",
              "      <th>Etmp</th>\n",
              "      <th>Itmp</th>\n",
              "      <th>Ndir</th>\n",
              "      <th>Pab1</th>\n",
              "      <th>Pab2</th>\n",
              "      <th>Pab3</th>\n",
              "      <th>Prtv</th>\n",
              "      <th>Patv</th>\n",
              "    </tr>\n",
              "  </thead>\n",
              "  <tbody>\n",
              "    <tr>\n",
              "      <th>0</th>\n",
              "      <td>0</td>\n",
              "      <td>1</td>\n",
              "      <td>201</td>\n",
              "      <td>00:00</td>\n",
              "      <td>0</td>\n",
              "      <td>0</td>\n",
              "      <td>0</td>\n",
              "      <td>0</td>\n",
              "      <td>0</td>\n",
              "      <td>0</td>\n",
              "      <td>0</td>\n",
              "      <td>0</td>\n",
              "      <td>0</td>\n",
              "      <td>74.965027</td>\n",
              "    </tr>\n",
              "    <tr>\n",
              "      <th>1</th>\n",
              "      <td>1</td>\n",
              "      <td>1</td>\n",
              "      <td>201</td>\n",
              "      <td>00:10</td>\n",
              "      <td>0</td>\n",
              "      <td>0</td>\n",
              "      <td>0</td>\n",
              "      <td>0</td>\n",
              "      <td>0</td>\n",
              "      <td>0</td>\n",
              "      <td>0</td>\n",
              "      <td>0</td>\n",
              "      <td>0</td>\n",
              "      <td>114.534584</td>\n",
              "    </tr>\n",
              "    <tr>\n",
              "      <th>2</th>\n",
              "      <td>2</td>\n",
              "      <td>1</td>\n",
              "      <td>201</td>\n",
              "      <td>00:20</td>\n",
              "      <td>0</td>\n",
              "      <td>0</td>\n",
              "      <td>0</td>\n",
              "      <td>0</td>\n",
              "      <td>0</td>\n",
              "      <td>0</td>\n",
              "      <td>0</td>\n",
              "      <td>0</td>\n",
              "      <td>0</td>\n",
              "      <td>136.605927</td>\n",
              "    </tr>\n",
              "    <tr>\n",
              "      <th>3</th>\n",
              "      <td>3</td>\n",
              "      <td>1</td>\n",
              "      <td>201</td>\n",
              "      <td>00:30</td>\n",
              "      <td>0</td>\n",
              "      <td>0</td>\n",
              "      <td>0</td>\n",
              "      <td>0</td>\n",
              "      <td>0</td>\n",
              "      <td>0</td>\n",
              "      <td>0</td>\n",
              "      <td>0</td>\n",
              "      <td>0</td>\n",
              "      <td>158.272079</td>\n",
              "    </tr>\n",
              "    <tr>\n",
              "      <th>4</th>\n",
              "      <td>4</td>\n",
              "      <td>1</td>\n",
              "      <td>201</td>\n",
              "      <td>00:40</td>\n",
              "      <td>0</td>\n",
              "      <td>0</td>\n",
              "      <td>0</td>\n",
              "      <td>0</td>\n",
              "      <td>0</td>\n",
              "      <td>0</td>\n",
              "      <td>0</td>\n",
              "      <td>0</td>\n",
              "      <td>0</td>\n",
              "      <td>176.143951</td>\n",
              "    </tr>\n",
              "    <tr>\n",
              "      <th>...</th>\n",
              "      <td>...</td>\n",
              "      <td>...</td>\n",
              "      <td>...</td>\n",
              "      <td>...</td>\n",
              "      <td>...</td>\n",
              "      <td>...</td>\n",
              "      <td>...</td>\n",
              "      <td>...</td>\n",
              "      <td>...</td>\n",
              "      <td>...</td>\n",
              "      <td>...</td>\n",
              "      <td>...</td>\n",
              "      <td>...</td>\n",
              "      <td>...</td>\n",
              "    </tr>\n",
              "    <tr>\n",
              "      <th>38587</th>\n",
              "      <td>38587</td>\n",
              "      <td>134</td>\n",
              "      <td>202</td>\n",
              "      <td>23:10</td>\n",
              "      <td>0</td>\n",
              "      <td>0</td>\n",
              "      <td>0</td>\n",
              "      <td>0</td>\n",
              "      <td>0</td>\n",
              "      <td>0</td>\n",
              "      <td>0</td>\n",
              "      <td>0</td>\n",
              "      <td>0</td>\n",
              "      <td>245.251862</td>\n",
              "    </tr>\n",
              "    <tr>\n",
              "      <th>38588</th>\n",
              "      <td>38588</td>\n",
              "      <td>134</td>\n",
              "      <td>202</td>\n",
              "      <td>23:20</td>\n",
              "      <td>0</td>\n",
              "      <td>0</td>\n",
              "      <td>0</td>\n",
              "      <td>0</td>\n",
              "      <td>0</td>\n",
              "      <td>0</td>\n",
              "      <td>0</td>\n",
              "      <td>0</td>\n",
              "      <td>0</td>\n",
              "      <td>235.895508</td>\n",
              "    </tr>\n",
              "    <tr>\n",
              "      <th>38589</th>\n",
              "      <td>38589</td>\n",
              "      <td>134</td>\n",
              "      <td>202</td>\n",
              "      <td>23:30</td>\n",
              "      <td>0</td>\n",
              "      <td>0</td>\n",
              "      <td>0</td>\n",
              "      <td>0</td>\n",
              "      <td>0</td>\n",
              "      <td>0</td>\n",
              "      <td>0</td>\n",
              "      <td>0</td>\n",
              "      <td>0</td>\n",
              "      <td>225.480789</td>\n",
              "    </tr>\n",
              "    <tr>\n",
              "      <th>38590</th>\n",
              "      <td>38590</td>\n",
              "      <td>134</td>\n",
              "      <td>202</td>\n",
              "      <td>23:40</td>\n",
              "      <td>0</td>\n",
              "      <td>0</td>\n",
              "      <td>0</td>\n",
              "      <td>0</td>\n",
              "      <td>0</td>\n",
              "      <td>0</td>\n",
              "      <td>0</td>\n",
              "      <td>0</td>\n",
              "      <td>0</td>\n",
              "      <td>242.134735</td>\n",
              "    </tr>\n",
              "    <tr>\n",
              "      <th>38591</th>\n",
              "      <td>38591</td>\n",
              "      <td>134</td>\n",
              "      <td>202</td>\n",
              "      <td>23:50</td>\n",
              "      <td>0</td>\n",
              "      <td>0</td>\n",
              "      <td>0</td>\n",
              "      <td>0</td>\n",
              "      <td>0</td>\n",
              "      <td>0</td>\n",
              "      <td>0</td>\n",
              "      <td>0</td>\n",
              "      <td>0</td>\n",
              "      <td>246.212341</td>\n",
              "    </tr>\n",
              "  </tbody>\n",
              "</table>\n",
              "<p>38592 rows × 14 columns</p>\n",
              "</div>\n",
              "      <button class=\"colab-df-convert\" onclick=\"convertToInteractive('df-18c90e5a-fb81-4bcb-84b2-44b01973c366')\"\n",
              "              title=\"Convert this dataframe to an interactive table.\"\n",
              "              style=\"display:none;\">\n",
              "        \n",
              "  <svg xmlns=\"http://www.w3.org/2000/svg\" height=\"24px\"viewBox=\"0 0 24 24\"\n",
              "       width=\"24px\">\n",
              "    <path d=\"M0 0h24v24H0V0z\" fill=\"none\"/>\n",
              "    <path d=\"M18.56 5.44l.94 2.06.94-2.06 2.06-.94-2.06-.94-.94-2.06-.94 2.06-2.06.94zm-11 1L8.5 8.5l.94-2.06 2.06-.94-2.06-.94L8.5 2.5l-.94 2.06-2.06.94zm10 10l.94 2.06.94-2.06 2.06-.94-2.06-.94-.94-2.06-.94 2.06-2.06.94z\"/><path d=\"M17.41 7.96l-1.37-1.37c-.4-.4-.92-.59-1.43-.59-.52 0-1.04.2-1.43.59L10.3 9.45l-7.72 7.72c-.78.78-.78 2.05 0 2.83L4 21.41c.39.39.9.59 1.41.59.51 0 1.02-.2 1.41-.59l7.78-7.78 2.81-2.81c.8-.78.8-2.07 0-2.86zM5.41 20L4 18.59l7.72-7.72 1.47 1.35L5.41 20z\"/>\n",
              "  </svg>\n",
              "      </button>\n",
              "      \n",
              "  <style>\n",
              "    .colab-df-container {\n",
              "      display:flex;\n",
              "      flex-wrap:wrap;\n",
              "      gap: 12px;\n",
              "    }\n",
              "\n",
              "    .colab-df-convert {\n",
              "      background-color: #E8F0FE;\n",
              "      border: none;\n",
              "      border-radius: 50%;\n",
              "      cursor: pointer;\n",
              "      display: none;\n",
              "      fill: #1967D2;\n",
              "      height: 32px;\n",
              "      padding: 0 0 0 0;\n",
              "      width: 32px;\n",
              "    }\n",
              "\n",
              "    .colab-df-convert:hover {\n",
              "      background-color: #E2EBFA;\n",
              "      box-shadow: 0px 1px 2px rgba(60, 64, 67, 0.3), 0px 1px 3px 1px rgba(60, 64, 67, 0.15);\n",
              "      fill: #174EA6;\n",
              "    }\n",
              "\n",
              "    [theme=dark] .colab-df-convert {\n",
              "      background-color: #3B4455;\n",
              "      fill: #D2E3FC;\n",
              "    }\n",
              "\n",
              "    [theme=dark] .colab-df-convert:hover {\n",
              "      background-color: #434B5C;\n",
              "      box-shadow: 0px 1px 3px 1px rgba(0, 0, 0, 0.15);\n",
              "      filter: drop-shadow(0px 1px 2px rgba(0, 0, 0, 0.3));\n",
              "      fill: #FFFFFF;\n",
              "    }\n",
              "  </style>\n",
              "\n",
              "      <script>\n",
              "        const buttonEl =\n",
              "          document.querySelector('#df-18c90e5a-fb81-4bcb-84b2-44b01973c366 button.colab-df-convert');\n",
              "        buttonEl.style.display =\n",
              "          google.colab.kernel.accessAllowed ? 'block' : 'none';\n",
              "\n",
              "        async function convertToInteractive(key) {\n",
              "          const element = document.querySelector('#df-18c90e5a-fb81-4bcb-84b2-44b01973c366');\n",
              "          const dataTable =\n",
              "            await google.colab.kernel.invokeFunction('convertToInteractive',\n",
              "                                                     [key], {});\n",
              "          if (!dataTable) return;\n",
              "\n",
              "          const docLinkHtml = 'Like what you see? Visit the ' +\n",
              "            '<a target=\"_blank\" href=https://colab.research.google.com/notebooks/data_table.ipynb>data table notebook</a>'\n",
              "            + ' to learn more about interactive tables.';\n",
              "          element.innerHTML = '';\n",
              "          dataTable['output_type'] = 'display_data';\n",
              "          await google.colab.output.renderOutput(dataTable, element);\n",
              "          const docLink = document.createElement('div');\n",
              "          docLink.innerHTML = docLinkHtml;\n",
              "          element.appendChild(docLink);\n",
              "        }\n",
              "      </script>\n",
              "    </div>\n",
              "  </div>\n",
              "  "
            ]
          },
          "metadata": {},
          "execution_count": 79
        }
      ]
    },
    {
      "cell_type": "code",
      "source": [
        "sample_submission['Patv'].describe()"
      ],
      "metadata": {
        "id": "Q540q4QPEy-f",
        "outputId": "97339446-726f-4829-d922-13ba8d3622d1",
        "colab": {
          "base_uri": "https://localhost:8080/"
        }
      },
      "id": "Q540q4QPEy-f",
      "execution_count": 80,
      "outputs": [
        {
          "output_type": "execute_result",
          "data": {
            "text/plain": [
              "count    38592.000000\n",
              "mean       145.416004\n",
              "std        106.453450\n",
              "min          0.000000\n",
              "25%         70.795227\n",
              "50%        134.554695\n",
              "75%        205.996689\n",
              "max        680.791565\n",
              "Name: Patv, dtype: float64"
            ]
          },
          "metadata": {},
          "execution_count": 80
        }
      ]
    },
    {
      "cell_type": "code",
      "source": [
        "train_data['Patv'].describe()"
      ],
      "metadata": {
        "id": "EXcVgBBuJaN3",
        "outputId": "3d13fd3d-853e-4d11-893d-1d9d1966508d",
        "colab": {
          "base_uri": "https://localhost:8080/"
        }
      },
      "id": "EXcVgBBuJaN3",
      "execution_count": 81,
      "outputs": [
        {
          "output_type": "execute_result",
          "data": {
            "text/plain": [
              "count    3.859200e+06\n",
              "mean     3.547034e+02\n",
              "std      4.252413e+02\n",
              "min      0.000000e+00\n",
              "25%      0.000000e+00\n",
              "50%      1.856800e+02\n",
              "75%      5.579225e+02\n",
              "max      1.567020e+03\n",
              "Name: Patv, dtype: float64"
            ]
          },
          "metadata": {},
          "execution_count": 81
        }
      ]
    },
    {
      "cell_type": "code",
      "source": [
        "train_data['Patv'].tail(288)"
      ],
      "metadata": {
        "id": "YFpW4AlPJlhd",
        "outputId": "327dcab6-afd0-40dd-e25d-0830ea90cf27",
        "colab": {
          "base_uri": "https://localhost:8080/"
        }
      },
      "id": "YFpW4AlPJlhd",
      "execution_count": 82,
      "outputs": [
        {
          "output_type": "execute_result",
          "data": {
            "text/plain": [
              "3858912    1351.26\n",
              "3858913    1241.45\n",
              "3858914    1511.15\n",
              "3858915    1517.90\n",
              "3858916    1518.11\n",
              "            ...   \n",
              "3859195     308.65\n",
              "3859196     221.60\n",
              "3859197     220.60\n",
              "3859198     222.15\n",
              "3859199     264.17\n",
              "Name: Patv, Length: 288, dtype: float64"
            ]
          },
          "metadata": {},
          "execution_count": 82
        }
      ]
    },
    {
      "cell_type": "code",
      "source": [
        ""
      ],
      "metadata": {
        "id": "q2qiIq3RsE0O"
      },
      "id": "q2qiIq3RsE0O",
      "execution_count": 82,
      "outputs": []
    }
  ],
  "metadata": {
    "kernelspec": {
      "display_name": "Python 3 (ipykernel)",
      "language": "python",
      "name": "python3"
    },
    "language_info": {
      "codemirror_mode": {
        "name": "ipython",
        "version": 3
      },
      "file_extension": ".py",
      "mimetype": "text/x-python",
      "name": "python",
      "nbconvert_exporter": "python",
      "pygments_lexer": "ipython3",
      "version": "3.8.3"
    },
    "colab": {
      "name": "gru를 활용한 버전.ipynb",
      "provenance": [],
      "collapsed_sections": [],
      "include_colab_link": true
    },
    "accelerator": "GPU",
    "gpuClass": "standard"
  },
  "nbformat": 4,
  "nbformat_minor": 5
}